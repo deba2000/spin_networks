{
 "metadata": {
  "name": "ising2D"
 },
 "nbformat": 3,
 "nbformat_minor": 0,
 "worksheets": [
  {
   "cells": [
    {
     "cell_type": "code",
     "collapsed": false,
     "input": [
      "# simulates ising model as function of time\n",
      "# takes time steps using Metropolis-Hastings algorithm w/ Boltzmann probability dist."
     ],
     "language": "python",
     "metadata": {},
     "outputs": []
    },
    {
     "cell_type": "code",
     "collapsed": false,
     "input": [
      "import math\n",
      "import numpy as np\n",
      "import matplotlib.pyplot as plt\n",
      "import matplotlib.animation as animation"
     ],
     "language": "python",
     "metadata": {},
     "outputs": [],
     "prompt_number": 1
    },
    {
     "cell_type": "code",
     "collapsed": false,
     "input": [
      "# set model parameters\n",
      "T = 1.0\n",
      "h = 0.0  # external applied magnetic field\n",
      "N = 32  # sqrt number of spins, square lattice for now\n",
      "\n",
      "# now build up connection strengths.\n",
      "# each strength is either + (paramagnetic) or - (ferromagnetic), also symmetric (Jij = Jji)\n",
      "# nearest-neighbor interactions only, for now; all strengths equal\n",
      "# self-interaction is zero (i.e. diag. entries are zero)\n",
      "J0 = -10.0\n",
      "J = np.zeros(shape=(N*N,N*N))\n",
      "a = np.eye(N*N-1)*J0\n",
      "b = np.eye(N*N-N)*J0\n",
      "J[1:,:-1] += a\n",
      "J[:-1,1:] += a\n",
      "J[N:,:-N] += b\n",
      "J[:-N,N:] += b\n",
      "\n",
      "# Hamiltonian\n",
      "def H(state, J, h):\n",
      "    return np.einsum('ij,i,j', J, state, state) - h*np.sum(state)\n",
      "\n",
      "# mixing entropy\n",
      "def S(state):\n",
      "    m = np.sum(state)\n",
      "    N = len(state)\n",
      "    Nup = (N + m)/2\n",
      "    #return np.log(math.factorial(N) / (math.factorial(Nup)*math.factorial(N-Nup)))\n",
      "    return N*np.log(N)-N - Nup*np.log(Nup)+Nup - (N-Nup)*np.log(N-Nup) + (N-Nup)\n",
      "\n",
      "# free energy\n",
      "def F(state, T, J, h):\n",
      "    return H(state, J, h) - T*S(state)"
     ],
     "language": "python",
     "metadata": {},
     "outputs": [],
     "prompt_number": 39
    },
    {
     "cell_type": "code",
     "collapsed": false,
     "input": [
      "# initialize state\n",
      "\"\"\"s = np.array([[1,1,1,1,-1,-1,-1,-1],\n",
      "               [1,1,1,1,-1,-1,-1,-1],\n",
      "               [1,1,1,1,-1,-1,-1,-1],\n",
      "               [1,1,1,1,-1,-1,-1,-1],\n",
      "               [1,1,1,1,-1,-1,-1,-1],\n",
      "               [1,1,1,1,-1,-1,-1,-1],\n",
      "               [1,1,1,1,-1,-1,-1,-1],\n",
      "               [1,1,1,1,-1,-1,-1,-1]])\"\"\"\n",
      "\"\"\"s0 = np.array([[1,-1,1,1,-1,-1,-1,-1],\n",
      "               [1,1,-1,1,-1,-1,-1,-1],\n",
      "               [-1,1,1,1,-1,-1,-1,-1],\n",
      "               [1,-1,1,1,-1,-1,-1,-1],\n",
      "               [1,-1,1,1,-1,-1,-1,-1],\n",
      "               [1,1,-1,1,-1,-1,-1,-1],\n",
      "               [-1,1,1,1,-1,-1,-1,-1],\n",
      "               [1,-1,1,1,-1,-1,-1,-1]])\"\"\"\n",
      "s = np.array((np.random.randint(0, 2, N*N) - 0.5) * 2, dtype='int').reshape((N,N))\n",
      "sflat = s.flatten()\n",
      "\n",
      "fig = plt.figure()\n",
      "# with winter colormap, GREEN is UP and BLUE is DOWN\n",
      "im = plt.imshow(s, extent=(0,N+1,0,N+1), cmap=plt.get_cmap('winter'), interpolation='none')\n",
      "\n",
      "# acceptance ratio initialization\n",
      "# will be dynamically tracked throughout relaxation\n",
      "acc = 1.0\n",
      "rej = 1.0\n",
      "Ndraw = N\n",
      "    \n",
      "# now start to evolve the system\n",
      "def updatefig(*args):\n",
      "    global T\n",
      "    global J\n",
      "    global h\n",
      "    global sflat\n",
      "    global Ndraw\n",
      "    global acc\n",
      "    global rej\n",
      "    \n",
      "    aold = acc/(acc+rej)\n",
      "    Eold = H(sflat, J, h)\n",
      "    \n",
      "    while True:\n",
      "        posdraw = np.random.randint(0, N*N, size=(Ndraw,))\n",
      "        \n",
      "        # flip chosen spins (note: some might be flipped 2, 3, etc. times)\n",
      "        for i in range(Ndraw):\n",
      "            sflat[posdraw[i]] *= -1\n",
      "        \n",
      "        Enew = H(sflat, J, h)\n",
      "        if Enew <= Eold:\n",
      "            acc += 1.0\n",
      "            if acc/(acc+rej) >= aold:\n",
      "                Ndraw += 1\n",
      "            if Ndraw >= 2 and acc/(acc+rej) < aold:\n",
      "                Ndraw -= 1\n",
      "            break\n",
      "        else:\n",
      "            draw = np.random.random_sample()\n",
      "            if np.exp(-(1.0/T)*(Enew - Eold)) > draw:\n",
      "                acc += 1.0\n",
      "                if acc/(acc+rej) >= aold:\n",
      "                    Ndraw += 1\n",
      "                elif Ndraw >= 2 and acc/(acc+rej) < aold:\n",
      "                    Ndraw -= 1\n",
      "                break\n",
      "            else:\n",
      "                for i in range(Ndraw):\n",
      "                    sflat[posdraw[i]] *= -1\n",
      "                rej += 1.0\n",
      "                if acc/(acc+rej) >= aold:\n",
      "                    Ndraw += 1\n",
      "                if Ndraw >= 2 and acc/(acc+rej) < aold:\n",
      "                    Ndraw -= 1\n",
      "                continue\n",
      "    \n",
      "    #print acc/(acc+rej)\n",
      "    #print Ndraw\n",
      "    im.set_array(sflat.reshape(N,N))\n",
      "    return im,\n",
      "\n",
      "ani = animation.FuncAnimation(fig, updatefig, blit=True)\n",
      "plt.show()"
     ],
     "language": "python",
     "metadata": {},
     "outputs": [],
     "prompt_number": 40
    },
    {
     "cell_type": "code",
     "collapsed": false,
     "input": [
      "plt.close()"
     ],
     "language": "python",
     "metadata": {},
     "outputs": [],
     "prompt_number": 18
    },
    {
     "cell_type": "code",
     "collapsed": false,
     "input": [
      "print acc\n",
      "print rej\n",
      "print Ndraw"
     ],
     "language": "python",
     "metadata": {},
     "outputs": [
      {
       "output_type": "stream",
       "stream": "stdout",
       "text": [
        "97765.0\n",
        "118889.0\n",
        "1\n"
       ]
      }
     ],
     "prompt_number": 15
    },
    {
     "cell_type": "code",
     "collapsed": false,
     "input": [
      "%timeit acc/(acc+rej)"
     ],
     "language": "python",
     "metadata": {},
     "outputs": [
      {
       "output_type": "stream",
       "stream": "stdout",
       "text": [
        "10000000 loops, best of 3: 181 ns per loop\n"
       ]
      }
     ],
     "prompt_number": 16
    },
    {
     "cell_type": "code",
     "collapsed": false,
     "input": [],
     "language": "python",
     "metadata": {},
     "outputs": []
    }
   ],
   "metadata": {}
  }
 ]
}