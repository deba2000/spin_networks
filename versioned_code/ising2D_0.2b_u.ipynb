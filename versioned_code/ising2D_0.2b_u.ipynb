{
 "metadata": {
  "name": "ising2D_0.2b_u"
 },
 "nbformat": 3,
 "nbformat_minor": 0,
 "worksheets": [
  {
   "cells": [
    {
     "cell_type": "code",
     "collapsed": false,
     "input": [
      "# simulates ising model as function of time\n",
      "# takes time steps using Metropolis-Hastings algorithm w/ Boltzmann probability dist."
     ],
     "language": "python",
     "metadata": {},
     "outputs": [],
     "prompt_number": 3
    },
    {
     "cell_type": "code",
     "collapsed": false,
     "input": [
      "import math\n",
      "import numpy as np\n",
      "import matplotlib.pyplot as plt\n",
      "import matplotlib.animation as animation"
     ],
     "language": "python",
     "metadata": {},
     "outputs": [],
     "prompt_number": 1
    },
    {
     "cell_type": "code",
     "collapsed": false,
     "input": [
      "# URI ADDED VER 0.1b_u\n",
      "# measure of Domainyness\n",
      "\n",
      "#takes array of spins in NxN ones and zeros\n",
      "def meas_domain(spins):\n",
      "    xboundaries = spins[:,1:]!= spins[:,:-1]\n",
      "    yboundaries = spins[1:,:]!= spins[:-1,:]\n",
      "    bound = np.zeros((N,N))\n",
      "    bound[:,1:] += xboundaries \n",
      "    bound[1:,:] += yboundaries\n",
      "    return np.sum(bound)\n",
      "\n"
     ],
     "language": "python",
     "metadata": {},
     "outputs": [],
     "prompt_number": 2
    },
    {
     "cell_type": "code",
     "collapsed": false,
     "input": [
      "# URI ADDDED 0.1 \n",
      "# works best with N divisible by cg (course-graining size)\n",
      "# Count probability of finding a +1 spin in each cg x cg box\n",
      "\n",
      "cg = 4\n",
      "def entropy(s):\n",
      "    prob1 = np.zeros((N/cg,N/cg))\n",
      "    prob2 = np.zeros((N/cg,N/cg))\n",
      "    \n",
      "    for i in range(cg):\n",
      "        for j in range(cg):\n",
      "            prob1 += s[i::cg,j::cg]== 1\n",
      "            prob2 += s[i::cg,j::cg]== -1\n",
      "            \n",
      "    prob1 = prob1/N\n",
      "    prob2 = prob2/N\n",
      "    \n",
      "    ent1 = prob1*np.log(prob1)\n",
      "    ent1[prob1==0] = 0\n",
      "    \n",
      "    ent2 = prob2*np.log(prob2)\n",
      "    ent2[prob2==0] = 0\n",
      "    \n",
      "    ent = -np.sum(ent1)-np.sum(2)\n",
      "    return ent"
     ],
     "language": "python",
     "metadata": {},
     "outputs": [],
     "prompt_number": 3
    },
    {
     "cell_type": "code",
     "collapsed": false,
     "input": [
      "i = 1\n",
      "a = np.array([1, 2, 3, 4, 5])\n",
      "a[i::2]"
     ],
     "language": "python",
     "metadata": {},
     "outputs": [
      {
       "output_type": "pyout",
       "prompt_number": 78,
       "text": [
        "array([2, 4])"
       ]
      }
     ],
     "prompt_number": 78
    },
    {
     "cell_type": "code",
     "collapsed": false,
     "input": [
      "# set model parameters\n",
      "T = 100.0\n",
      "h = 0.0  # external applied magnetic field\n",
      "N = 24  # sqrt number of spins, square lattice for now\n",
      "\n",
      "# now build up connection strengths.\n",
      "# each strength is either + (paramagnetic) or - (ferromagnetic), also symmetric (Jij = Jji)\n",
      "# nearest-neighbor interactions only, for now; all strengths equal\n",
      "# self-interaction is zero (i.e. diag. entries are zero)\n",
      "J0 = -10.0\n",
      "J = np.zeros(shape=(N*N,N*N))\n",
      "a = np.eye(N*N-1)\n",
      "b = np.eye(N*N-N)\n",
      "J[1:,:-1] += a * J0\n",
      "J[:-1,1:] += a * J0\n",
      "J[N:,:-N] += b * J0 \n",
      "#J[:-N,N:] += b * J0\n",
      "\n",
      "# Hamiltonian\n",
      "def H(state, J, h):\n",
      "    return np.einsum('ij,i,j', J, state, state) - h*np.sum(state)\n",
      "\n",
      "# mixing entropy\n",
      "def S(state):\n",
      "    m = np.sum(state)\n",
      "    N = np.size(state)\n",
      "    Nup = (N + m)/2\n",
      "    #return np.log(math.factorial(N) / (math.factorial(Nup)*math.factorial(N-Nup)))\n",
      "    \"\"\"\n",
      "    print 'N = ' + str(N)\n",
      "    print 'm = ' + str(m)\n",
      "    print 'Nup = ' + str(Nup)\n",
      "    \"\"\" \n",
      "    \n",
      "    return N*np.log(N)-N - Nup*np.log(Nup)+Nup - (N-Nup)*np.log(N-Nup) + (N-Nup)\n",
      "\n",
      "# free energy\n",
      "def F(state, T, J, h):\n",
      "    return H(state, J, h) - T*S(state)"
     ],
     "language": "python",
     "metadata": {},
     "outputs": [],
     "prompt_number": 9
    },
    {
     "cell_type": "code",
     "collapsed": false,
     "input": [
      "a = np.array([[1,2,3],[4,5,6]])\n",
      "print a\n",
      "print a.size"
     ],
     "language": "python",
     "metadata": {},
     "outputs": [
      {
       "output_type": "stream",
       "stream": "stdout",
       "text": [
        "[[1 2 3]\n",
        " [4 5 6]]\n",
        "6\n"
       ]
      }
     ],
     "prompt_number": 17
    },
    {
     "cell_type": "code",
     "collapsed": false,
     "input": [
      "# initialize state\n",
      "\"\"\"s = np.array([[1,1,1,1,-1,-1,-1,-1],\n",
      "               [1,1,1,1,-1,-1,-1,-1],\n",
      "               [1,1,1,1,-1,-1,-1,-1],\n",
      "               [1,1,1,1,-1,-1,-1,-1],\n",
      "               [1,1,1,1,-1,-1,-1,-1],\n",
      "               [1,1,1,1,-1,-1,-1,-1],\n",
      "               [1,1,1,1,-1,-1,-1,-1],\n",
      "               [1,1,1,1,-1,-1,-1,-1]])\"\"\"\n",
      "\"\"\"s0 = np.array([[1,-1,1,1,-1,-1,-1,-1],\n",
      "               [1,1,-1,1,-1,-1,-1,-1],\n",
      "               [-1,1,1,1,-1,-1,-1,-1],\n",
      "               [1,-1,1,1,-1,-1,-1,-1],\n",
      "               [1,-1,1,1,-1,-1,-1,-1],\n",
      "               [1,1,-1,1,-1,-1,-1,-1],\n",
      "               [-1,1,1,1,-1,-1,-1,-1],\n",
      "               [1,-1,1,1,-1,-1,-1,-1]])\"\"\"\n",
      "s = np.array((np.random.randint(0, 2, N*N) - 0.5) * 2, dtype='int').reshape((N,N))\n",
      "sflat = s.flatten()\n",
      "\n",
      "fig = plt.figure()\n",
      "# with winter colormap, GREEN is UP and BLUE is DOWN\n",
      "im = plt.imshow(s, extent=(0,N+1,0,N+1), cmap=plt.get_cmap('winter'), interpolation='none')\n",
      "\n",
      "# acceptance ratio initialization\n",
      "# will be dynamically tracked throughout relaxation\n",
      "acc = 1.0\n",
      "rej = 1.0\n",
      "Ndraw = N\n",
      "boundaries = meas_domain(s)\n",
      "total_m = np.sum(s)\n",
      "entrop = 0\n",
      "\n",
      "# now start to evolve the system\n",
      "def updatefig(*args):\n",
      "    global T\n",
      "    global J\n",
      "    global h\n",
      "    global sflat\n",
      "    global Ndraw\n",
      "    global acc\n",
      "    global rej\n",
      "    global boundaries\n",
      "    global total_m\n",
      "    global entrop\n",
      "    \n",
      "    aold = acc/rej\n",
      "    Eold = H(sflat, J, h)\n",
      "    \n",
      "    while True:\n",
      "        posdraw = np.sort(np.random.randint(0, N*N, size=(Ndraw,)))\n",
      "        # flip chosen spins (note: some might be flipped 2, 3, etc. times)\n",
      "        for i in range(Ndraw):\n",
      "            sflat[posdraw[i]] *= -1\n",
      "        \n",
      "        Enew = H(sflat, J, h)\n",
      "        if Enew <= Eold:\n",
      "            acc += 1.0\n",
      "            if acc/rej >= aold:\n",
      "                Ndraw += 1\n",
      "            if Ndraw >= 2:\n",
      "                Ndraw -= 1\n",
      "            break\n",
      "        else:\n",
      "            draw = np.random.random_sample()\n",
      "            if np.exp(-(1.0/T)*(Enew - Eold)) > draw:\n",
      "                acc += 1.0\n",
      "                if acc/rej >= aold:\n",
      "                    Ndraw += 1\n",
      "                if Ndraw >= 2:\n",
      "                    Ndraw -= 1\n",
      "                break\n",
      "            else:\n",
      "                for i in range(Ndraw):\n",
      "                    sflat[posdraw[i]] *= -1\n",
      "                rej += 1.0\n",
      "                if acc/rej >= aold:\n",
      "                    Ndraw += 1\n",
      "                if Ndraw >= 2:\n",
      "                    Ndraw -= 1\n",
      "                continue\n",
      "    s = sflat.reshape(N,N)\n",
      "    \n",
      "   # print acc/rej\n",
      "    #print Ndraw\n",
      "    \n",
      "    #print meas_domain(s)\n",
      "    boundaries = np.append(boundaries, meas_domain(s))\n",
      "    total_m = np.append(total_m,np.sum(s))\n",
      "    entrop = np.append(entrop,entropy(s))\n",
      "    print meas_domain(s), np.sum(s), entropy(s), S(s), F(s.flatten(), T, J, h)\n",
      "    im.set_array(s)\n",
      "    return im,\n",
      "\n",
      "ani = animation.FuncAnimation(fig, updatefig, blit=True)\n",
      "plt.show()"
     ],
     "language": "python",
     "metadata": {},
     "outputs": [
      {
       "output_type": "stream",
       "stream": "stdout",
       "text": [
        "515.0 -14 10.6762244888 399.082620358 -41208.2620358\n",
        "502.0 -18 10.6243537269 398.971480208 -41597.1480208\n",
        "503.0"
       ]
      },
      {
       "output_type": "stream",
       "stream": "stdout",
       "text": [
        " -14 10.6479566402 399.082620358 -41548.2620358\n",
        "501.0"
       ]
      },
      {
       "output_type": "stream",
       "stream": "stdout",
       "text": [
        " -8 10.6512524481 399.197218661 -41519.7218661\n",
        "502.0"
       ]
      },
      {
       "output_type": "stream",
       "stream": "stdout",
       "text": [
        " 2 10.71510025 399.249303773 -41584.9303773\n",
        "510.0"
       ]
      },
      {
       "output_type": "stream",
       "stream": "stdout",
       "text": [
        " 0 10.7236398096 399.252776003 -41545.2776003\n",
        "514.0"
       ]
      },
      {
       "output_type": "stream",
       "stream": "stdout",
       "text": [
        " 12 10.7820641026 399.127766959 -41352.7766959\n",
        "501.0"
       ]
      },
      {
       "output_type": "stream",
       "stream": "stdout",
       "text": [
        " 16 10.7103527819 399.030525194 -41683.0525194\n",
        "502.0"
       ]
      },
      {
       "output_type": "stream",
       "stream": "stdout",
       "text": [
        " 12 10.7006276412 399.127766959 -41592.7766959\n",
        "498.0"
       ]
      },
      {
       "output_type": "stream",
       "stream": "stdout",
       "text": [
        " 10 10.6423041627 399.165966086 -41816.5966086\n",
        "495.0"
       ]
      },
      {
       "output_type": "stream",
       "stream": "stdout",
       "text": [
        " 16 10.6407731249 399.030525194 -41783.0525194\n",
        "495.0"
       ]
      },
      {
       "output_type": "stream",
       "stream": "stdout",
       "text": [
        " 16 10.5984170269 399.030525194 -41743.0525194\n",
        "494.0"
       ]
      },
      {
       "output_type": "stream",
       "stream": "stdout",
       "text": [
        " 14 10.5615078685 399.082620358 -41808.2620358\n",
        "494.0"
       ]
      },
      {
       "output_type": "stream",
       "stream": "stdout",
       "text": [
        " 16 10.6093536846 399.030525194 -41803.0525194\n",
        "492.0"
       ]
      },
      {
       "output_type": "stream",
       "stream": "stdout",
       "text": [
        " 12 10.5771172231 399.127766959 -41932.7766959\n",
        "494.0"
       ]
      },
      {
       "output_type": "stream",
       "stream": "stdout",
       "text": [
        " 14 10.5587164783 399.082620358 -41848.2620358\n",
        "492.0"
       ]
      },
      {
       "output_type": "stream",
       "stream": "stdout",
       "text": [
        " 12 10.5617488076 399.127766959 -41892.7766959\n",
        "492.0"
       ]
      },
      {
       "output_type": "stream",
       "stream": "stdout",
       "text": [
        " 10 10.568954776 399.165966086 -41896.5966086\n",
        "494.0"
       ]
      },
      {
       "output_type": "stream",
       "stream": "stdout",
       "text": [
        " 12 10.5757836318 399.127766959 -41852.7766959\n",
        "490.0"
       ]
      },
      {
       "output_type": "stream",
       "stream": "stdout",
       "text": [
        " 14 10.5685776635 399.082620358 -41968.2620358\n",
        "490.0"
       ]
      },
      {
       "output_type": "stream",
       "stream": "stdout",
       "text": [
        " 16 10.5655453342 399.030525194 -41963.0525194\n",
        "488.0"
       ]
      },
      {
       "output_type": "stream",
       "stream": "stdout",
       "text": [
        " 14 10.5268489487 399.082620358 -42048.2620358\n",
        "488.0"
       ]
      },
      {
       "output_type": "stream",
       "stream": "stdout",
       "text": [
        " 12 10.525242075 399.127766959 -42052.7766959\n",
        "488.0"
       ]
      },
      {
       "output_type": "stream",
       "stream": "stdout",
       "text": [
        " 14 10.5180361067 399.082620358 -42088.2620358\n",
        "488.0"
       ]
      },
      {
       "output_type": "stream",
       "stream": "stdout",
       "text": [
        " 16 10.5108301383 399.030525194 -42083.0525194\n",
        "488.0"
       ]
      },
      {
       "output_type": "stream",
       "stream": "stdout",
       "text": [
        " 14 10.5180361067 399.082620358 -42048.2620358\n",
        "487.0"
       ]
      },
      {
       "output_type": "stream",
       "stream": "stdout",
       "text": [
        " 12 10.4982574993 399.127766959 -42132.7766959\n",
        "487.0"
       ]
      },
      {
       "output_type": "stream",
       "stream": "stdout",
       "text": [
        " 10 10.4966506256 399.165966086 -42176.5966086\n",
        "485.0"
       ]
      },
      {
       "output_type": "stream",
       "stream": "stdout",
       "text": [
        " 12 10.4894446573 399.127766959 -42212.7766959\n",
        "485.0"
       ]
      },
      {
       "output_type": "stream",
       "stream": "stdout",
       "text": [
        " 10 10.4878377836 399.165966086 -42216.5966086\n",
        "484.0"
       ]
      },
      {
       "output_type": "stream",
       "stream": "stdout",
       "text": [
        " 8 10.4810089278 399.197218661 -42239.7218661\n",
        "482.0"
       ]
      },
      {
       "output_type": "stream",
       "stream": "stdout",
       "text": [
        " 6 10.4840412571 399.221525437 -42282.1525437\n",
        "480.0"
       ]
      },
      {
       "output_type": "stream",
       "stream": "stdout",
       "text": [
        " 8 10.4856481307 399.197218661 -42319.7218661\n",
        "482.0"
       ]
      },
      {
       "output_type": "stream",
       "stream": "stdout",
       "text": [
        " 6 10.4658695234 399.221525437 -42242.1525437\n",
        "482.0"
       ]
      },
      {
       "output_type": "stream",
       "stream": "stdout",
       "text": [
        " 8 10.4548704414 399.197218661 -42239.7218661\n",
        "484.0"
       ]
      },
      {
       "output_type": "stream",
       "stream": "stdout",
       "text": [
        " 10 10.4476644731 399.165966086 -42156.5966086\n",
        "485.0"
       ]
      },
      {
       "output_type": "stream",
       "stream": "stdout",
       "text": [
        " 8 10.434862823 399.197218661 -42139.7218661\n",
        "483.0"
       ]
      },
      {
       "output_type": "stream",
       "stream": "stdout",
       "text": [
        " 6 10.4066944183 399.221525437 -42222.1525437\n",
        "485.0"
       ]
      },
      {
       "output_type": "stream",
       "stream": "stdout",
       "text": [
        " 4 10.3998655624 399.238887002 -42143.8887002\n",
        "483.0"
       ]
      },
      {
       "output_type": "stream",
       "stream": "stdout",
       "text": [
        " 6 10.3853902283 399.221525437 -42222.1525437\n",
        "485.0"
       ]
      },
      {
       "output_type": "stream",
       "stream": "stdout",
       "text": [
        " 4 10.3572218236 399.238887002 -42143.8887002\n",
        "483.0"
       ]
      },
      {
       "output_type": "stream",
       "stream": "stdout",
       "text": [
        " 6 10.377000431 399.221525437 -42182.1525437\n",
        "482.0"
       ]
      },
      {
       "output_type": "stream",
       "stream": "stdout",
       "text": [
        " 4 10.3572218236 399.238887002 -42223.8887002\n",
        "480.0"
       ]
      },
      {
       "output_type": "stream",
       "stream": "stdout",
       "text": [
        " 6 10.3853902283 399.221525437 -42302.1525437\n",
        "479.0"
       ]
      },
      {
       "output_type": "stream",
       "stream": "stdout",
       "text": [
        " 4 10.3837833547 399.238887002 -42363.8887002\n",
        "479.0"
       ]
      },
      {
       "output_type": "stream",
       "stream": "stdout",
       "text": [
        " 2 10.390989323 399.249303773 -42364.9303773\n",
        "480.0"
       ]
      },
      {
       "output_type": "stream",
       "stream": "stdout",
       "text": [
        " 0 10.3893824493 399.252776003 -42365.2776003\n",
        "481.0"
       ]
      },
      {
       "output_type": "stream",
       "stream": "stdout",
       "text": [
        " -2 10.3825535935 399.249303773 -42344.9303773\n",
        "481.0"
       ]
      },
      {
       "output_type": "stream",
       "stream": "stdout",
       "text": [
        " -4 10.3757247377 399.238887002 -42363.8887002\n",
        "483.0"
       ]
      },
      {
       "output_type": "stream",
       "stream": "stdout",
       "text": [
        " -6 10.3867238196 399.221525437 -42282.1525437\n",
        "483.0"
       ]
      },
      {
       "output_type": "stream",
       "stream": "stdout",
       "text": [
        " -8 10.3851169459 399.197218661 -42319.7218661\n",
        "484.0"
       ]
      },
      {
       "output_type": "stream",
       "stream": "stdout",
       "text": [
        " -6 10.3779109776 399.221525437 -42282.1525437\n",
        "480.0"
       ]
      },
      {
       "output_type": "stream",
       "stream": "stdout",
       "text": [
        " -4 10.3707050092 399.238887002 -42403.8887002\n",
        "480.0"
       ]
      },
      {
       "output_type": "stream",
       "stream": "stdout",
       "text": [
        " -6 10.3779109776 399.221525437 -42442.1525437\n",
        "480.0"
       ]
      },
      {
       "output_type": "stream",
       "stream": "stdout",
       "text": [
        " -4 10.3847398334 399.238887002 -42423.8887002\n",
        "478.0"
       ]
      },
      {
       "output_type": "stream",
       "stream": "stdout",
       "text": [
        " -2 10.3915686893 399.249303773 -42464.9303773\n",
        "478.0"
       ]
      },
      {
       "output_type": "stream",
       "stream": "stdout",
       "text": [
        " 0 10.4113472966 399.252776003 -42465.2776003\n",
        "478.0"
       ]
      },
      {
       "output_type": "stream",
       "stream": "stdout",
       "text": [
        " 2 10.4129541703 399.249303773 -42464.9303773\n",
        "476.0"
       ]
      },
      {
       "output_type": "stream",
       "stream": "stdout",
       "text": [
        " 0 10.4001525202 399.252776003 -42545.2776003\n",
        "475.0"
       ]
      },
      {
       "output_type": "stream",
       "stream": "stdout",
       "text": [
        " 2 10.4129541703 399.249303773 -42624.9303773\n",
        "475.0"
       ]
      },
      {
       "output_type": "stream",
       "stream": "stdout",
       "text": [
        " 4 10.4327327777 399.238887002 -42583.8887002\n",
        "475.0"
       ]
      },
      {
       "output_type": "stream",
       "stream": "stdout",
       "text": [
        " 6 10.4217336958 399.221525437 -42622.1525437\n",
        "475.0"
       ]
      },
      {
       "output_type": "stream",
       "stream": "stdout",
       "text": [
        " 8 10.4345353459 399.197218661 -42619.7218661\n",
        "477.0"
       ]
      },
      {
       "output_type": "stream",
       "stream": "stdout",
       "text": [
        " 10 10.4315030165 399.165966086 -42536.5966086\n",
        "477.0"
       ]
      },
      {
       "output_type": "stream",
       "stream": "stdout",
       "text": [
        " 8 10.4117244092 399.197218661 -42539.7218661\n",
        "477.0"
       ]
      },
      {
       "output_type": "stream",
       "stream": "stdout",
       "text": [
        " 6 10.4189303775 399.221525437 -42542.1525437\n",
        "477.0"
       ]
      },
      {
       "output_type": "stream",
       "stream": "stdout",
       "text": [
        " 4 10.4261363459 399.238887002 -42543.8887002\n",
        "475.0"
       ]
      },
      {
       "output_type": "stream",
       "stream": "stdout",
       "text": [
        " 2 10.4245294722 399.249303773 -42624.9303773\n",
        "479.0"
       ]
      },
      {
       "output_type": "stream",
       "stream": "stdout",
       "text": [
        " 0 10.4317354406 399.252776003 -42505.2776003\n",
        "479.0"
       ]
      },
      {
       "output_type": "stream",
       "stream": "stdout",
       "text": [
        " 2 10.4333423142 399.249303773 -42504.9303773\n",
        "476.0"
       ]
      },
      {
       "output_type": "stream",
       "stream": "stdout",
       "text": [
        " 4 10.4223432323 399.238887002 -42603.8887002\n",
        "476.0"
       ]
      },
      {
       "output_type": "stream",
       "stream": "stdout",
       "text": [
        " 6 10.4291720881 399.221525437 -42602.1525437\n",
        "475.0"
       ]
      },
      {
       "output_type": "stream",
       "stream": "stdout",
       "text": [
        " 8 10.4181730062 399.197218661 -42679.7218661\n",
        "475.0"
       ]
      },
      {
       "output_type": "stream",
       "stream": "stdout",
       "text": [
        " 10 10.4197798799 399.165966086 -42676.5966086\n",
        "476.0"
       ]
      },
      {
       "output_type": "stream",
       "stream": "stdout",
       "text": [
        " 8 10.3916114752 399.197218661 -42599.7218661\n",
        "476.0"
       ]
      },
      {
       "output_type": "stream",
       "stream": "stdout",
       "text": [
        " 6 10.3718328678 399.221525437 -42642.1525437\n",
        "477.0"
       ]
      },
      {
       "output_type": "stream",
       "stream": "stdout",
       "text": [
        " 4 10.3520542604 399.238887002 -42583.8887002\n",
        "477.0"
       ]
      },
      {
       "output_type": "stream",
       "stream": "stdout",
       "text": [
        " 2 10.3133578749 399.249303773 -42544.9303773\n",
        "477.0"
       ]
      },
      {
       "output_type": "stream",
       "stream": "stdout",
       "text": [
        " 0 10.3005562248 399.252776003 -42545.2776003\n",
        "477.0"
       ]
      },
      {
       "output_type": "stream",
       "stream": "stdout",
       "text": [
        " 2 10.3133578749 399.249303773 -42544.9303773\n",
        "477.0"
       ]
      },
      {
       "output_type": "stream",
       "stream": "stdout",
       "text": [
        " 4 10.3331364823 399.238887002 -42543.8887002\n",
        "475.0"
       ]
      },
      {
       "output_type": "stream",
       "stream": "stdout",
       "text": [
        " 6 10.3259305139 399.221525437 -42622.1525437\n",
        "475.0"
       ]
      },
      {
       "output_type": "stream",
       "stream": "stdout",
       "text": [
        " 8 10.3646268994 399.197218661 -42619.7218661\n",
        "477.0"
       ]
      },
      {
       "output_type": "stream",
       "stream": "stdout",
       "text": [
        " 6 10.3718328678 399.221525437 -42582.1525437\n",
        "475.0"
       ]
      },
      {
       "output_type": "stream",
       "stream": "stdout",
       "text": [
        " 4 10.3650040119 399.238887002 -42623.8887002\n",
        "475.0"
       ]
      },
      {
       "output_type": "stream",
       "stream": "stdout",
       "text": [
        " 2 10.3581751561 399.249303773 -42624.9303773\n",
        "475.0"
       ]
      },
      {
       "output_type": "stream",
       "stream": "stdout",
       "text": [
        " 0 10.3513463002 399.252776003 -42625.2776003\n",
        "475.0"
       ]
      },
      {
       "output_type": "stream",
       "stream": "stdout",
       "text": [
        " 2 10.3441403319 399.249303773 -42624.9303773\n",
        "476.0"
       ]
      },
      {
       "output_type": "stream",
       "stream": "stdout",
       "text": [
        " 4 10.3639189393 399.238887002 -42663.8887002\n",
        "472.0"
       ]
      },
      {
       "output_type": "stream",
       "stream": "stdout",
       "text": [
        " 2 10.3511172892 399.249303773 -42784.9303773\n",
        "470.0"
       ]
      },
      {
       "output_type": "stream",
       "stream": "stdout",
       "text": [
        " 4 10.3527241628 399.238887002 -42823.8887002\n",
        "468.0"
       ]
      },
      {
       "output_type": "stream",
       "stream": "stdout",
       "text": [
        " 2 10.3399225127 399.249303773 -42864.9303773\n",
        "470.0"
       ]
      },
      {
       "output_type": "stream",
       "stream": "stdout",
       "text": [
        " 4 10.3527241628 399.238887002 -42823.8887002\n",
        "466.0"
       ]
      },
      {
       "output_type": "stream",
       "stream": "stdout",
       "text": [
        " 6 10.3382488287 399.221525437 -42942.1525437\n",
        "468.0"
       ]
      },
      {
       "output_type": "stream",
       "stream": "stdout",
       "text": [
        " 4 10.3184702213 399.238887002 -42903.8887002\n",
        "472.0"
       ]
      },
      {
       "output_type": "stream",
       "stream": "stdout",
       "text": [
        " 2 10.3329455555 399.249303773 -42784.9303773\n",
        "472.0"
       ]
      },
      {
       "output_type": "stream",
       "stream": "stdout",
       "text": [
        " 0 10.3131669481 399.252776003 -42785.2776003\n",
        "470.0"
       ]
      },
      {
       "output_type": "stream",
       "stream": "stdout",
       "text": [
        " -2 10.3115600744 399.249303773 -42824.9303773\n",
        "472.0"
       ]
      },
      {
       "output_type": "stream",
       "stream": "stdout",
       "text": [
        " 0 10.364414713 399.252776003 -42785.2776003\n",
        "472.0"
       ]
      },
      {
       "output_type": "stream",
       "stream": "stdout",
       "text": [
        " -2 10.3575858571 399.249303773 -42824.9303773\n",
        "471.0"
       ]
      },
      {
       "output_type": "stream",
       "stream": "stdout",
       "text": [
        " -4 10.3647918255 399.238887002 -42823.8887002\n",
        "473.0"
       ]
      },
      {
       "output_type": "stream",
       "stream": "stdout",
       "text": [
        " -2 10.3929602302 399.249303773 -42784.9303773\n",
        "474.0"
       ]
      },
      {
       "output_type": "stream",
       "stream": "stdout",
       "text": [
        " 0 10.3899279009 399.252776003 -42725.2776003\n",
        "474.0"
       ]
      },
      {
       "output_type": "stream",
       "stream": "stdout",
       "text": [
        " -2 10.3929602302 399.249303773 -42724.9303773\n",
        "478.0"
       ]
      },
      {
       "output_type": "stream",
       "stream": "stdout",
       "text": [
        " -4 10.4074355643 399.238887002 -42603.8887002\n",
        "478.0"
       ]
      },
      {
       "output_type": "stream",
       "stream": "stdout",
       "text": [
        " -6 10.4104678936 399.221525437 -42602.1525437\n",
        "480.0"
       ]
      },
      {
       "output_type": "stream",
       "stream": "stdout",
       "text": [
        " -8 10.4135002229 399.197218661 -42559.7218661\n",
        "480.0"
       ]
      },
      {
       "output_type": "stream",
       "stream": "stdout",
       "text": [
        " -6 10.426301873 399.221525437 -42562.1525437\n",
        "479.0"
       ]
      },
      {
       "output_type": "stream",
       "stream": "stdout",
       "text": [
        " -4 10.4460804804 399.238887002 -42623.8887002\n",
        "481.0"
       ]
      },
      {
       "output_type": "stream",
       "stream": "stdout",
       "text": [
        " -2 10.4529093363 399.249303773 -42544.9303773\n",
        "481.0"
       ]
      },
      {
       "output_type": "stream",
       "stream": "stdout",
       "text": [
        " 0 10.4657109864 399.252776003 -42545.2776003\n",
        "480.0"
       ]
      },
      {
       "output_type": "stream",
       "stream": "stdout",
       "text": [
        " -2 10.4529093363 399.249303773 -42624.9303773\n",
        "482.0"
       ]
      },
      {
       "output_type": "stream",
       "stream": "stdout",
       "text": [
        " -4 10.4559416656 399.238887002 -42543.8887002\n",
        "484.0"
       ]
      },
      {
       "output_type": "stream",
       "stream": "stdout",
       "text": [
        " -2 10.4687433157 399.249303773 -42504.9303773\n",
        "486.0"
       ]
      },
      {
       "output_type": "stream",
       "stream": "stdout",
       "text": [
        " 0 10.4885219231 399.252776003 -42465.2776003\n",
        "487.0"
       ]
      },
      {
       "output_type": "stream",
       "stream": "stdout",
       "text": [
        " -2 10.4816930672 399.249303773 -42444.9303773\n",
        "485.0"
       ]
      },
      {
       "output_type": "stream",
       "stream": "stdout",
       "text": [
        " 0 10.5014716746 399.252776003 -42485.2776003\n",
        "487.0"
       ]
      },
      {
       "output_type": "stream",
       "stream": "stdout",
       "text": [
        " -2 10.4886700245 399.249303773 -42444.9303773\n",
        "483.0"
       ]
      },
      {
       "output_type": "stream",
       "stream": "stdout",
       "text": [
        " 0 10.4814640561 399.252776003 -42565.2776003\n",
        "485.0"
       ]
      },
      {
       "output_type": "stream",
       "stream": "stdout",
       "text": [
        " -2 10.4991476869 399.249303773 -42524.9303773\n",
        "486.0"
       ]
      },
      {
       "output_type": "stream",
       "stream": "stdout",
       "text": [
        " 0 10.511949337 399.252776003 -42445.2776003\n",
        "488.0"
       ]
      },
      {
       "output_type": "stream",
       "stream": "stdout",
       "text": [
        " 2 10.5135562106 399.249303773 -42404.9303773\n",
        "488.0"
       ]
      },
      {
       "output_type": "stream",
       "stream": "stdout",
       "text": [
        " 0 10.520762179 399.252776003 -42405.2776003\n",
        "486.0"
       ]
      },
      {
       "output_type": "stream",
       "stream": "stdout",
       "text": [
        " 2 10.5177298497 399.249303773 -42444.9303773\n",
        "486.0"
       ]
      },
      {
       "output_type": "stream",
       "stream": "stdout",
       "text": [
        " 0 10.5109009938 399.252776003 -42485.2776003\n",
        "488.0"
       ]
      },
      {
       "output_type": "stream",
       "stream": "stdout",
       "text": [
        " 2 10.5177298497 399.249303773 -42444.9303773\n",
        "488.0"
       ]
      },
      {
       "output_type": "stream",
       "stream": "stdout",
       "text": [
        " 0 10.516122976 399.252776003 -42485.2776003\n",
        "486.0"
       ]
      },
      {
       "output_type": "stream",
       "stream": "stdout",
       "text": [
        " -2 10.5191553053 399.249303773 -42564.9303773\n",
        "487.0"
       ]
      },
      {
       "output_type": "stream",
       "stream": "stdout",
       "text": [
        " -4 10.5221876346 399.238887002 -42543.8887002\n",
        "486.0"
       ]
      },
      {
       "output_type": "stream",
       "stream": "stdout",
       "text": [
        " -2 10.5149816663 399.249303773 -42624.9303773\n",
        "486.0"
       ]
      },
      {
       "output_type": "stream",
       "stream": "stdout",
       "text": [
        " 0 10.5218105221 399.252776003 -42625.2776003\n",
        "488.0"
       ]
      },
      {
       "output_type": "stream",
       "stream": "stdout",
       "text": [
        " -2 10.5202036485 399.249303773 -42584.9303773\n",
        "488.0"
       ]
      },
      {
       "output_type": "stream",
       "stream": "stdout",
       "text": [
        " 0 10.5171713192 399.252776003 -42585.2776003\n",
        "488.0"
       ]
      },
      {
       "output_type": "stream",
       "stream": "stdout",
       "text": [
        " 2 10.5099653508 399.249303773 -42584.9303773\n",
        "488.0"
       ]
      },
      {
       "output_type": "stream",
       "stream": "stdout",
       "text": [
        " 4 10.5115722245 399.238887002 -42543.8887002\n",
        "488.0"
       ]
      },
      {
       "output_type": "stream",
       "stream": "stdout",
       "text": [
        " 6 10.5184010803 399.221525437 -42542.1525437\n",
        "487.0"
       ]
      },
      {
       "output_type": "stream",
       "stream": "stdout",
       "text": [
        " 4 10.5115722245 399.238887002 -42603.8887002\n",
        "488.0"
       ]
      },
      {
       "output_type": "stream",
       "stream": "stdout",
       "text": [
        " 6 10.5005731425 399.221525437 -42562.1525437\n",
        "486.0"
       ]
      },
      {
       "output_type": "stream",
       "stream": "stdout",
       "text": [
        " 4 10.4989662689 399.238887002 -42603.8887002\n",
        "488.0"
       ]
      },
      {
       "output_type": "stream",
       "stream": "stdout",
       "text": [
        " 6 10.5187448762 399.221525437 -42562.1525437\n",
        "490.0"
       ]
      },
      {
       "output_type": "stream",
       "stream": "stdout",
       "text": [
        " 8 10.5203517499 399.197218661 -42519.7218661\n",
        "490.0"
       ]
      },
      {
       "output_type": "stream",
       "stream": "stdout",
       "text": [
        " 10 10.5173194206 399.165966086 -42516.5966086\n",
        "488.0"
       ]
      },
      {
       "output_type": "stream",
       "stream": "stdout",
       "text": [
        " 8 10.5045177705 399.197218661 -42559.7218661\n",
        "488.0"
       ]
      },
      {
       "output_type": "stream",
       "stream": "stdout",
       "text": [
        " 10 10.5113466263 399.165966086 -42516.5966086\n",
        "488.0"
       ]
      },
      {
       "output_type": "stream",
       "stream": "stdout",
       "text": [
        " 12 10.539515031 399.127766959 -42552.7766959\n",
        "490.0"
       ]
      },
      {
       "output_type": "stream",
       "stream": "stdout",
       "text": [
        " 10 10.550514113 399.165966086 -42476.5966086\n",
        "490.0"
       ]
      },
      {
       "output_type": "stream",
       "stream": "stdout",
       "text": [
        " 8 10.5489072393 399.197218661 -42479.7218661\n",
        "490.0"
       ]
      },
      {
       "output_type": "stream",
       "stream": "stdout",
       "text": [
        " 6 10.5361055892 399.221525437 -42482.1525437\n",
        "491.0"
       ]
      },
      {
       "output_type": "stream",
       "stream": "stdout",
       "text": [
        " 8 10.5429344451 399.197218661 -42419.7218661\n",
        "489.0"
       ]
      },
      {
       "output_type": "stream",
       "stream": "stdout",
       "text": [
        " 6 10.5231558377 399.221525437 -42462.1525437\n",
        "487.0"
       ]
      },
      {
       "output_type": "stream",
       "stream": "stdout",
       "text": [
        " 4 10.530361806 399.238887002 -42543.8887002\n",
        "489.0"
       ]
      },
      {
       "output_type": "stream",
       "stream": "stdout",
       "text": [
        " 2 10.5287549324 399.249303773 -42464.9303773\n",
        "487.0"
       ]
      },
      {
       "output_type": "stream",
       "stream": "stdout",
       "text": [
        " 4 10.5257226031 399.238887002 -42503.8887002\n",
        "489.0"
       ]
      },
      {
       "output_type": "stream",
       "stream": "stdout",
       "text": [
        " 2 10.5287549324 399.249303773 -42464.9303773\n",
        "489.0"
       ]
      },
      {
       "output_type": "stream",
       "stream": "stdout",
       "text": [
        " 4 10.5415565825 399.238887002 -42463.8887002\n",
        "487.0"
       ]
      },
      {
       "output_type": "stream",
       "stream": "stdout",
       "text": [
        " 6 10.5343506141 399.221525437 -42502.1525437\n",
        "484.0"
       ]
      },
      {
       "output_type": "stream",
       "stream": "stdout",
       "text": [
        " 8 10.51987528 399.197218661 -42539.7218661\n",
        "482.0"
       ]
      },
      {
       "output_type": "stream",
       "stream": "stdout",
       "text": [
        " 6 10.5182684063 399.221525437 -42582.1525437\n",
        "486.0"
       ]
      },
      {
       "output_type": "stream",
       "stream": "stdout",
       "text": [
        " 4 10.5254743747 399.238887002 -42463.8887002\n",
        "485.0"
       ]
      },
      {
       "output_type": "stream",
       "stream": "stdout",
       "text": [
        " 6 10.5109990405 399.221525437 -42542.1525437\n",
        "485.0"
       ]
      },
      {
       "output_type": "stream",
       "stream": "stdout",
       "text": [
        " 4 10.5140313699 399.238887002 -42543.8887002\n",
        "483.0"
       ]
      },
      {
       "output_type": "stream",
       "stream": "stdout",
       "text": [
        " 2 10.5012297198 399.249303773 -42624.9303773\n",
        "484.0"
       ]
      },
      {
       "output_type": "stream",
       "stream": "stdout",
       "text": [
        " 4 10.5028365934 399.238887002 -42543.8887002\n",
        "486.0"
       ]
      },
      {
       "output_type": "stream",
       "stream": "stdout",
       "text": [
        " 6 10.5044434671 399.221525437 -42462.1525437\n",
        "488.0"
       ]
      },
      {
       "output_type": "stream",
       "stream": "stdout",
       "text": [
        " 4 10.5028365934 399.238887002 -42383.8887002\n",
        "490.0"
       ]
      },
      {
       "output_type": "stream",
       "stream": "stdout",
       "text": [
        " 2 10.5058689227 399.249303773 -42344.9303773\n",
        "490.0"
       ]
      },
      {
       "output_type": "stream",
       "stream": "stdout",
       "text": [
        " 4 10.4948698408 399.238887002 -42343.8887002\n",
        "486.0"
       ]
      },
      {
       "output_type": "stream",
       "stream": "stdout",
       "text": [
        " 2 10.4932629671 399.249303773 -42464.9303773\n",
        "486.0"
       ]
      },
      {
       "output_type": "stream",
       "stream": "stdout",
       "text": [
        " 4 10.5214313718 399.238887002 -42423.8887002\n",
        "486.0"
       ]
      },
      {
       "output_type": "stream",
       "stream": "stdout",
       "text": [
        " 2 10.5198244982 399.249303773 -42384.9303773\n",
        "486.0"
       ]
      },
      {
       "output_type": "stream",
       "stream": "stdout",
       "text": [
        " 4 10.526653354 399.238887002 -42383.8887002\n",
        "486.0"
       ]
      },
      {
       "output_type": "stream",
       "stream": "stdout",
       "text": [
        " 6 10.5194473857 399.221525437 -42382.1525437\n",
        "486.0"
       ]
      },
      {
       "output_type": "stream",
       "stream": "stdout",
       "text": [
        " 4 10.5066457356 399.238887002 -42383.8887002\n",
        "484.0"
       ]
      },
      {
       "output_type": "stream",
       "stream": "stdout",
       "text": [
        " 6 10.5194473857 399.221525437 -42422.1525437\n",
        "485.0"
       ]
      },
      {
       "output_type": "stream",
       "stream": "stdout",
       "text": [
        " 8 10.5210542593 399.197218661 -42419.7218661\n",
        "481.0"
       ]
      },
      {
       "output_type": "stream",
       "stream": "stdout",
       "text": [
        " 10 10.5033706286 399.165966086 -42536.5966086\n",
        "484.0"
       ]
      },
      {
       "output_type": "stream",
       "stream": "stdout",
       "text": [
        " 8 10.501763755 399.197218661 -42419.7218661\n",
        "486.0"
       ]
      },
      {
       "output_type": "stream",
       "stream": "stdout",
       "text": [
        " 10 10.5215423623 399.165966086 -42376.5966086\n",
        "487.0"
       ]
      },
      {
       "output_type": "stream",
       "stream": "stdout",
       "text": [
        " 12 10.5602387478 399.127766959 -42352.7766959\n",
        "487.0"
       ]
      },
      {
       "output_type": "stream",
       "stream": "stdout",
       "text": [
        " 14 10.5884071525 399.082620358 -42348.2620358\n",
        "489.0"
       ]
      },
      {
       "output_type": "stream",
       "stream": "stdout",
       "text": [
        " 12 10.5756055024 399.127766959 -42312.7766959\n",
        "485.0"
       ]
      },
      {
       "output_type": "stream",
       "stream": "stdout",
       "text": [
        " 14 10.5725731731 399.082620358 -42428.2620358\n",
        "485.0"
       ]
      },
      {
       "output_type": "stream",
       "stream": "stdout",
       "text": [
        " 12 10.5527945657 399.127766959 -42472.7766959\n",
        "487.0"
       ]
      },
      {
       "output_type": "stream",
       "stream": "stdout",
       "text": [
        " 10 10.5637936477 399.165966086 -42436.5966086\n",
        "487.0"
       ]
      },
      {
       "output_type": "stream",
       "stream": "stdout",
       "text": [
        " 12 10.5607613183 399.127766959 -42392.7766959\n",
        "487.0"
       ]
      },
      {
       "output_type": "stream",
       "stream": "stdout",
       "text": [
        " 14 10.55355535 399.082620358 -42388.2620358\n",
        "484.0"
       ]
      },
      {
       "output_type": "stream",
       "stream": "stdout",
       "text": [
        " 16 10.5551622237 399.030525194 -42503.0525194\n",
        "484.0"
       ]
      },
      {
       "output_type": "stream",
       "stream": "stdout",
       "text": [
        " 18 10.5567690973 398.971480208 -42537.1480208\n",
        "482.0"
       ]
      },
      {
       "output_type": "stream",
       "stream": "stdout",
       "text": [
        " 16 10.5499402415 399.030525194 -42583.0525194\n",
        "480.0"
       ]
      },
      {
       "output_type": "stream",
       "stream": "stdout",
       "text": [
        " 18 10.5697188488 398.971480208 -42617.1480208\n",
        "478.0"
       ]
      },
      {
       "output_type": "stream",
       "stream": "stdout",
       "text": [
        " 20 10.5587197669 398.905483976 -42650.5483976\n",
        "480.0"
       ]
      },
      {
       "output_type": "stream",
       "stream": "stdout",
       "text": [
        " 18 10.5697188488 398.971480208 -42617.1480208\n",
        "482.0"
       ]
      },
      {
       "output_type": "stream",
       "stream": "stdout",
       "text": [
        " 20 10.5894974562 398.905483976 -42530.5483976\n",
        "482.0"
       ]
      },
      {
       "output_type": "stream",
       "stream": "stdout",
       "text": [
        " 22 10.5718138255 398.832534903 -42523.2534903\n",
        "482.0"
       ]
      },
      {
       "output_type": "stream",
       "stream": "stdout",
       "text": [
        " 20 10.5828129074 398.905483976 -42530.5483976\n",
        "480.0"
       ]
      },
      {
       "output_type": "stream",
       "stream": "stdout",
       "text": [
        " 22 10.5956145575 398.832534903 -42563.2534903\n",
        "477.0"
       ]
      },
      {
       "output_type": "stream",
       "stream": "stdout",
       "text": [
        " 24 10.5972214312 398.752631226 -42595.2631226\n",
        "479.0"
       ]
      },
      {
       "output_type": "stream",
       "stream": "stdout",
       "text": [
        " 22 10.6044273995 398.832534903 -42523.2534903\n",
        "479.0"
       ]
      },
      {
       "output_type": "stream",
       "stream": "stdout",
       "text": [
        " 20 10.5846487922 398.905483976 -42530.5483976\n",
        "479.0"
       ]
      },
      {
       "output_type": "stream",
       "stream": "stdout",
       "text": [
        " 22 10.5816164628 398.832534903 -42483.2534903\n",
        "479.0"
       ]
      },
      {
       "output_type": "stream",
       "stream": "stdout",
       "text": [
        " 20 10.5846487922 398.905483976 -42490.5483976\n",
        "479.0"
       ]
      },
      {
       "output_type": "stream",
       "stream": "stdout",
       "text": [
        " 18 10.5648701848 398.971480208 -42537.1480208\n",
        "479.0"
       ]
      },
      {
       "output_type": "stream",
       "stream": "stdout",
       "text": [
        " 20 10.5576642164 398.905483976 -42530.5483976\n",
        "481.0"
       ]
      },
      {
       "output_type": "stream",
       "stream": "stdout",
       "text": [
        " 22 10.5704658665 398.832534903 -42483.2534903\n",
        "477.0"
       ]
      },
      {
       "output_type": "stream",
       "stream": "stdout",
       "text": [
        " 24 10.5720727402 398.752631226 -42595.2631226\n",
        "475.0"
       ]
      },
      {
       "output_type": "stream",
       "stream": "stdout",
       "text": [
        " 22 10.5792787085 398.832534903 -42643.2534903\n",
        "475.0"
       ]
      },
      {
       "output_type": "stream",
       "stream": "stdout",
       "text": [
        " 24 10.5808855822 398.752631226 -42635.2631226\n",
        "473.0"
       ]
      },
      {
       "output_type": "stream",
       "stream": "stdout",
       "text": [
        " 22 10.5839179115 398.832534903 -42683.2534903\n",
        "473.0"
       ]
      },
      {
       "output_type": "stream",
       "stream": "stdout",
       "text": [
        " 24 10.5729188296 398.752631226 -42675.2631226\n",
        "471.0"
       ]
      },
      {
       "output_type": "stream",
       "stream": "stdout",
       "text": [
        " 26 10.5552351989 398.665771013 -42706.5771013\n",
        "469.0"
       ]
      },
      {
       "output_type": "stream",
       "stream": "stdout",
       "text": [
        " 24 10.5424335488 398.752631226 -42755.2631226\n",
        "469.0"
       ]
      },
      {
       "output_type": "stream",
       "stream": "stdout",
       "text": [
        " 26 10.5394012194 398.665771013 -42706.5771013\n",
        "469.0"
       ]
      },
      {
       "output_type": "stream",
       "stream": "stdout",
       "text": [
        " 28 10.5522028695 398.571952163 -42737.1952163\n",
        "467.0"
       ]
      },
      {
       "output_type": "stream",
       "stream": "stdout",
       "text": [
        " 26 10.5240344648 398.665771013 -42826.5771013\n",
        "465.0"
       ]
      },
      {
       "output_type": "stream",
       "stream": "stdout",
       "text": [
        " 28 10.5438130722 398.571952163 -42897.1952163\n",
        "465.0"
       ]
      },
      {
       "output_type": "stream",
       "stream": "stdout",
       "text": [
        " 30 10.5407807429 398.471172406 -42927.1172406\n",
        "467.0"
       ]
      },
      {
       "output_type": "stream",
       "stream": "stdout",
       "text": [
        " 28 10.5517798248 398.571952163 -42897.1952163\n",
        "471.0"
       ]
      },
      {
       "output_type": "stream",
       "stream": "stdout",
       "text": [
        " 30 10.5586086807 398.471172406 -42767.1172406\n",
        "467.0"
       ]
      },
      {
       "output_type": "stream",
       "stream": "stdout",
       "text": [
        " 32 10.5602155543 398.363429301 -42876.3429301\n",
        "468.0"
       ]
      },
      {
       "output_type": "stream",
       "stream": "stdout",
       "text": [
        " 30 10.540436947 398.471172406 -42867.1172406\n",
        "464.0"
       ]
      },
      {
       "output_type": "stream",
       "stream": "stdout",
       "text": [
        " 32 10.5602155543 398.363429301 -42976.3429301\n",
        "462.0"
       ]
      },
      {
       "output_type": "stream",
       "stream": "stdout",
       "text": [
        " 30 10.540436947 398.471172406 -43027.1172406\n",
        "460.0"
       ]
      },
      {
       "output_type": "stream",
       "stream": "stdout",
       "text": [
        " 28 10.5206583396 398.571952163 -43077.1952163\n",
        "460.0"
       ]
      },
      {
       "output_type": "stream",
       "stream": "stdout",
       "text": [
        " 26 10.5008797322 398.665771013 -43086.5771013\n",
        "462.0"
       ]
      },
      {
       "output_type": "stream",
       "stream": "stdout",
       "text": [
        " 28 10.507708588 398.571952163 -42997.1952163\n",
        "466.0"
       ]
      },
      {
       "output_type": "stream",
       "stream": "stdout",
       "text": [
        " 26 10.5253922188 398.665771013 -42886.5771013\n",
        "464.0"
       ]
      },
      {
       "output_type": "stream",
       "stream": "stdout",
       "text": [
        " 28 10.5143931368 398.571952163 -42917.1952163\n",
        "465.0"
       ]
      },
      {
       "output_type": "stream",
       "stream": "stdout",
       "text": [
        " 30 10.5160000105 398.471172406 -42827.1172406\n",
        "465.0"
       ]
      },
      {
       "output_type": "stream",
       "stream": "stdout",
       "text": [
        " 28 10.5091711546 398.571952163 -42877.1952163\n",
        "467.0"
       ]
      },
      {
       "output_type": "stream",
       "stream": "stdout",
       "text": [
        " 30 10.5061388253 398.471172406 -42827.1172406\n",
        "468.0"
       ]
      },
      {
       "output_type": "stream",
       "stream": "stdout",
       "text": [
        " 28 10.5091711546 398.571952163 -42817.1952163\n",
        "467.0"
       ]
      },
      {
       "output_type": "stream",
       "stream": "stdout",
       "text": [
        " 26 10.516377123 398.665771013 -42886.5771013\n",
        "469.0"
       ]
      },
      {
       "output_type": "stream",
       "stream": "stdout",
       "text": [
        " 24 10.5308524571 398.752631226 -42815.2631226\n",
        "469.0"
       ]
      },
      {
       "output_type": "stream",
       "stream": "stdout",
       "text": [
        " 26 10.5278201278 398.665771013 -42806.5771013\n",
        "469.0"
       ]
      },
      {
       "output_type": "stream",
       "stream": "stdout",
       "text": [
        " 24 10.5308524571 398.752631226 -42815.2631226\n",
        "469.0"
       ]
      },
      {
       "output_type": "stream",
       "stream": "stdout",
       "text": [
        " 26 10.5278201278 398.665771013 -42806.5771013\n",
        "473.0"
       ]
      },
      {
       "output_type": "stream",
       "stream": "stdout",
       "text": [
        " 24 10.5262132542 398.752631226 -42695.2631226\n",
        "471.0"
       ]
      },
      {
       "output_type": "stream",
       "stream": "stdout",
       "text": [
        " 22 10.5193843983 398.832534903 -42783.2534903\n",
        "473.0"
       ]
      },
      {
       "output_type": "stream",
       "stream": "stdout",
       "text": [
        " 20 10.5265903667 398.905483976 -42710.5483976\n",
        "473.0"
       ]
      },
      {
       "output_type": "stream",
       "stream": "stdout",
       "text": [
        " 22 10.5334192225 398.832534903 -42703.2534903\n",
        "475.0"
       ]
      },
      {
       "output_type": "stream",
       "stream": "stdout",
       "text": [
        " 20 10.5444183044 398.905483976 -42670.5483976\n",
        "475.0"
       ]
      },
      {
       "output_type": "stream",
       "stream": "stdout",
       "text": [
        " 18 10.5474506338 398.971480208 -42677.1480208\n",
        "476.0"
       ]
      },
      {
       "output_type": "stream",
       "stream": "stdout",
       "text": [
        " 16 10.5504829631 399.030525194 -42683.0525194\n",
        "474.0"
       ]
      },
      {
       "output_type": "stream",
       "stream": "stdout",
       "text": [
        " 14 10.4976283245 399.082620358 -42728.2620358\n",
        "474.0"
       ]
      },
      {
       "output_type": "stream",
       "stream": "stdout",
       "text": [
        " 16 10.4992351982 399.030525194 -42723.0525194\n",
        "472.0"
       ]
      },
      {
       "output_type": "stream",
       "stream": "stdout",
       "text": [
        " 14 10.4924063423 399.082620358 -42808.2620358\n",
        "476.0"
       ]
      },
      {
       "output_type": "stream",
       "stream": "stdout",
       "text": [
        " 12 10.4907994687 399.127766959 -42692.7766959\n",
        "477.0"
       ]
      },
      {
       "output_type": "stream",
       "stream": "stdout",
       "text": [
        " 10 10.489192595 399.165966086 -42616.5966086\n",
        "473.0"
       ]
      },
      {
       "output_type": "stream",
       "stream": "stdout",
       "text": [
        " 12 10.4907994687 399.127766959 -42732.7766959\n"
       ]
      }
     ],
     "prompt_number": 10
    },
    {
     "cell_type": "code",
     "collapsed": false,
     "input": [
      "plt.close()"
     ],
     "language": "python",
     "metadata": {},
     "outputs": [],
     "prompt_number": 20
    },
    {
     "cell_type": "code",
     "collapsed": false,
     "input": [
      "np.append(boundaries, meas_domain(s))\n"
     ],
     "language": "python",
     "metadata": {},
     "outputs": [
      {
       "output_type": "pyout",
       "prompt_number": 22,
       "text": [
        "array([ 250.,  250.])"
       ]
      }
     ],
     "prompt_number": 22
    },
    {
     "cell_type": "code",
     "collapsed": false,
     "input": [
      "np.size(boundaries)"
     ],
     "language": "python",
     "metadata": {},
     "outputs": [
      {
       "output_type": "pyout",
       "prompt_number": 17,
       "text": [
        "1"
       ]
      }
     ],
     "prompt_number": 17
    },
    {
     "cell_type": "code",
     "collapsed": false,
     "input": [
      "np.sum(J)"
     ],
     "language": "python",
     "metadata": {},
     "outputs": [
      {
       "output_type": "pyout",
       "prompt_number": 19,
       "text": [
        "-9900.0"
       ]
      }
     ],
     "prompt_number": 19
    },
    {
     "cell_type": "code",
     "collapsed": false,
     "input": [
      "plt.figure(1)\n",
      "plt.plot(boundaries)\n",
      "plt.figure(2)\n",
      "plt.plot(total_m)\n",
      "plt.show()"
     ],
     "language": "python",
     "metadata": {},
     "outputs": [],
     "prompt_number": 44
    },
    {
     "cell_type": "code",
     "collapsed": false,
     "input": [
      "boundaries"
     ],
     "language": "python",
     "metadata": {},
     "outputs": [
      {
       "output_type": "pyout",
       "prompt_number": 30,
       "text": [
        "266.0"
       ]
      }
     ],
     "prompt_number": 30
    },
    {
     "cell_type": "code",
     "collapsed": false,
     "input": [],
     "language": "python",
     "metadata": {},
     "outputs": [],
     "prompt_number": 30
    },
    {
     "cell_type": "code",
     "collapsed": false,
     "input": [],
     "language": "python",
     "metadata": {},
     "outputs": []
    }
   ],
   "metadata": {}
  }
 ]
}