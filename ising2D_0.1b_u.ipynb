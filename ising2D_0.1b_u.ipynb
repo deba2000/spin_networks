{
 "metadata": {
  "name": "ising2D_0.1a_p"
 },
 "nbformat": 3,
 "nbformat_minor": 0,
 "worksheets": [
  {
   "cells": [
    {
     "cell_type": "code",
     "collapsed": false,
     "input": "# simulates ising model as function of time\n# takes time steps using Metropolis-Hastings algorithm w/ Boltzmann probability dist.",
     "language": "python",
     "metadata": {},
     "outputs": [],
     "prompt_number": 3
    },
    {
     "cell_type": "code",
     "collapsed": false,
     "input": "import math\nimport numpy as np\nimport matplotlib.pyplot as plt\nimport matplotlib.animation as animation",
     "language": "python",
     "metadata": {},
     "outputs": [],
     "prompt_number": 1
    },
    {
     "cell_type": "code",
     "collapsed": false,
     "input": "# set model parameters\nT = .01\nh = 0.0  # external applied magnetic field\nN = 16  # sqrt number of spins, square lattice for now\n\n# now build up connection strengths.\n# each strength is either + (paramagnetic) or - (ferromagnetic), also symmetric (Jij = Jji)\n# nearest-neighbor interactions only, for now; all strengths equal\n# self-interaction is zero (i.e. diag. entries are zero)\nJ0 = -10.0\nJ = np.zeros(shape=(N*N,N*N))\na = np.eye(N*N-1)\nb = np.eye(N*N-N)\nJ[1:,:-1] += a * J0\nJ[:-1,1:] += a * J0\nJ[N:,:-N] += b * J0 \nJ[:-N,N:] += b * J0\n\n# Hamiltonian\ndef H(state, J, h):\n    return np.einsum('ij,i,j', J, state, state) - h*np.sum(state)\n\n# mixing entropy\ndef S(state):\n    m = np.sum(state)\n    N = len(state)\n    Nup = (N + m)/2\n    #return np.log(math.factorial(N) / (math.factorial(Nup)*math.factorial(N-Nup)))\n    return N*np.log(N)-N - Nup*np.log(Nup)+Nup - (N-Nup)*np.log(N-Nup) + (N-Nup)\n\n# free energy\ndef F(state, T, J, h):\n    return H(state, J, h) - T*S(state)",
     "language": "python",
     "metadata": {},
     "outputs": [],
     "prompt_number": 2
    },
    {
     "cell_type": "code",
     "collapsed": false,
     "input": "# initialize state\n\"\"\"s = np.array([[1,1,1,1,-1,-1,-1,-1],\n               [1,1,1,1,-1,-1,-1,-1],\n               [1,1,1,1,-1,-1,-1,-1],\n               [1,1,1,1,-1,-1,-1,-1],\n               [1,1,1,1,-1,-1,-1,-1],\n               [1,1,1,1,-1,-1,-1,-1],\n               [1,1,1,1,-1,-1,-1,-1],\n               [1,1,1,1,-1,-1,-1,-1]])\"\"\"\n\"\"\"s0 = np.array([[1,-1,1,1,-1,-1,-1,-1],\n               [1,1,-1,1,-1,-1,-1,-1],\n               [-1,1,1,1,-1,-1,-1,-1],\n               [1,-1,1,1,-1,-1,-1,-1],\n               [1,-1,1,1,-1,-1,-1,-1],\n               [1,1,-1,1,-1,-1,-1,-1],\n               [-1,1,1,1,-1,-1,-1,-1],\n               [1,-1,1,1,-1,-1,-1,-1]])\"\"\"\ns = np.array((np.random.randint(0, 2, N*N) - 0.5) * 2, dtype='int').reshape((N,N))\nsflat = s.flatten()\n\nfig = plt.figure()\n# with winter colormap, GREEN is UP and BLUE is DOWN\nim = plt.imshow(s, extent=(0,N+1,0,N+1), cmap=plt.get_cmap('winter'), interpolation='none')\n\n# acceptance ratio initialization\n# will be dynamically tracked throughout relaxation\nacc = 1.0\nrej = 1.0\nNdraw = N\nboundaries = meas_domain(s)\n    \n# now start to evolve the system\ndef updatefig(*args):\n    global T\n    global J\n    global h\n    global sflat\n    global Ndraw\n    global acc\n    global rej\n    global boundaries\n    \n    aold = acc/rej\n    Eold = H(sflat, J, h)\n    \n    while True:\n        posdraw = np.sort(np.random.randint(0, N*N, size=(Ndraw,)))\n        # flip chosen spins (note: some might be flipped 2, 3, etc. times)\n        for i in range(Ndraw):\n            sflat[posdraw[i]] *= -1\n        \n        Enew = H(sflat, J, h)\n        if Enew <= Eold:\n            acc += 1.0\n            if acc/rej >= aold:\n                Ndraw += 1\n            if Ndraw >= 2:\n                Ndraw -= 1\n            break\n        else:\n            draw = np.random.random_sample()\n            if np.exp(-(1.0/T)*(Enew - Eold)) > draw:\n                acc += 1.0\n                if acc/rej >= aold:\n                    Ndraw += 1\n                if Ndraw >= 2:\n                    Ndraw -= 1\n                break\n            else:\n                for i in range(Ndraw):\n                    sflat[posdraw[i]] *= -1\n                rej += 1.0\n                if acc/rej >= aold:\n                    Ndraw += 1\n                if Ndraw >= 2:\n                    Ndraw -= 1\n                continue\n    s = sflat.reshape(N,N)\n    \n   # print acc/rej\n   # print Ndraw\n    \n    #print meas_domain(s)\n    np.append(boundaries, meas_domain(s))\n    print boundaries\n    im.set_array(s)\n    return im,\n\nani = animation.FuncAnimation(fig, updatefig, blit=True)\nplt.show()",
     "language": "python",
     "metadata": {},
     "outputs": [
      {
       "output_type": "stream",
       "stream": "stdout",
       "text": "240.0\n240.0"
      },
      {
       "output_type": "stream",
       "stream": "stdout",
       "text": "\n240.0"
      },
      {
       "output_type": "stream",
       "stream": "stdout",
       "text": "\n240.0"
      },
      {
       "output_type": "stream",
       "stream": "stdout",
       "text": "\n240.0"
      },
      {
       "output_type": "stream",
       "stream": "stdout",
       "text": "\n240.0"
      },
      {
       "output_type": "stream",
       "stream": "stdout",
       "text": "\n240.0"
      },
      {
       "output_type": "stream",
       "stream": "stdout",
       "text": "\n240.0"
      },
      {
       "output_type": "stream",
       "stream": "stdout",
       "text": "\n240.0"
      },
      {
       "output_type": "stream",
       "stream": "stdout",
       "text": "\n240.0"
      },
      {
       "output_type": "stream",
       "stream": "stdout",
       "text": "\n240.0"
      },
      {
       "output_type": "stream",
       "stream": "stdout",
       "text": "\n240.0"
      },
      {
       "output_type": "stream",
       "stream": "stdout",
       "text": "\n240.0"
      },
      {
       "output_type": "stream",
       "stream": "stdout",
       "text": "\n240.0"
      },
      {
       "output_type": "stream",
       "stream": "stdout",
       "text": "\n240.0"
      },
      {
       "output_type": "stream",
       "stream": "stdout",
       "text": "\n"
      }
     ],
     "prompt_number": 32
    },
    {
     "cell_type": "code",
     "collapsed": false,
     "input": "plt.close()",
     "language": "python",
     "metadata": {},
     "outputs": [],
     "prompt_number": 20
    },
    {
     "cell_type": "code",
     "collapsed": false,
     "input": "# URI ADDED VER 0.1.0b_u\n# measure of Domainyness\n\n#takes array of spins in NxN ones and zeros\ndef meas_domain(spins):\n    xboundaries = spins[:,1:]!= spins[:,:-1]\n    yboundaries = spins[1:,:]!= spins[:-1,:]\n    bound = np.zeros((N,N))\n    bound[:,1:] += xboundaries \n    bound[1:,:] += yboundaries\n    return np.sum(bound)\n\n",
     "language": "python",
     "metadata": {},
     "outputs": [],
     "prompt_number": 21
    },
    {
     "cell_type": "code",
     "collapsed": false,
     "input": "a = 0\nnp.append(a,3)",
     "language": "python",
     "metadata": {},
     "outputs": [
      {
       "output_type": "pyout",
       "prompt_number": 31,
       "text": "array([0, 3])"
      }
     ],
     "prompt_number": 31
    },
    {
     "cell_type": "code",
     "collapsed": false,
     "input": "np.sum(J)",
     "language": "python",
     "metadata": {},
     "outputs": [
      {
       "output_type": "pyout",
       "prompt_number": 19,
       "text": "-9900.0"
      }
     ],
     "prompt_number": 19
    },
    {
     "cell_type": "code",
     "collapsed": false,
     "input": "plt.figure(1)\nplt.plot(boundaries)\nplt.show()",
     "language": "python",
     "metadata": {},
     "outputs": [],
     "prompt_number": 29
    },
    {
     "cell_type": "code",
     "collapsed": false,
     "input": "boundaries",
     "language": "python",
     "metadata": {},
     "outputs": [
      {
       "output_type": "pyout",
       "prompt_number": 30,
       "text": "266.0"
      }
     ],
     "prompt_number": 30
    },
    {
     "cell_type": "code",
     "collapsed": false,
     "input": "",
     "language": "python",
     "metadata": {},
     "outputs": [],
     "prompt_number": 30
    },
    {
     "cell_type": "code",
     "collapsed": false,
     "input": "",
     "language": "python",
     "metadata": {},
     "outputs": []
    }
   ],
   "metadata": {}
  }
 ]
}