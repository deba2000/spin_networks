{
 "metadata": {
  "name": ""
 },
 "nbformat": 3,
 "nbformat_minor": 0,
 "worksheets": [
  {
   "cells": [
    {
     "cell_type": "code",
     "collapsed": false,
     "input": [
      "# simulates ising model as function of time\n",
      "# takes time steps using Metropolis-Hastings algorithm w/ Boltzmann probability dist."
     ],
     "language": "python",
     "metadata": {},
     "outputs": [],
     "prompt_number": 3
    },
    {
     "cell_type": "code",
     "collapsed": false,
     "input": [
      "import math\n",
      "import numpy as np\n",
      "import matplotlib.pyplot as plt\n",
      "import matplotlib.animation as animation"
     ],
     "language": "python",
     "metadata": {},
     "outputs": [],
     "prompt_number": 1
    },
    {
     "cell_type": "code",
     "collapsed": false,
     "input": [
      "# URI ADDED VER 0.1b_u\n",
      "# measure of Domainyness\n",
      "\n",
      "#takes array of spins in NxN ones and zeros\n",
      "def meas_domain(spins):\n",
      "    xboundaries = spins[:,1:]!= spins[:,:-1]\n",
      "    yboundaries = spins[1:,:]!= spins[:-1,:]\n",
      "    bound = np.zeros((N,N))\n",
      "    bound[:,1:] += xboundaries \n",
      "    bound[1:,:] += yboundaries\n",
      "    return np.sum(bound)\n",
      "\n"
     ],
     "language": "python",
     "metadata": {},
     "outputs": [],
     "prompt_number": 2
    },
    {
     "cell_type": "code",
     "collapsed": false,
     "input": [
      "# URI ADDDED 0.1 \n",
      "# works best with N divisible by cg (course-graining size)\n",
      "# Count probability of finding a +1 spin in each cg x cg box\n",
      "\n",
      "cg = 4\n",
      "def entropy(s):\n",
      "    prob1 = np.zeros((N/cg,N/cg))\n",
      "    prob2 = np.zeros((N/cg,N/cg))\n",
      "    \n",
      "    for i in range(cg):\n",
      "        for j in range(cg):\n",
      "            prob1 += s[i::cg,j::cg]== 1\n",
      "            prob2 += s[i::cg,j::cg]== -1\n",
      "            \n",
      "    prob1 = prob1/N\n",
      "    prob2 = prob2/N\n",
      "    \n",
      "    ent1 = prob1*np.log(prob1)\n",
      "    ent1[prob1==0] = 0\n",
      "    \n",
      "    ent2 = prob2*np.log(prob2)\n",
      "    ent2[prob2==0] = 0\n",
      "    \n",
      "    ent = -np.sum(ent1)-np.sum(2)\n",
      "    return ent"
     ],
     "language": "python",
     "metadata": {},
     "outputs": [],
     "prompt_number": 3
    },
    {
     "cell_type": "code",
     "collapsed": false,
     "input": [
      "i = 1\n",
      "a = np.array([1, 2, 3, 4, 5])\n",
      "a[i::2]\n",
      "\n",
      "# this comment is here for no reason whatsoever"
     ],
     "language": "python",
     "metadata": {},
     "outputs": [
      {
       "output_type": "pyout",
       "prompt_number": 78,
       "text": [
        "array([2, 4])"
       ]
      }
     ],
     "prompt_number": 78
    },
    {
     "cell_type": "code",
     "collapsed": false,
     "input": [
      "# set model parameters\n",
      "T = 100.1\n",
      "h = 0.0  # external applied magnetic field\n",
      "N = 24  # sqrt number of spins, square lattice for now\n",
      "\n",
      "# now build up connection strengths.\n",
      "# each strength is either + (paramagnetic) or - (ferromagnetic), also symmetric (Jij = Jji)\n",
      "# nearest-neighbor interactions only, for now; all strengths equal\n",
      "# self-interaction is zero (i.e. diag. entries are zero)\n",
      "J0 = -10.0\n",
      "J = np.zeros(shape=(N*N,N*N))\n",
      "a = np.eye(N*N-1)\n",
      "b = np.eye(N*N-N)\n",
      "J[1:,:-1] += a * J0\n",
      "J[:-1,1:] += a * J0\n",
      "J[N:,:-N] += b * J0 \n",
      "#J[:-N,N:] += b * J0\n",
      "\n",
      "# Hamiltonian\n",
      "def H(state, J, h):\n",
      "    return np.einsum('ij,i,j', J, state, state) - h*np.sum(state)\n",
      "\n",
      "# mixing entropy\n",
      "def S(state):\n",
      "    m = np.sum(state)\n",
      "    N = np.size(state)\n",
      "    Nup = (N + m)/2\n",
      "    #return np.log(math.factorial(N) / (math.factorial(Nup)*math.factorial(N-Nup)))\n",
      "    \"\"\"\n",
      "    print 'N = ' + str(N)\n",
      "    print 'm = ' + str(m)\n",
      "    print 'Nup = ' + str(Nup)\n",
      "    \"\"\" \n",
      "    \n",
      "    return N*np.log(N)-N - Nup*np.log(Nup)+Nup - (N-Nup)*np.log(N-Nup) + (N-Nup)\n",
      "\n",
      "# free energy\n",
      "def F(state, T, J, h):\n",
      "    return H(state, J, h) - T*S(state)"
     ],
     "language": "python",
     "metadata": {},
     "outputs": [],
     "prompt_number": 29
    },
    {
     "cell_type": "code",
     "collapsed": false,
     "input": [
      "a = np.array([[1,2,3],[4,5,6]])\n",
      "print a\n",
      "print a.size"
     ],
     "language": "python",
     "metadata": {},
     "outputs": [
      {
       "output_type": "stream",
       "stream": "stdout",
       "text": [
        "[[1 2 3]\n",
        " [4 5 6]]\n",
        "6\n"
       ]
      }
     ],
     "prompt_number": 17
    },
    {
     "cell_type": "code",
     "collapsed": false,
     "input": [
      "# initialize state\n",
      "\"\"\"s = np.array([[1,1,1,1,-1,-1,-1,-1],\n",
      "               [1,1,1,1,-1,-1,-1,-1],\n",
      "               [1,1,1,1,-1,-1,-1,-1],\n",
      "               [1,1,1,1,-1,-1,-1,-1],\n",
      "               [1,1,1,1,-1,-1,-1,-1],\n",
      "               [1,1,1,1,-1,-1,-1,-1],\n",
      "               [1,1,1,1,-1,-1,-1,-1],\n",
      "               [1,1,1,1,-1,-1,-1,-1]])\"\"\"\n",
      "\"\"\"s0 = np.array([[1,-1,1,1,-1,-1,-1,-1],\n",
      "               [1,1,-1,1,-1,-1,-1,-1],\n",
      "               [-1,1,1,1,-1,-1,-1,-1],\n",
      "               [1,-1,1,1,-1,-1,-1,-1],\n",
      "               [1,-1,1,1,-1,-1,-1,-1],\n",
      "               [1,1,-1,1,-1,-1,-1,-1],\n",
      "               [-1,1,1,1,-1,-1,-1,-1],\n",
      "               [1,-1,1,1,-1,-1,-1,-1]])\"\"\"\n",
      "s = np.array((np.random.randint(0, 2, N*N) - 0.5) * 2, dtype='int').reshape((N,N))\n",
      "sflat = s.flatten()\n",
      "\n",
      "fig = plt.figure()\n",
      "# with winter colormap, GREEN is UP and BLUE is DOWN\n",
      "im = plt.imshow(s, extent=(0,N+1,0,N+1), cmap=plt.get_cmap('winter'), interpolation='none')\n",
      "\n",
      "# acceptance ratio initialization\n",
      "# will be dynamically tracked throughout relaxation\n",
      "acc = 1.0\n",
      "rej = 1.0\n",
      "Ndraw = N\n",
      "boundaries = meas_domain(s)\n",
      "total_m = np.sum(s)\n",
      "entrop = 0\n",
      "\n",
      "# now start to evolve the system\n",
      "def updatefig(*args):\n",
      "    global T\n",
      "    global J\n",
      "    global h\n",
      "    global sflat\n",
      "    global Ndraw\n",
      "    global acc\n",
      "    global rej\n",
      "    global boundaries\n",
      "    global total_m\n",
      "    global entrop\n",
      "    \n",
      "    aold = acc/rej\n",
      "    Eold = H(sflat, J, h)\n",
      "    \n",
      "    while True:\n",
      "        posdraw = np.sort(np.random.randint(0, N*N, size=(Ndraw,)))\n",
      "        # flip chosen spins (note: some might be flipped 2, 3, etc. times)\n",
      "        for i in range(Ndraw):\n",
      "            sflat[posdraw[i]] *= -1\n",
      "        \n",
      "        Enew = H(sflat, J, h)\n",
      "        if Enew <= Eold:\n",
      "            acc += 1.0\n",
      "            if acc/rej >= aold:\n",
      "                Ndraw += 1\n",
      "            if Ndraw >= 2:\n",
      "                Ndraw -= 1\n",
      "            break\n",
      "        else:\n",
      "            draw = np.random.random_sample()\n",
      "            if np.exp(-(1.0/T)*(Enew - Eold)) > draw:\n",
      "                acc += 1.0\n",
      "                if acc/rej >= aold:\n",
      "                    Ndraw += 1\n",
      "                if Ndraw >= 2:\n",
      "                    Ndraw -= 1\n",
      "                break\n",
      "            else:\n",
      "                for i in range(Ndraw):\n",
      "                    sflat[posdraw[i]] *= -1\n",
      "                rej += 1.0\n",
      "                if acc/rej >= aold:\n",
      "                    Ndraw += 1\n",
      "                if Ndraw >= 2:\n",
      "                    Ndraw -= 1\n",
      "                continue\n",
      "    s = sflat.reshape(N,N)\n",
      "    \n",
      "   # print acc/rej\n",
      "    #print Ndraw\n",
      "    \n",
      "    #print meas_domain(s)\n",
      "    boundaries = np.append(boundaries, meas_domain(s))\n",
      "    total_m = np.append(total_m,np.sum(s))\n",
      "    entrop = np.append(entrop,entropy(s))\n",
      "    print meas_domain(s), np.sum(s), entropy(s), S(s)\n",
      "    im.set_array(s)\n",
      "    return im,\n",
      "\n",
      "ani = animation.FuncAnimation(fig, updatefig, blit=True)\n",
      "plt.show()"
     ],
     "language": "python",
     "metadata": {},
     "outputs": [
      {
       "output_type": "stream",
       "stream": "stdout",
       "text": [
        "527.0 26 10.7624439503 398.665771013\n",
        "523.0 18 10.6539283658 398.971480208\n",
        "522.0"
       ]
      },
      {
       "output_type": "stream",
       "stream": "stdout",
       "text": [
        " 14 10.5816896645 399.082620358\n",
        "516.0"
       ]
      },
      {
       "output_type": "stream",
       "stream": "stdout",
       "text": [
        " 8 10.5977666412 399.197218661\n",
        "521.0"
       ]
      },
      {
       "output_type": "stream",
       "stream": "stdout",
       "text": [
        " 4 10.6057875067 399.238887002\n",
        "517.0"
       ]
      },
      {
       "output_type": "stream",
       "stream": "stdout",
       "text": [
        " -4 10.5759502675 399.238887002\n",
        "511.0"
       ]
      },
      {
       "output_type": "stream",
       "stream": "stdout",
       "text": [
        " 10 10.6724530982 399.165966086\n",
        "516.0"
       ]
      },
      {
       "output_type": "stream",
       "stream": "stdout",
       "text": [
        " 26 10.7151247029 398.665771013\n",
        "515.0"
       ]
      },
      {
       "output_type": "stream",
       "stream": "stdout",
       "text": [
        " 24 10.6714130664 398.752631226\n",
        "515.0"
       ]
      },
      {
       "output_type": "stream",
       "stream": "stdout",
       "text": [
        " 34 10.7009644075 398.248720237\n",
        "519.0"
       ]
      },
      {
       "output_type": "stream",
       "stream": "stdout",
       "text": [
        " 32 10.732720259 398.363429301\n",
        "514.0"
       ]
      },
      {
       "output_type": "stream",
       "stream": "stdout",
       "text": [
        " 30 10.7407646856 398.471172406\n",
        "517.0"
       ]
      },
      {
       "output_type": "stream",
       "stream": "stdout",
       "text": [
        " 38 10.7257733826 397.998392939\n",
        "515.0"
       ]
      },
      {
       "output_type": "stream",
       "stream": "stdout",
       "text": [
        " 30 10.7806990129 398.471172406\n",
        "513.0"
       ]
      },
      {
       "output_type": "stream",
       "stream": "stdout",
       "text": [
        " 32 10.7688538415 398.363429301\n",
        "513.0"
       ]
      },
      {
       "output_type": "stream",
       "stream": "stdout",
       "text": [
        " 34 10.7915166768 398.248720237\n",
        "519.0"
       ]
      },
      {
       "output_type": "stream",
       "stream": "stdout",
       "text": [
        " 30 10.7960674283 398.471172406\n",
        "520.0"
       ]
      },
      {
       "output_type": "stream",
       "stream": "stdout",
       "text": [
        " 22 10.7394409358 398.832534903\n",
        "528.0"
       ]
      },
      {
       "output_type": "stream",
       "stream": "stdout",
       "text": [
        " 20 10.7935976012 398.905483976\n",
        "531.0"
       ]
      },
      {
       "output_type": "stream",
       "stream": "stdout",
       "text": [
        " 22 10.7672317646 398.832534903\n",
        "531.0"
       ]
      },
      {
       "output_type": "stream",
       "stream": "stdout",
       "text": [
        " 22 10.7612589704 398.832534903\n",
        "529.0"
       ]
      },
      {
       "output_type": "stream",
       "stream": "stdout",
       "text": [
        " 26 10.7598335147 398.665771013\n",
        "528.0"
       ]
      },
      {
       "output_type": "stream",
       "stream": "stdout",
       "text": [
        " 24 10.7670394831 398.752631226\n",
        "530.0"
       ]
      },
      {
       "output_type": "stream",
       "stream": "stdout",
       "text": [
        " 22 10.7602106272 398.832534903\n",
        "529.0"
       ]
      },
      {
       "output_type": "stream",
       "stream": "stdout",
       "text": [
        " 24 10.7530046589 398.752631226\n",
        "527.0"
       ]
      },
      {
       "output_type": "stream",
       "stream": "stdout",
       "text": [
        " 26 10.7499723296 398.665771013\n",
        "526.0"
       ]
      },
      {
       "output_type": "stream",
       "stream": "stdout",
       "text": [
        " 24 10.7483654559 398.752631226\n",
        "526.0"
       ]
      },
      {
       "output_type": "stream",
       "stream": "stdout",
       "text": [
        " 22 10.7467585823 398.832534903\n",
        "526.0"
       ]
      },
      {
       "output_type": "stream",
       "stream": "stdout",
       "text": [
        " 20 10.7339569322 398.905483976\n",
        "524.0"
       ]
      },
      {
       "output_type": "stream",
       "stream": "stdout",
       "text": [
        " 22 10.740785788 398.832534903\n",
        "524.0"
       ]
      },
      {
       "output_type": "stream",
       "stream": "stdout",
       "text": [
        " 20 10.7020894025 398.905483976\n",
        "524.0"
       ]
      },
      {
       "output_type": "stream",
       "stream": "stdout",
       "text": [
        " 22 10.7036962762 398.832534903\n",
        "525.0"
       ]
      },
      {
       "output_type": "stream",
       "stream": "stdout",
       "text": [
        " 24 10.7053031498 398.752631226\n",
        "529.0"
       ]
      },
      {
       "output_type": "stream",
       "stream": "stdout",
       "text": [
        " 26 10.7439995353 398.665771013\n",
        "529.0"
       ]
      },
      {
       "output_type": "stream",
       "stream": "stdout",
       "text": [
        " 24 10.7371706795 398.752631226\n",
        "527.0"
       ]
      },
      {
       "output_type": "stream",
       "stream": "stdout",
       "text": [
        " 26 10.7439995353 398.665771013\n",
        "525.0"
       ]
      },
      {
       "output_type": "stream",
       "stream": "stdout",
       "text": [
        " 24 10.7470318646 398.752631226\n",
        "527.0"
       ]
      },
      {
       "output_type": "stream",
       "stream": "stdout",
       "text": [
        " 22 10.750064194 398.832534903\n",
        "525.0"
       ]
      },
      {
       "output_type": "stream",
       "stream": "stdout",
       "text": [
        " 20 10.7572701623 398.905483976\n",
        "525.0"
       ]
      },
      {
       "output_type": "stream",
       "stream": "stdout",
       "text": [
        " 18 10.7556632886 398.971480208\n",
        "527.0"
       ]
      },
      {
       "output_type": "stream",
       "stream": "stdout",
       "text": [
        " 20 10.7411879545 398.905483976\n",
        "527.0"
       ]
      },
      {
       "output_type": "stream",
       "stream": "stdout",
       "text": [
        " 22 10.7339819862 398.832534903\n",
        "526.0"
       ]
      },
      {
       "output_type": "stream",
       "stream": "stdout",
       "text": [
        " 20 10.7211803361 398.905483976\n",
        "526.0"
       ]
      },
      {
       "output_type": "stream",
       "stream": "stdout",
       "text": [
        " 18 10.7242126654 398.971480208\n",
        "526.0"
       ]
      },
      {
       "output_type": "stream",
       "stream": "stdout",
       "text": [
        " 16 10.7272449947 399.030525194\n",
        "528.0"
       ]
      },
      {
       "output_type": "stream",
       "stream": "stdout",
       "text": [
        " 14 10.730277324 399.082620358\n",
        "528.0"
       ]
      },
      {
       "output_type": "stream",
       "stream": "stdout",
       "text": [
        " 16 10.7318841977 399.030525194\n",
        "526.0"
       ]
      },
      {
       "output_type": "stream",
       "stream": "stdout",
       "text": [
        " 14 10.730277324 399.082620358\n",
        "528.0"
       ]
      },
      {
       "output_type": "stream",
       "stream": "stdout",
       "text": [
        " 16 10.7430789741 399.030525194\n",
        "528.0"
       ]
      },
      {
       "output_type": "stream",
       "stream": "stdout",
       "text": [
        " 18 10.7558806242 398.971480208\n",
        "528.0"
       ]
      },
      {
       "output_type": "stream",
       "stream": "stdout",
       "text": [
        " 20 10.7686822743 398.905483976\n",
        "526.0"
       ]
      },
      {
       "output_type": "stream",
       "stream": "stdout",
       "text": [
        " 18 10.7796813562 398.971480208\n",
        "526.0"
       ]
      },
      {
       "output_type": "stream",
       "stream": "stdout",
       "text": [
        " 16 10.7409849707 399.030525194\n",
        "524.0"
       ]
      },
      {
       "output_type": "stream",
       "stream": "stdout",
       "text": [
        " 18 10.7478138266 398.971480208\n",
        "524.0"
       ]
      },
      {
       "output_type": "stream",
       "stream": "stdout",
       "text": [
        " 16 10.7550197949 399.030525194\n",
        "528.0"
       ]
      },
      {
       "output_type": "stream",
       "stream": "stdout",
       "text": [
        " 14 10.7534129213 399.082620358\n",
        "530.0"
       ]
      },
      {
       "output_type": "stream",
       "stream": "stdout",
       "text": [
        " 16 10.7550197949 399.030525194\n",
        "530.0"
       ]
      },
      {
       "output_type": "stream",
       "stream": "stdout",
       "text": [
        " 14 10.7422181448 399.082620358\n",
        "528.0"
       ]
      },
      {
       "output_type": "stream",
       "stream": "stdout",
       "text": [
        " 16 10.7438250185 399.030525194\n",
        "528.0"
       ]
      },
      {
       "output_type": "stream",
       "stream": "stdout",
       "text": [
        " 18 10.7636036259 398.971480208\n",
        "526.0"
       ]
      },
      {
       "output_type": "stream",
       "stream": "stdout",
       "text": [
        " 20 10.7605712966 398.905483976\n",
        "524.0"
       ]
      },
      {
       "output_type": "stream",
       "stream": "stdout",
       "text": [
        " 22 10.7575389672 398.832534903\n",
        "524.0"
       ]
      },
      {
       "output_type": "stream",
       "stream": "stdout",
       "text": [
        " 20 10.7605712966 398.905483976\n",
        "522.0"
       ]
      },
      {
       "output_type": "stream",
       "stream": "stdout",
       "text": [
        " 18 10.7677772649 398.971480208\n",
        "525.0"
       ]
      },
      {
       "output_type": "stream",
       "stream": "stdout",
       "text": [
        " 20 10.7693841386 398.905483976\n",
        "523.0"
       ]
      },
      {
       "output_type": "stream",
       "stream": "stdout",
       "text": [
        " 22 10.7975525433 398.832534903\n",
        "521.0"
       ]
      },
      {
       "output_type": "stream",
       "stream": "stdout",
       "text": [
        " 24 10.794520214 398.752631226\n",
        "521.0"
       ]
      },
      {
       "output_type": "stream",
       "stream": "stdout",
       "text": [
        " 26 10.7873142456 398.665771013\n",
        "519.0"
       ]
      },
      {
       "output_type": "stream",
       "stream": "stdout",
       "text": [
        " 28 10.7728389115 398.571952163\n",
        "519.0"
       ]
      },
      {
       "output_type": "stream",
       "stream": "stdout",
       "text": [
        " 26 10.7600372614 398.665771013\n",
        "519.0"
       ]
      },
      {
       "output_type": "stream",
       "stream": "stdout",
       "text": [
        " 28 10.752831293 398.571952163\n",
        "519.0"
       ]
      },
      {
       "output_type": "stream",
       "stream": "stdout",
       "text": [
        " 26 10.7512244194 398.665771013\n",
        "517.0"
       ]
      },
      {
       "output_type": "stream",
       "stream": "stdout",
       "text": [
        " 24 10.731445812 398.752631226\n",
        "518.0"
       ]
      },
      {
       "output_type": "stream",
       "stream": "stdout",
       "text": [
        " 26 10.7242398436 398.665771013\n",
        "516.0"
       ]
      },
      {
       "output_type": "stream",
       "stream": "stdout",
       "text": [
        " 28 10.7258467173 398.571952163\n",
        "516.0"
       ]
      },
      {
       "output_type": "stream",
       "stream": "stdout",
       "text": [
        " 30 10.722814388 398.471172406\n",
        "519.0"
       ]
      },
      {
       "output_type": "stream",
       "stream": "stdout",
       "text": [
        " 32 10.7356160381 398.363429301\n",
        "518.0"
       ]
      },
      {
       "output_type": "stream",
       "stream": "stdout",
       "text": [
        " 30 10.7340091644 398.471172406\n",
        "518.0"
       ]
      },
      {
       "output_type": "stream",
       "stream": "stdout",
       "text": [
        " 28 10.7324022907 398.571952163\n",
        "518.0"
       ]
      },
      {
       "output_type": "stream",
       "stream": "stdout",
       "text": [
        " 30 10.7340091644 398.471172406\n",
        "516.0"
       ]
      },
      {
       "output_type": "stream",
       "stream": "stdout",
       "text": [
        " 28 10.6953127789 398.571952163\n",
        "516.0"
       ]
      },
      {
       "output_type": "stream",
       "stream": "stdout",
       "text": [
        " 30 10.7021416348 398.471172406\n",
        "514.0"
       ]
      },
      {
       "output_type": "stream",
       "stream": "stdout",
       "text": [
        " 28 10.6953127789 398.571952163\n",
        "514.0"
       ]
      },
      {
       "output_type": "stream",
       "stream": "stdout",
       "text": [
        " 26 10.6983451082 398.665771013\n",
        "512.0"
       ]
      },
      {
       "output_type": "stream",
       "stream": "stdout",
       "text": [
        " 24 10.7128204424 398.752631226\n",
        "514.0"
       ]
      },
      {
       "output_type": "stream",
       "stream": "stdout",
       "text": [
        " 22 10.7112135687 398.832534903\n",
        "516.0"
       ]
      },
      {
       "output_type": "stream",
       "stream": "stdout",
       "text": [
        " 24 10.7499099542 398.752631226\n",
        "518.0"
       ]
      },
      {
       "output_type": "stream",
       "stream": "stdout",
       "text": [
        " 26 10.75673881 398.665771013\n",
        "520.0"
       ]
      },
      {
       "output_type": "stream",
       "stream": "stdout",
       "text": [
        " 24 10.7639447784 398.752631226\n",
        "520.0"
       ]
      },
      {
       "output_type": "stream",
       "stream": "stdout",
       "text": [
        " 26 10.7655516521 398.665771013\n",
        "522.0"
       ]
      },
      {
       "output_type": "stream",
       "stream": "stdout",
       "text": [
        " 24 10.7639447784 398.752631226\n",
        "522.0"
       ]
      },
      {
       "output_type": "stream",
       "stream": "stdout",
       "text": [
        " 26 10.75673881 398.665771013\n",
        "524.0"
       ]
      },
      {
       "output_type": "stream",
       "stream": "stdout",
       "text": [
        " 24 10.7499099542 398.752631226\n",
        "526.0"
       ]
      },
      {
       "output_type": "stream",
       "stream": "stdout",
       "text": [
        " 22 10.7571159225 398.832534903\n",
        "524.0"
       ]
      },
      {
       "output_type": "stream",
       "stream": "stdout",
       "text": [
        " 24 10.7540835932 398.752631226\n",
        "524.0"
       ]
      },
      {
       "output_type": "stream",
       "stream": "stdout",
       "text": [
        " 22 10.7612895616 398.832534903\n",
        "522.0"
       ]
      },
      {
       "output_type": "stream",
       "stream": "stdout",
       "text": [
        " 24 10.7436059309 398.752631226\n",
        "522.0"
       ]
      },
      {
       "output_type": "stream",
       "stream": "stdout",
       "text": [
        " 22 10.7466382602 398.832534903\n",
        "522.0"
       ]
      },
      {
       "output_type": "stream",
       "stream": "stdout",
       "text": [
        " 20 10.7268596528 398.905483976\n",
        "524.0"
       ]
      },
      {
       "output_type": "stream",
       "stream": "stdout",
       "text": [
        " 18 10.720030797 398.971480208\n",
        "524.0"
       ]
      },
      {
       "output_type": "stream",
       "stream": "stdout",
       "text": [
        " 16 10.7132019411 399.030525194\n",
        "524.0"
       ]
      },
      {
       "output_type": "stream",
       "stream": "stdout",
       "text": [
        " 18 10.7148088148 398.971480208\n",
        "524.0"
       ]
      },
      {
       "output_type": "stream",
       "stream": "stdout",
       "text": [
        " 20 10.7076028464 398.905483976\n",
        "522.0"
       ]
      },
      {
       "output_type": "stream",
       "stream": "stdout",
       "text": [
        " 22 10.7092097201 398.832534903\n",
        "523.0"
       ]
      },
      {
       "output_type": "stream",
       "stream": "stdout",
       "text": [
        " 24 10.7108165937 398.752631226\n",
        "523.0"
       ]
      },
      {
       "output_type": "stream",
       "stream": "stdout",
       "text": [
        " 22 10.7039877379 398.832534903\n",
        "525.0"
       ]
      },
      {
       "output_type": "stream",
       "stream": "stdout",
       "text": [
        " 20 10.7070200672 398.905483976\n",
        "525.0"
       ]
      },
      {
       "output_type": "stream",
       "stream": "stdout",
       "text": [
        " 22 10.7086269409 398.832534903\n",
        "522.0"
       ]
      },
      {
       "output_type": "stream",
       "stream": "stdout",
       "text": [
        " 24 10.7055946115 398.752631226\n",
        "519.0"
       ]
      },
      {
       "output_type": "stream",
       "stream": "stdout",
       "text": [
        " 26 10.7183962616 398.665771013\n",
        "517.0"
       ]
      },
      {
       "output_type": "stream",
       "stream": "stdout",
       "text": [
        " 28 10.7111902933 398.571952163\n",
        "517.0"
       ]
      },
      {
       "output_type": "stream",
       "stream": "stdout",
       "text": [
        " 26 10.7183962616 398.665771013\n",
        "517.0"
       ]
      },
      {
       "output_type": "stream",
       "stream": "stdout",
       "text": [
        " 24 10.716789388 398.752631226\n",
        "515.0"
       ]
      },
      {
       "output_type": "stream",
       "stream": "stdout",
       "text": [
        " 22 10.7099605321 398.832534903\n",
        "516.0"
       ]
      },
      {
       "output_type": "stream",
       "stream": "stdout",
       "text": [
        " 20 10.7083536585 398.905483976\n",
        "516.0"
       ]
      },
      {
       "output_type": "stream",
       "stream": "stdout",
       "text": [
        " 18 10.7067467848 398.971480208\n",
        "516.0"
       ]
      },
      {
       "output_type": "stream",
       "stream": "stdout",
       "text": [
        " 20 10.7037144555 398.905483976\n",
        "514.0"
       ]
      },
      {
       "output_type": "stream",
       "stream": "stdout",
       "text": [
        " 18 10.7067467848 398.971480208\n",
        "514.0"
       ]
      },
      {
       "output_type": "stream",
       "stream": "stdout",
       "text": [
        " 20 10.7037144555 398.905483976\n",
        "514.0"
       ]
      },
      {
       "output_type": "stream",
       "stream": "stdout",
       "text": [
        " 18 10.7067467848 398.971480208\n",
        "512.0"
       ]
      },
      {
       "output_type": "stream",
       "stream": "stdout",
       "text": [
        " 16 10.7051399112 399.030525194\n",
        "515.0"
       ]
      },
      {
       "output_type": "stream",
       "stream": "stdout",
       "text": [
        " 18 10.711968767 398.971480208\n",
        "513.0"
       ]
      },
      {
       "output_type": "stream",
       "stream": "stdout",
       "text": [
        " 16 10.7150010963 399.030525194\n",
        "511.0"
       ]
      },
      {
       "output_type": "stream",
       "stream": "stdout",
       "text": [
        " 14 10.7081722405 399.082620358\n",
        "509.0"
       ]
      },
      {
       "output_type": "stream",
       "stream": "stdout",
       "text": [
        " 12 10.6953705904 399.127766959\n",
        "512.0"
       ]
      },
      {
       "output_type": "stream",
       "stream": "stdout",
       "text": [
        " 14 10.696977464 399.082620358\n",
        "514.0"
       ]
      },
      {
       "output_type": "stream",
       "stream": "stdout",
       "text": [
        " 16 10.7097791141 399.030525194\n",
        "515.0"
       ]
      },
      {
       "output_type": "stream",
       "stream": "stdout",
       "text": [
        " 18 10.7113859878 398.971480208\n",
        "514.0"
       ]
      },
      {
       "output_type": "stream",
       "stream": "stdout",
       "text": [
        " 16 10.7097791141 399.030525194\n",
        "514.0"
       ]
      },
      {
       "output_type": "stream",
       "stream": "stdout",
       "text": [
        " 14 10.7081722405 399.082620358\n",
        "514.0"
       ]
      },
      {
       "output_type": "stream",
       "stream": "stdout",
       "text": [
        " 16 10.7051399112 399.030525194\n",
        "512.0"
       ]
      },
      {
       "output_type": "stream",
       "stream": "stdout",
       "text": [
        " 14 10.6983110553 399.082620358\n",
        "512.0"
       ]
      },
      {
       "output_type": "stream",
       "stream": "stdout",
       "text": [
        " 16 10.7051399112 399.030525194\n",
        "512.0"
       ]
      },
      {
       "output_type": "stream",
       "stream": "stdout",
       "text": [
        " 14 10.6923382611 399.082620358\n",
        "510.0"
       ]
      },
      {
       "output_type": "stream",
       "stream": "stdout",
       "text": [
        " 12 10.6641698564 399.127766959\n",
        "511.0"
       ]
      },
      {
       "output_type": "stream",
       "stream": "stdout",
       "text": [
        " 10 10.6513682063 399.165966086\n",
        "509.0"
       ]
      },
      {
       "output_type": "stream",
       "stream": "stdout",
       "text": [
        " 8 10.6544005356 399.197218661\n",
        "507.0"
       ]
      },
      {
       "output_type": "stream",
       "stream": "stdout",
       "text": [
        " 6 10.6475716797 399.221525437\n",
        "507.0"
       ]
      },
      {
       "output_type": "stream",
       "stream": "stdout",
       "text": [
        " 4 10.6347700296 399.238887002\n",
        "505.0"
       ]
      },
      {
       "output_type": "stream",
       "stream": "stdout",
       "text": [
        " 6 10.6237709477 399.221525437\n",
        "503.0"
       ]
      },
      {
       "output_type": "stream",
       "stream": "stdout",
       "text": [
        " 8 10.6305998036 399.197218661\n",
        "505.0"
       ]
      },
      {
       "output_type": "stream",
       "stream": "stdout",
       "text": [
        " 6 10.6378057719 399.221525437\n",
        "506.0"
       ]
      },
      {
       "output_type": "stream",
       "stream": "stdout",
       "text": [
        " 8 10.6305998036 399.197218661\n",
        "509.0"
       ]
      },
      {
       "output_type": "stream",
       "stream": "stdout",
       "text": [
        " 6 10.6378057719 399.221525437\n",
        "507.0"
       ]
      },
      {
       "output_type": "stream",
       "stream": "stdout",
       "text": [
        " 4 10.6250041218 399.238887002\n",
        "505.0"
       ]
      },
      {
       "output_type": "stream",
       "stream": "stdout",
       "text": [
        " 6 10.6447827292 399.221525437\n",
        "505.0"
       ]
      },
      {
       "output_type": "stream",
       "stream": "stdout",
       "text": [
        " 4 10.6431758555 399.238887002\n",
        "505.0"
       ]
      },
      {
       "output_type": "stream",
       "stream": "stdout",
       "text": [
        " 2 10.6415689819 399.249303773\n",
        "503.0"
       ]
      },
      {
       "output_type": "stream",
       "stream": "stdout",
       "text": [
        " 4 10.6483978377 399.238887002\n",
        "503.0"
       ]
      },
      {
       "output_type": "stream",
       "stream": "stdout",
       "text": [
        " 2 10.6467909641 399.249303773\n",
        "503.0"
       ]
      },
      {
       "output_type": "stream",
       "stream": "stdout",
       "text": [
        " 0 10.6498232934 399.252776003\n",
        "503.0"
       ]
      },
      {
       "output_type": "stream",
       "stream": "stdout",
       "text": [
        " -2 10.6482164197 399.249303773\n",
        "503.0"
       ]
      },
      {
       "output_type": "stream",
       "stream": "stdout",
       "text": [
        " 0 10.6410104514 399.252776003\n",
        "503.0"
       ]
      },
      {
       "output_type": "stream",
       "stream": "stdout",
       "text": [
        " -2 10.6482164197 399.249303773\n",
        "501.0"
       ]
      },
      {
       "output_type": "stream",
       "stream": "stdout",
       "text": [
        " 0 10.6410104514 399.252776003\n",
        "501.0"
       ]
      },
      {
       "output_type": "stream",
       "stream": "stdout",
       "text": [
        " -2 10.6341815955 399.249303773\n",
        "497.0"
       ]
      },
      {
       "output_type": "stream",
       "stream": "stdout",
       "text": [
        " -4 10.581326957 399.238887002\n",
        "499.0"
       ]
      },
      {
       "output_type": "stream",
       "stream": "stdout",
       "text": [
        " -2 10.5741209886 399.249303773\n",
        "499.0"
       ]
      },
      {
       "output_type": "stream",
       "stream": "stdout",
       "text": [
        " -4 10.5543423812 399.238887002\n",
        "499.0"
       ]
      },
      {
       "output_type": "stream",
       "stream": "stdout",
       "text": [
        " -6 10.5615483496 399.221525437\n",
        "499.0"
       ]
      },
      {
       "output_type": "stream",
       "stream": "stdout",
       "text": [
        " -8 10.5487466995 399.197218661\n",
        "501.0"
       ]
      },
      {
       "output_type": "stream",
       "stream": "stdout",
       "text": [
        " -10 10.5559526679 399.165966086\n",
        "502.0"
       ]
      },
      {
       "output_type": "stream",
       "stream": "stdout",
       "text": [
        " -8 10.5687543179 399.197218661\n",
        "502.0"
       ]
      },
      {
       "output_type": "stream",
       "stream": "stdout",
       "text": [
        " -6 10.5703611916 399.221525437\n",
        "504.0"
       ]
      },
      {
       "output_type": "stream",
       "stream": "stdout",
       "text": [
        " -4 10.5719680653 399.238887002\n",
        "507.0"
       ]
      },
      {
       "output_type": "stream",
       "stream": "stdout",
       "text": [
        " -6 10.5750003946 399.221525437\n",
        "505.0"
       ]
      },
      {
       "output_type": "stream",
       "stream": "stdout",
       "text": [
        " -4 10.5677944262 399.238887002\n",
        "505.0"
       ]
      },
      {
       "output_type": "stream",
       "stream": "stdout",
       "text": [
        " -6 10.5661875526 399.221525437\n",
        "505.0"
       ]
      },
      {
       "output_type": "stream",
       "stream": "stdout",
       "text": [
        " -4 10.5677944262 399.238887002\n",
        "503.0"
       ]
      },
      {
       "output_type": "stream",
       "stream": "stdout",
       "text": [
        " -6 10.5480158188 399.221525437\n",
        "504.0"
       ]
      },
      {
       "output_type": "stream",
       "stream": "stdout",
       "text": [
        " -8 10.5656994496 399.197218661\n",
        "508.0"
       ]
      },
      {
       "output_type": "stream",
       "stream": "stdout",
       "text": [
        " -10 10.5687317789 399.165966086\n",
        "504.0"
       ]
      },
      {
       "output_type": "stream",
       "stream": "stdout",
       "text": [
        " -8 10.5656994496 399.197218661\n",
        "504.0"
       ]
      },
      {
       "output_type": "stream",
       "stream": "stdout",
       "text": [
        " -10 10.5640925759 399.165966086\n",
        "502.0"
       ]
      },
      {
       "output_type": "stream",
       "stream": "stdout",
       "text": [
        " -12 10.57856791 399.127766959\n",
        "502.0"
       ]
      },
      {
       "output_type": "stream",
       "stream": "stdout",
       "text": [
        " -10 10.5640925759 399.165966086\n",
        "502.0"
       ]
      },
      {
       "output_type": "stream",
       "stream": "stdout",
       "text": [
        " -8 10.5610602466 399.197218661\n",
        "500.0"
       ]
      },
      {
       "output_type": "stream",
       "stream": "stdout",
       "text": [
        " -10 10.5640925759 399.165966086\n",
        "501.0"
       ]
      },
      {
       "output_type": "stream",
       "stream": "stdout",
       "text": [
        " -12 10.5750916578 399.127766959\n",
        "501.0"
       ]
      },
      {
       "output_type": "stream",
       "stream": "stdout",
       "text": [
        " -10 10.5878933079 399.165966086\n",
        "501.0"
       ]
      },
      {
       "output_type": "stream",
       "stream": "stdout",
       "text": [
        " -8 10.6160617126 399.197218661\n",
        "500.0"
       ]
      },
      {
       "output_type": "stream",
       "stream": "stdout",
       "text": [
        " -10 10.6092328568 399.165966086\n",
        "498.0"
       ]
      },
      {
       "output_type": "stream",
       "stream": "stdout",
       "text": [
        " -12 10.6076259831 399.127766959\n",
        "502.0"
       ]
      },
      {
       "output_type": "stream",
       "stream": "stdout",
       "text": [
        " -10 10.6274045905 399.165966086\n",
        "502.0"
       ]
      },
      {
       "output_type": "stream",
       "stream": "stdout",
       "text": [
        " -8 10.6402062406 399.197218661\n",
        "502.0"
       ]
      },
      {
       "output_type": "stream",
       "stream": "stdout",
       "text": [
        " -6 10.6530078907 399.221525437\n",
        "504.0"
       ]
      },
      {
       "output_type": "stream",
       "stream": "stdout",
       "text": [
        " -4 10.7058625293 399.238887002\n",
        "504.0"
       ]
      },
      {
       "output_type": "stream",
       "stream": "stdout",
       "text": [
        " -6 10.7130684976 399.221525437\n",
        "502.0"
       ]
      },
      {
       "output_type": "stream",
       "stream": "stdout",
       "text": [
        " -8 10.7062396418 399.197218661\n",
        "502.0"
       ]
      },
      {
       "output_type": "stream",
       "stream": "stdout",
       "text": [
        " -10 10.6934379917 399.165966086\n",
        "500.0"
       ]
      },
      {
       "output_type": "stream",
       "stream": "stdout",
       "text": [
        " -12 10.6866091358 399.127766959\n",
        "502.0"
       ]
      },
      {
       "output_type": "stream",
       "stream": "stdout",
       "text": [
        " -14 10.6896414651 399.082620358\n",
        "504.0"
       ]
      },
      {
       "output_type": "stream",
       "stream": "stdout",
       "text": [
        " -12 10.6912483388 399.127766959\n",
        "504.0"
       ]
      },
      {
       "output_type": "stream",
       "stream": "stdout",
       "text": [
        " -14 10.6784466887 399.082620358\n",
        "504.0"
       ]
      },
      {
       "output_type": "stream",
       "stream": "stdout",
       "text": [
        " -16 10.681479018 399.030525194\n",
        "504.0"
       ]
      },
      {
       "output_type": "stream",
       "stream": "stdout",
       "text": [
        " -18 10.6746501622 398.971480208\n",
        "502.0"
       ]
      },
      {
       "output_type": "stream",
       "stream": "stdout",
       "text": [
        " -20 10.6464817575 398.905483976\n",
        "500.0"
       ]
      },
      {
       "output_type": "stream",
       "stream": "stdout",
       "text": [
        " -18 10.6287981268 398.971480208\n",
        "499.0"
       ]
      },
      {
       "output_type": "stream",
       "stream": "stdout",
       "text": [
        " -20 10.6360040951 398.905483976\n",
        "501.0"
       ]
      },
      {
       "output_type": "stream",
       "stream": "stdout",
       "text": [
        " -18 10.6488057452 398.971480208\n",
        "501.0"
       ]
      },
      {
       "output_type": "stream",
       "stream": "stdout",
       "text": [
        " -20 10.6560117136 398.905483976\n",
        "501.0"
       ]
      },
      {
       "output_type": "stream",
       "stream": "stdout",
       "text": [
        " -18 10.6529793842 398.971480208\n",
        "504.0"
       ]
      },
      {
       "output_type": "stream",
       "stream": "stdout",
       "text": [
        " -16 10.6598082401 399.030525194\n",
        "502.0"
       ]
      },
      {
       "output_type": "stream",
       "stream": "stdout",
       "text": [
        " -18 10.6069536015 398.971480208\n",
        "502.0"
       ]
      },
      {
       "output_type": "stream",
       "stream": "stdout",
       "text": [
        " -16 10.6085604752 399.030525194\n",
        "502.0"
       ]
      },
      {
       "output_type": "stream",
       "stream": "stdout",
       "text": [
        " -14 10.6101673488 399.082620358\n",
        "500.0"
       ]
      },
      {
       "output_type": "stream",
       "stream": "stdout",
       "text": [
        " -16 10.5973656987 399.030525194\n",
        "499.0"
       ]
      },
      {
       "output_type": "stream",
       "stream": "stdout",
       "text": [
        " -18 10.5957588251 398.971480208\n",
        "497.0"
       ]
      },
      {
       "output_type": "stream",
       "stream": "stdout",
       "text": [
        " -16 10.5927264958 399.030525194\n",
        "497.0"
       ]
      },
      {
       "output_type": "stream",
       "stream": "stdout",
       "text": [
        " -18 10.5911196221 398.971480208\n",
        "495.0"
       ]
      },
      {
       "output_type": "stream",
       "stream": "stdout",
       "text": [
        " -20 10.578317972 398.905483976\n",
        "493.0"
       ]
      },
      {
       "output_type": "stream",
       "stream": "stdout",
       "text": [
        " -22 10.5767110984 398.832534903\n",
        "493.0"
       ]
      },
      {
       "output_type": "stream",
       "stream": "stdout",
       "text": [
        " -20 10.578317972 398.905483976\n",
        "491.0"
       ]
      },
      {
       "output_type": "stream",
       "stream": "stdout",
       "text": [
        " -18 10.5752856427 398.971480208\n",
        "491.0"
       ]
      },
      {
       "output_type": "stream",
       "stream": "stdout",
       "text": [
        " -16 10.5680796744 399.030525194\n",
        "492.0"
       ]
      },
      {
       "output_type": "stream",
       "stream": "stdout",
       "text": [
        " -14 10.5749085302 399.082620358\n",
        "492.0"
       ]
      },
      {
       "output_type": "stream",
       "stream": "stdout",
       "text": [
        " -12 10.5877101803 399.127766959\n",
        "492.0"
       ]
      },
      {
       "output_type": "stream",
       "stream": "stdout",
       "text": [
        " -14 10.5749085302 399.082620358\n",
        "491.0"
       ]
      },
      {
       "output_type": "stream",
       "stream": "stdout",
       "text": [
        " -16 10.5621068801 399.030525194\n",
        "489.0"
       ]
      },
      {
       "output_type": "stream",
       "stream": "stdout",
       "text": [
        " -18 10.54930523 398.971480208\n",
        "487.0"
       ]
      },
      {
       "output_type": "stream",
       "stream": "stdout",
       "text": [
        " -20 10.5523375593 398.905483976\n",
        "485.0"
       ]
      },
      {
       "output_type": "stream",
       "stream": "stdout",
       "text": [
        " -22 10.5241691546 398.832534903\n",
        "485.0"
       ]
      },
      {
       "output_type": "stream",
       "stream": "stdout",
       "text": [
        " -24 10.5351682366 398.752631226\n",
        "483.0"
       ]
      },
      {
       "output_type": "stream",
       "stream": "stdout",
       "text": [
        " -22 10.5419970924 398.832534903\n",
        "481.0"
       ]
      },
      {
       "output_type": "stream",
       "stream": "stdout",
       "text": [
        " -24 10.5138286877 398.752631226\n",
        "479.0"
       ]
      },
      {
       "output_type": "stream",
       "stream": "stdout",
       "text": [
        " -22 10.5154355614 398.832534903\n",
        "481.0"
       ]
      },
      {
       "output_type": "stream",
       "stream": "stdout",
       "text": [
        " -20 10.5436039661 398.905483976\n",
        "481.0"
       ]
      },
      {
       "output_type": "stream",
       "stream": "stdout",
       "text": [
        " -18 10.5405716367 398.971480208\n",
        "484.0"
       ]
      },
      {
       "output_type": "stream",
       "stream": "stdout",
       "text": [
        " -16 10.5533732868 399.030525194\n",
        "482.0"
       ]
      },
      {
       "output_type": "stream",
       "stream": "stdout",
       "text": [
        " -18 10.546544431 398.971480208\n",
        "484.0"
       ]
      },
      {
       "output_type": "stream",
       "stream": "stdout",
       "text": [
        " -20 10.5495767603 398.905483976\n",
        "484.0"
       ]
      },
      {
       "output_type": "stream",
       "stream": "stdout",
       "text": [
        " -18 10.546544431 398.971480208\n",
        "483.0"
       ]
      },
      {
       "output_type": "stream",
       "stream": "stdout",
       "text": [
        " -16 10.5533732868 399.030525194\n",
        "485.0"
       ]
      },
      {
       "output_type": "stream",
       "stream": "stdout",
       "text": [
        " -14 10.5661749369 399.082620358\n",
        "485.0"
       ]
      },
      {
       "output_type": "stream",
       "stream": "stdout",
       "text": [
        " -12 10.5589689686 399.127766959\n",
        "481.0"
       ]
      },
      {
       "output_type": "stream",
       "stream": "stdout",
       "text": [
        " -10 10.5657978244 399.165966086\n",
        "483.0"
       ]
      },
      {
       "output_type": "stream",
       "stream": "stdout",
       "text": [
        " -8 10.5939662291 399.197218661\n",
        "481.0"
       ]
      },
      {
       "output_type": "stream",
       "stream": "stdout",
       "text": [
        " -10 10.581164579 399.165966086\n",
        "480.0"
       ]
      },
      {
       "output_type": "stream",
       "stream": "stdout",
       "text": [
        " -8 10.5879934349 399.197218661\n",
        "484.0"
       ]
      },
      {
       "output_type": "stream",
       "stream": "stdout",
       "text": [
        " -6 10.5896003085 399.221525437\n",
        "484.0"
       ]
      },
      {
       "output_type": "stream",
       "stream": "stdout",
       "text": [
        " -4 10.5865679792 399.238887002\n",
        "486.0"
       ]
      },
      {
       "output_type": "stream",
       "stream": "stdout",
       "text": [
        " -6 10.5896003085 399.221525437\n",
        "484.0"
       ]
      },
      {
       "output_type": "stream",
       "stream": "stdout",
       "text": [
        " -4 10.5786012266 399.238887002\n",
        "484.0"
       ]
      },
      {
       "output_type": "stream",
       "stream": "stdout",
       "text": [
        " -6 10.5717723708 399.221525437\n",
        "480.0"
       ]
      },
      {
       "output_type": "stream",
       "stream": "stdout",
       "text": [
        " -8 10.5519937634 399.197218661\n",
        "477.0"
       ]
      },
      {
       "output_type": "stream",
       "stream": "stdout",
       "text": [
        " -10 10.532215156 399.165966086\n",
        "476.0"
       ]
      },
      {
       "output_type": "stream",
       "stream": "stdout",
       "text": [
        " -12 10.5253863001 399.127766959\n",
        "478.0"
       ]
      },
      {
       "output_type": "stream",
       "stream": "stdout",
       "text": [
        " -10 10.532215156 399.165966086\n",
        "480.0"
       ]
      },
      {
       "output_type": "stream",
       "stream": "stdout",
       "text": [
        " -8 10.5212160741 399.197218661\n",
        "480.0"
       ]
      },
      {
       "output_type": "stream",
       "stream": "stdout",
       "text": [
        " -6 10.5409946814 399.221525437\n",
        "478.0"
       ]
      },
      {
       "output_type": "stream",
       "stream": "stdout",
       "text": [
        " -4 10.5265193473 399.238887002\n",
        "475.0"
       ]
      },
      {
       "output_type": "stream",
       "stream": "stdout",
       "text": [
        " -6 10.5249124736 399.221525437\n",
        "475.0"
       ]
      },
      {
       "output_type": "stream",
       "stream": "stdout",
       "text": [
        " -4 10.544691081 399.238887002\n",
        "474.0"
       ]
      },
      {
       "output_type": "stream",
       "stream": "stdout",
       "text": [
        " -2 10.5374851127 399.249303773\n",
        "474.0"
       ]
      },
      {
       "output_type": "stream",
       "stream": "stdout",
       "text": [
        " -4 10.5177065053 399.238887002\n",
        "472.0"
       ]
      },
      {
       "output_type": "stream",
       "stream": "stdout",
       "text": [
        " -2 10.5067074234 399.249303773\n",
        "472.0"
       ]
      },
      {
       "output_type": "stream",
       "stream": "stdout",
       "text": [
        " 0 10.499501455 399.252776003\n",
        "472.0"
       ]
      },
      {
       "output_type": "stream",
       "stream": "stdout",
       "text": [
        " -2 10.4926725992 399.249303773\n",
        "474.0"
       ]
      },
      {
       "output_type": "stream",
       "stream": "stdout",
       "text": [
        " 0 10.5455272377 399.252776003\n",
        "473.0"
       ]
      },
      {
       "output_type": "stream",
       "stream": "stdout",
       "text": [
        " -2 10.5386983819 399.249303773\n",
        "475.0"
       ]
      },
      {
       "output_type": "stream",
       "stream": "stdout",
       "text": [
        " -4 10.5496974638 399.238887002\n",
        "474.0"
       ]
      },
      {
       "output_type": "stream",
       "stream": "stdout",
       "text": [
        " -2 10.5466651345 399.249303773\n",
        "472.0"
       ]
      },
      {
       "output_type": "stream",
       "stream": "stdout",
       "text": [
        " 0 10.5594667846 399.252776003\n",
        "474.0"
       ]
      },
      {
       "output_type": "stream",
       "stream": "stdout",
       "text": [
        " 2 10.5662956404 399.249303773\n",
        "476.0"
       ]
      },
      {
       "output_type": "stream",
       "stream": "stdout",
       "text": [
        " 4 10.5944640451 399.238887002\n",
        "476.0"
       ]
      },
      {
       "output_type": "stream",
       "stream": "stdout",
       "text": [
        " 2 10.5876351893 399.249303773\n",
        "478.0"
       ]
      },
      {
       "output_type": "stream",
       "stream": "stdout",
       "text": [
        " 4 10.6263315748 399.238887002\n",
        "476.0"
       ]
      },
      {
       "output_type": "stream",
       "stream": "stdout",
       "text": [
        " 6 10.6331604306 399.221525437\n",
        "474.0"
       ]
      },
      {
       "output_type": "stream",
       "stream": "stdout",
       "text": [
        " 8 10.6399892865 399.197218661\n",
        "476.0"
       ]
      },
      {
       "output_type": "stream",
       "stream": "stdout",
       "text": [
        " 6 10.6331604306 399.221525437\n",
        "478.0"
       ]
      },
      {
       "output_type": "stream",
       "stream": "stdout",
       "text": [
        " 4 10.6263315748 399.238887002\n",
        "478.0"
       ]
      },
      {
       "output_type": "stream",
       "stream": "stdout",
       "text": [
        " 6 10.6153324929 399.221525437\n",
        "480.0"
       ]
      },
      {
       "output_type": "stream",
       "stream": "stdout",
       "text": [
        " 4 10.6183648222 399.238887002\n",
        "480.0"
       ]
      },
      {
       "output_type": "stream",
       "stream": "stdout",
       "text": [
        " 2 10.6328401563 399.249303773\n",
        "480.0"
       ]
      },
      {
       "output_type": "stream",
       "stream": "stdout",
       "text": [
        " 4 10.6183648222 399.238887002\n",
        "478.0"
       ]
      },
      {
       "output_type": "stream",
       "stream": "stdout",
       "text": [
        " 6 10.6111588538 399.221525437\n",
        "478.0"
       ]
      },
      {
       "output_type": "stream",
       "stream": "stdout",
       "text": [
        " 4 10.5983572037 399.238887002\n",
        "476.0"
       ]
      },
      {
       "output_type": "stream",
       "stream": "stdout",
       "text": [
        " 2 10.5855555536 399.249303773\n",
        "480.0"
       ]
      },
      {
       "output_type": "stream",
       "stream": "stdout",
       "text": [
        " 0 10.592761522 399.252776003\n",
        "480.0"
       ]
      },
      {
       "output_type": "stream",
       "stream": "stdout",
       "text": [
        " -2 10.6037606039 399.249303773\n",
        "478.0"
       ]
      },
      {
       "output_type": "stream",
       "stream": "stdout",
       "text": [
        " -4 10.5969317481 399.238887002\n",
        "478.0"
       ]
      },
      {
       "output_type": "stream",
       "stream": "stdout",
       "text": [
        " -6 10.5901028922 399.221525437\n",
        "478.0"
       ]
      },
      {
       "output_type": "stream",
       "stream": "stdout",
       "text": [
        " -4 10.5870705629 399.238887002\n",
        "478.0"
       ]
      },
      {
       "output_type": "stream",
       "stream": "stdout",
       "text": [
        " -6 10.5742689128 399.221525437\n",
        "476.0"
       ]
      },
      {
       "output_type": "stream",
       "stream": "stdout",
       "text": [
        " -8 10.5814748812 399.197218661\n",
        "476.0"
       ]
      },
      {
       "output_type": "stream",
       "stream": "stdout",
       "text": [
        " -6 10.5784425518 399.221525437\n",
        "476.0"
       ]
      },
      {
       "output_type": "stream",
       "stream": "stdout",
       "text": [
        " -4 10.5712365835 399.238887002\n",
        "475.0"
       ]
      },
      {
       "output_type": "stream",
       "stream": "stdout",
       "text": [
        " -6 10.5514579761 399.221525437\n",
        "471.0"
       ]
      },
      {
       "output_type": "stream",
       "stream": "stdout",
       "text": [
        " -8 10.5498511024 399.197218661\n",
        "471.0"
       ]
      },
      {
       "output_type": "stream",
       "stream": "stdout",
       "text": [
        " -10 10.5430222466 399.165966086\n",
        "475.0"
       ]
      },
      {
       "output_type": "stream",
       "stream": "stdout",
       "text": [
        " -12 10.5607058773 399.127766959\n",
        "476.0"
       ]
      },
      {
       "output_type": "stream",
       "stream": "stdout",
       "text": [
        " -10 10.5735075274 399.165966086\n",
        "477.0"
       ]
      },
      {
       "output_type": "stream",
       "stream": "stdout",
       "text": [
        " -12 10.5879828615 399.127766959\n",
        "475.0"
       ]
      },
      {
       "output_type": "stream",
       "stream": "stdout",
       "text": [
        " -10 10.6077614689 399.165966086\n",
        "477.0"
       ]
      },
      {
       "output_type": "stream",
       "stream": "stdout",
       "text": [
        " -8 10.6359298736 399.197218661\n",
        "476.0"
       ]
      },
      {
       "output_type": "stream",
       "stream": "stdout",
       "text": [
        " -6 10.6249307917 399.221525437\n",
        "476.0"
       ]
      },
      {
       "output_type": "stream",
       "stream": "stdout",
       "text": [
        " -8 10.623323918 399.197218661\n",
        "477.0"
       ]
      },
      {
       "output_type": "stream",
       "stream": "stdout",
       "text": [
        " -6 10.6361255681 399.221525437\n",
        "477.0"
       ]
      },
      {
       "output_type": "stream",
       "stream": "stdout",
       "text": [
        " -4 10.6489272182 399.238887002\n",
        "476.0"
       ]
      },
      {
       "output_type": "stream",
       "stream": "stdout",
       "text": [
        " -6 10.6420983624 399.221525437\n",
        "476.0"
       ]
      },
      {
       "output_type": "stream",
       "stream": "stdout",
       "text": [
        " -4 10.6618769698 399.238887002\n",
        "476.0"
       ]
      },
      {
       "output_type": "stream",
       "stream": "stdout",
       "text": [
        " -6 10.6231805843 399.221525437\n",
        "473.0"
       ]
      },
      {
       "output_type": "stream",
       "stream": "stdout",
       "text": [
        " -4 10.6300094401 399.238887002\n",
        "472.0"
       ]
      },
      {
       "output_type": "stream",
       "stream": "stdout",
       "text": [
        " -2 10.636838296 399.249303773\n",
        "472.0"
       ]
      },
      {
       "output_type": "stream",
       "stream": "stdout",
       "text": [
        " -4 10.6513136301 399.238887002\n",
        "474.0"
       ]
      },
      {
       "output_type": "stream",
       "stream": "stdout",
       "text": [
        " -2 10.6581424859 399.249303773\n",
        "473.0"
       ]
      },
      {
       "output_type": "stream",
       "stream": "stdout",
       "text": [
        " 0 10.6436671518 399.252776003\n",
        "475.0"
       ]
      },
      {
       "output_type": "stream",
       "stream": "stdout",
       "text": [
        " 2 10.6634457592 399.249303773\n",
        "473.0"
       ]
      },
      {
       "output_type": "stream",
       "stream": "stdout",
       "text": [
        " 0 10.6506441091 399.252776003\n",
        "471.0"
       ]
      },
      {
       "output_type": "stream",
       "stream": "stdout",
       "text": [
        " -2 10.6224757044 399.249303773\n",
        "469.0"
       ]
      },
      {
       "output_type": "stream",
       "stream": "stdout",
       "text": [
        " 0 10.615269736 399.252776003\n",
        "469.0"
       ]
      },
      {
       "output_type": "stream",
       "stream": "stdout",
       "text": [
        " -2 10.6024680859 399.249303773\n",
        "467.0"
       ]
      },
      {
       "output_type": "stream",
       "stream": "stdout",
       "text": [
        " 0 10.591469004 399.252776003\n",
        "467.0"
       ]
      },
      {
       "output_type": "stream",
       "stream": "stdout",
       "text": [
        " -2 10.5786673539 399.249303773\n",
        "465.0"
       ]
      },
      {
       "output_type": "stream",
       "stream": "stdout",
       "text": [
        " 0 10.5802742276 399.252776003\n",
        "467.0"
       ]
      },
      {
       "output_type": "stream",
       "stream": "stdout",
       "text": [
        " 2 10.600052835 399.249303773\n",
        "467.0"
       ]
      },
      {
       "output_type": "stream",
       "stream": "stdout",
       "text": [
        " 4 10.6128544851 399.238887002\n",
        "470.0"
       ]
      },
      {
       "output_type": "stream",
       "stream": "stdout",
       "text": [
        " 6 10.6144613587 399.221525437\n",
        "472.0"
       ]
      },
      {
       "output_type": "stream",
       "stream": "stdout",
       "text": [
        " 4 10.6254604406 399.238887002\n",
        "474.0"
       ]
      },
      {
       "output_type": "stream",
       "stream": "stdout",
       "text": [
        " 6 10.6536288453 399.221525437\n",
        "472.0"
       ]
      },
      {
       "output_type": "stream",
       "stream": "stdout",
       "text": [
        " 8 10.6604577012 399.197218661\n",
        "470.0"
       ]
      },
      {
       "output_type": "stream",
       "stream": "stdout",
       "text": [
        " 10 10.6620645748 399.165966086\n",
        "469.0"
       ]
      },
      {
       "output_type": "stream",
       "stream": "stdout",
       "text": [
        " 8 10.6422859675 399.197218661\n",
        "469.0"
       ]
      },
      {
       "output_type": "stream",
       "stream": "stdout",
       "text": [
        " 6 10.6453182968 399.221525437\n",
        "469.0"
       ]
      },
      {
       "output_type": "stream",
       "stream": "stdout",
       "text": [
        " 4 10.6483506261 399.238887002\n",
        "471.0"
       ]
      },
      {
       "output_type": "stream",
       "stream": "stdout",
       "text": [
        " 2 10.6628259602 399.249303773\n",
        "471.0"
       ]
      },
      {
       "output_type": "stream",
       "stream": "stdout",
       "text": [
        " 4 10.6756276103 399.238887002\n",
        "469.0"
       ]
      },
      {
       "output_type": "stream",
       "stream": "stdout",
       "text": [
        " 6 10.6646285284 399.221525437\n",
        "471.0"
       ]
      },
      {
       "output_type": "stream",
       "stream": "stdout",
       "text": [
        " 4 10.6630216547 399.238887002\n",
        "471.0"
       ]
      },
      {
       "output_type": "stream",
       "stream": "stdout",
       "text": [
        " 6 10.6698505106 399.221525437\n",
        "471.0"
       ]
      },
      {
       "output_type": "stream",
       "stream": "stdout",
       "text": [
        " 4 10.6808495925 399.238887002\n",
        "469.0"
       ]
      },
      {
       "output_type": "stream",
       "stream": "stdout",
       "text": [
        " 6 10.6824564662 399.221525437\n",
        "473.0"
       ]
      },
      {
       "output_type": "stream",
       "stream": "stdout",
       "text": [
        " 4 10.6808495925 399.238887002\n",
        "473.0"
       ]
      },
      {
       "output_type": "stream",
       "stream": "stdout",
       "text": [
        " 2 10.6918486744 399.249303773\n",
        "473.0"
       ]
      },
      {
       "output_type": "stream",
       "stream": "stdout",
       "text": [
        " 0 10.6850198186 399.252776003\n",
        "473.0"
       ]
      },
      {
       "output_type": "stream",
       "stream": "stdout",
       "text": [
        " 2 10.6978214687 399.249303773\n",
        "475.0"
       ]
      },
      {
       "output_type": "stream",
       "stream": "stdout",
       "text": [
        " 0 10.705027437 399.252776003\n",
        "477.0"
       ]
      },
      {
       "output_type": "stream",
       "stream": "stdout",
       "text": [
        " 2 10.7248060444 399.249303773\n",
        "475.0"
       ]
      },
      {
       "output_type": "stream",
       "stream": "stdout",
       "text": [
        " 0 10.7278383737 399.252776003\n",
        "477.0"
       ]
      },
      {
       "output_type": "stream",
       "stream": "stdout",
       "text": [
        " -2 10.7150367236 399.249303773\n",
        "477.0"
       ]
      },
      {
       "output_type": "stream",
       "stream": "stdout",
       "text": [
        " -4 10.722242692 399.238887002\n",
        "477.0"
       ]
      },
      {
       "output_type": "stream",
       "stream": "stdout",
       "text": [
        " -2 10.7192103627 399.249303773\n",
        "477.0"
       ]
      },
      {
       "output_type": "stream",
       "stream": "stdout",
       "text": [
        " -4 10.717603489 399.238887002\n",
        "475.0"
       ]
      },
      {
       "output_type": "stream",
       "stream": "stdout",
       "text": [
        " -6 10.7107746332 399.221525437\n",
        "477.0"
       ]
      },
      {
       "output_type": "stream",
       "stream": "stdout",
       "text": [
        " -4 10.7235762833 399.238887002\n",
        "475.0"
       ]
      },
      {
       "output_type": "stream",
       "stream": "stdout",
       "text": [
        " -6 10.7167474274 399.221525437\n",
        "477.0"
       ]
      },
      {
       "output_type": "stream",
       "stream": "stdout",
       "text": [
        " -8 10.6969688201 399.197218661\n",
        "475.0"
       ]
      },
      {
       "output_type": "stream",
       "stream": "stdout",
       "text": [
        " -10 10.6953619464 399.165966086\n",
        "473.0"
       ]
      },
      {
       "output_type": "stream",
       "stream": "stdout",
       "text": [
        " -8 10.7021908022 399.197218661\n",
        "473.0"
       ]
      },
      {
       "output_type": "stream",
       "stream": "stdout",
       "text": [
        " -6 10.7219694096 399.221525437\n",
        "473.0"
       ]
      },
      {
       "output_type": "stream",
       "stream": "stdout",
       "text": [
        " -8 10.7091677595 399.197218661\n",
        "472.0"
       ]
      },
      {
       "output_type": "stream",
       "stream": "stdout",
       "text": [
        " -10 10.7122000888 399.165966086\n",
        "472.0"
       ]
      },
      {
       "output_type": "stream",
       "stream": "stdout",
       "text": [
        " -12 10.6993984387 399.127766959\n",
        "476.0"
       ]
      },
      {
       "output_type": "stream",
       "stream": "stdout",
       "text": [
        " -14 10.6865967886 399.082620358\n",
        "476.0"
       ]
      },
      {
       "output_type": "stream",
       "stream": "stdout",
       "text": [
        " -12 10.6793908203 399.127766959\n",
        "478.0"
       ]
      },
      {
       "output_type": "stream",
       "stream": "stdout",
       "text": [
        " -10 10.6809976939 399.165966086\n",
        "478.0"
       ]
      },
      {
       "output_type": "stream",
       "stream": "stdout",
       "text": [
        " -12 10.6793908203 399.127766959\n",
        "482.0"
       ]
      },
      {
       "output_type": "stream",
       "stream": "stdout",
       "text": [
        " -10 10.6683917384 399.165966086\n",
        "480.0"
       ]
      },
      {
       "output_type": "stream",
       "stream": "stdout",
       "text": [
        " -8 10.669998612 399.197218661\n",
        "480.0"
       ]
      },
      {
       "output_type": "stream",
       "stream": "stdout",
       "text": [
        " -6 10.6669662827 399.221525437\n",
        "480.0"
       ]
      },
      {
       "output_type": "stream",
       "stream": "stdout",
       "text": [
        " -8 10.6471876753 399.197218661\n",
        "478.0"
       ]
      },
      {
       "output_type": "stream",
       "stream": "stdout",
       "text": [
        " -10 10.6274090679 399.165966086\n",
        "475.0"
       ]
      },
      {
       "output_type": "stream",
       "stream": "stdout",
       "text": [
        " -8 10.6129337338 399.197218661\n",
        "475.0"
       ]
      },
      {
       "output_type": "stream",
       "stream": "stdout",
       "text": [
        " -6 10.5984583997 399.221525437\n",
        "475.0"
       ]
      },
      {
       "output_type": "stream",
       "stream": "stdout",
       "text": [
        " -8 10.5856567496 399.197218661\n",
        "475.0"
       ]
      },
      {
       "output_type": "stream",
       "stream": "stdout",
       "text": [
        " -10 10.5658781422 399.165966086\n",
        "473.0"
       ]
      },
      {
       "output_type": "stream",
       "stream": "stdout",
       "text": [
        " -8 10.5786797923 399.197218661\n",
        "471.0"
       ]
      },
      {
       "output_type": "stream",
       "stream": "stdout",
       "text": [
        " -10 10.5770729186 399.165966086\n",
        "471.0"
       ]
      },
      {
       "output_type": "stream",
       "stream": "stdout",
       "text": [
        " -12 10.580105248 399.127766959\n",
        "471.0"
       ]
      },
      {
       "output_type": "stream",
       "stream": "stdout",
       "text": [
        " -10 10.569106166 399.165966086\n",
        "473.0"
       ]
      },
      {
       "output_type": "stream",
       "stream": "stdout",
       "text": [
        " -8 10.5707130397 399.197218661\n",
        "475.0"
       ]
      },
      {
       "output_type": "stream",
       "stream": "stdout",
       "text": [
        " -10 10.5638841838 399.165966086\n",
        "475.0"
       ]
      },
      {
       "output_type": "stream",
       "stream": "stdout",
       "text": [
        " -12 10.5748832658 399.127766959\n",
        "475.0"
       ]
      },
      {
       "output_type": "stream",
       "stream": "stdout",
       "text": [
        " -14 10.5467148611 399.082620358\n",
        "475.0"
       ]
      },
      {
       "output_type": "stream",
       "stream": "stdout",
       "text": [
        " -12 10.5595165112 399.127766959\n",
        "474.0"
       ]
      },
      {
       "output_type": "stream",
       "stream": "stdout",
       "text": [
        " -14 10.5739918453 399.082620358\n",
        "472.0"
       ]
      },
      {
       "output_type": "stream",
       "stream": "stdout",
       "text": [
        " -16 10.5611901952 399.030525194\n",
        "470.0"
       ]
      },
      {
       "output_type": "stream",
       "stream": "stdout",
       "text": [
        " -14 10.5581578659 399.082620358\n",
        "470.0"
       ]
      },
      {
       "output_type": "stream",
       "stream": "stdout",
       "text": [
        " -12 10.5597647395 399.127766959\n",
        "470.0"
       ]
      },
      {
       "output_type": "stream",
       "stream": "stdout",
       "text": [
        " -14 10.5581578659 399.082620358\n",
        "468.0"
       ]
      },
      {
       "output_type": "stream",
       "stream": "stdout",
       "text": [
        " -12 10.5649867217 399.127766959\n",
        "468.0"
       ]
      },
      {
       "output_type": "stream",
       "stream": "stdout",
       "text": [
        " -14 10.5721926901 399.082620358\n",
        "466.0"
       ]
      },
      {
       "output_type": "stream",
       "stream": "stdout",
       "text": [
        " -16 10.5705858164 399.030525194\n",
        "470.0"
       ]
      },
      {
       "output_type": "stream",
       "stream": "stdout",
       "text": [
        " -14 10.5833874665 399.082620358\n",
        "470.0"
       ]
      },
      {
       "output_type": "stream",
       "stream": "stdout",
       "text": [
        " -12 10.5723883846 399.127766959\n",
        "469.0"
       ]
      },
      {
       "output_type": "stream",
       "stream": "stdout",
       "text": [
        " -14 10.5526097772 399.082620358\n",
        "469.0"
       ]
      },
      {
       "output_type": "stream",
       "stream": "stdout",
       "text": [
        " -12 10.5454038089 399.127766959\n",
        "469.0"
       ]
      },
      {
       "output_type": "stream",
       "stream": "stdout",
       "text": [
        " -10 10.5651824162 399.165966086\n",
        "469.0"
       ]
      },
      {
       "output_type": "stream",
       "stream": "stdout",
       "text": [
        " -12 10.5723883846 399.127766959\n",
        "467.0"
       ]
      },
      {
       "output_type": "stream",
       "stream": "stdout",
       "text": [
        " -14 10.5707815109 399.082620358\n",
        "469.0"
       ]
      },
      {
       "output_type": "stream",
       "stream": "stdout",
       "text": [
        " -12 10.5776103668 399.127766959\n",
        "469.0"
       ]
      },
      {
       "output_type": "stream",
       "stream": "stdout",
       "text": [
        " -14 10.5578317594 399.082620358\n",
        "473.0"
       ]
      },
      {
       "output_type": "stream",
       "stream": "stdout",
       "text": [
        " -16 10.5562248857 399.030525194\n",
        "475.0"
       ]
      },
      {
       "output_type": "stream",
       "stream": "stdout",
       "text": [
        " -18 10.5546180121 398.971480208\n",
        "475.0"
       ]
      },
      {
       "output_type": "stream",
       "stream": "stdout",
       "text": [
        " -16 10.5743966195 399.030525194\n",
        "477.0"
       ]
      },
      {
       "output_type": "stream",
       "stream": "stdout",
       "text": [
        " -18 10.5853957014 398.971480208\n",
        "479.0"
       ]
      },
      {
       "output_type": "stream",
       "stream": "stdout",
       "text": [
        " -20 10.5884280307 398.905483976\n",
        "477.0"
       ]
      },
      {
       "output_type": "stream",
       "stream": "stdout",
       "text": [
        " -22 10.5868211571 398.832534903\n",
        "477.0"
       ]
      },
      {
       "output_type": "stream",
       "stream": "stdout",
       "text": [
        " -20 10.5884280307 398.905483976\n",
        "475.0"
       ]
      },
      {
       "output_type": "stream",
       "stream": "stdout",
       "text": [
        " -22 10.5815991749 398.832534903\n",
        "473.0"
       ]
      },
      {
       "output_type": "stream",
       "stream": "stdout",
       "text": [
        " -24 10.5687975248 398.752631226\n",
        "471.0"
       ]
      },
      {
       "output_type": "stream",
       "stream": "stdout",
       "text": [
        " -26 10.5490189174 398.665771013\n",
        "473.0"
       ]
      },
      {
       "output_type": "stream",
       "stream": "stdout",
       "text": [
        " -24 10.5687975248 398.752631226\n",
        "473.0"
       ]
      },
      {
       "output_type": "stream",
       "stream": "stdout",
       "text": [
        " -22 10.5815991749 398.832534903\n",
        "473.0"
       ]
      },
      {
       "output_type": "stream",
       "stream": "stdout",
       "text": [
        " -20 10.5671238407 398.905483976\n",
        "473.0"
       ]
      },
      {
       "output_type": "stream",
       "stream": "stdout",
       "text": [
        " -18 10.5687307144 398.971480208\n",
        "473.0"
       ]
      },
      {
       "output_type": "stream",
       "stream": "stdout",
       "text": [
        " -20 10.5559290643 398.905483976\n",
        "475.0"
       ]
      },
      {
       "output_type": "stream",
       "stream": "stdout",
       "text": [
        " -18 10.5687307144 398.971480208\n",
        "477.0"
       ]
      },
      {
       "output_type": "stream",
       "stream": "stdout",
       "text": [
        " -20 10.5559290643 398.905483976\n",
        "475.0"
       ]
      },
      {
       "output_type": "stream",
       "stream": "stdout",
       "text": [
        " -18 10.5627579201 398.971480208\n",
        "473.0"
       ]
      },
      {
       "output_type": "stream",
       "stream": "stdout",
       "text": [
        " -16 10.5643647938 399.030525194\n",
        "472.0"
       ]
      },
      {
       "output_type": "stream",
       "stream": "stdout",
       "text": [
        " -18 10.5445861864 398.971480208\n",
        "472.0"
       ]
      },
      {
       "output_type": "stream",
       "stream": "stdout",
       "text": [
        " -20 10.5517921548 398.905483976\n",
        "472.0"
       ]
      },
      {
       "output_type": "stream",
       "stream": "stdout",
       "text": [
        " -22 10.5449632989 398.832534903\n",
        "472.0"
       ]
      },
      {
       "output_type": "stream",
       "stream": "stdout",
       "text": [
        " -24 10.5321616488 398.752631226\n",
        "476.0"
       ]
      },
      {
       "output_type": "stream",
       "stream": "stdout",
       "text": [
        " -22 10.5389905047 398.832534903\n",
        "476.0"
       ]
      },
      {
       "output_type": "stream",
       "stream": "stdout",
       "text": [
        " -20 10.5671589094 398.905483976\n",
        "478.0"
       ]
      },
      {
       "output_type": "stream",
       "stream": "stdout",
       "text": [
        " -22 10.5781579913 398.832534903\n",
        "476.0"
       ]
      },
      {
       "output_type": "stream",
       "stream": "stdout",
       "text": [
        " -24 10.5713291355 398.752631226\n",
        "474.0"
       ]
      },
      {
       "output_type": "stream",
       "stream": "stdout",
       "text": [
        " -26 10.5743614648 398.665771013\n",
        "476.0"
       ]
      },
      {
       "output_type": "stream",
       "stream": "stdout",
       "text": [
        " -28 10.5815674331 398.571952163\n",
        "480.0"
       ]
      },
      {
       "output_type": "stream",
       "stream": "stdout",
       "text": [
        " -30 10.5925665151 398.471172406\n",
        "482.0"
       ]
      },
      {
       "output_type": "stream",
       "stream": "stdout",
       "text": [
        " -32 10.5727879077 398.363429301\n",
        "481.0"
       ]
      },
      {
       "output_type": "stream",
       "stream": "stdout",
       "text": [
        " -34 10.5659590518 398.248720237\n",
        "479.0"
       ]
      },
      {
       "output_type": "stream",
       "stream": "stdout",
       "text": [
        " -36 10.5461804444 398.127042434\n",
        "481.0"
       ]
      },
      {
       "output_type": "stream",
       "stream": "stdout",
       "text": [
        " -34 10.5659590518 398.248720237\n",
        "479.0"
       ]
      },
      {
       "output_type": "stream",
       "stream": "stdout",
       "text": [
        " -36 10.5461804444 398.127042434\n",
        "480.0"
       ]
      },
      {
       "output_type": "stream",
       "stream": "stdout",
       "text": [
        " -34 10.5589820945 398.248720237\n",
        "480.0"
       ]
      },
      {
       "output_type": "stream",
       "stream": "stdout",
       "text": [
        " -36 10.5521532387 398.127042434\n",
        "480.0"
       ]
      },
      {
       "output_type": "stream",
       "stream": "stdout",
       "text": [
        " -34 10.5537601124 398.248720237\n",
        "478.0"
       ]
      },
      {
       "output_type": "stream",
       "stream": "stdout",
       "text": [
        " -36 10.5409584623 398.127042434\n",
        "476.0"
       ]
      },
      {
       "output_type": "stream",
       "stream": "stdout",
       "text": [
        " -38 10.5127900576 397.998392939\n",
        "476.0"
       ]
      },
      {
       "output_type": "stream",
       "stream": "stdout",
       "text": [
        " -40 10.4999884075 397.862768628\n",
        "480.0"
       ]
      },
      {
       "output_type": "stream",
       "stream": "stdout",
       "text": [
        " -38 10.5197670148 397.998392939\n",
        "482.0"
       ]
      },
      {
       "output_type": "stream",
       "stream": "stdout",
       "text": [
        " -36 10.5325686649 398.127042434\n",
        "484.0"
       ]
      },
      {
       "output_type": "stream",
       "stream": "stdout",
       "text": [
        " -34 10.5523472723 398.248720237\n",
        "482.0"
       ]
      },
      {
       "output_type": "stream",
       "stream": "stdout",
       "text": [
        " -36 10.5241788676 398.127042434\n",
        "482.0"
       ]
      },
      {
       "output_type": "stream",
       "stream": "stdout",
       "text": [
        " -38 10.4960104629 397.998392939\n",
        "482.0"
       ]
      },
      {
       "output_type": "stream",
       "stream": "stdout",
       "text": [
        " -40 10.4832088128 397.862768628\n",
        "486.0"
       ]
      },
      {
       "output_type": "stream",
       "stream": "stdout",
       "text": [
        " -42 10.476379957 397.720166207\n",
        "486.0"
       ]
      },
      {
       "output_type": "stream",
       "stream": "stdout",
       "text": [
        " -44 10.4635783069 397.570582206\n",
        "488.0"
       ]
      },
      {
       "output_type": "stream",
       "stream": "stdout",
       "text": [
        " -42 10.4651851806 397.720166207\n",
        "488.0"
       ]
      },
      {
       "output_type": "stream",
       "stream": "stdout",
       "text": [
        " -44 10.4523835305 397.570582206\n",
        "487.0"
       ]
      },
      {
       "output_type": "stream",
       "stream": "stdout",
       "text": [
        " -42 10.4493512011 397.720166207\n",
        "488.0"
       ]
      },
      {
       "output_type": "stream",
       "stream": "stdout",
       "text": [
        " -40 10.4691298085 397.862768628\n",
        "486.0"
       ]
      },
      {
       "output_type": "stream",
       "stream": "stdout",
       "text": [
        " -42 10.4563281584 397.720166207\n",
        "484.0"
       ]
      },
      {
       "output_type": "stream",
       "stream": "stdout",
       "text": [
        " -44 10.436549551 397.570582206\n",
        "483.0"
       ]
      },
      {
       "output_type": "stream",
       "stream": "stdout",
       "text": [
        " -46 10.4297206952 397.414012987\n",
        "484.0"
       ]
      },
      {
       "output_type": "stream",
       "stream": "stdout",
       "text": [
        " -44 10.4266883659 397.570582206\n",
        "484.0"
       ]
      },
      {
       "output_type": "stream",
       "stream": "stdout",
       "text": [
        " -46 10.4297206952 397.414012987\n",
        "484.0"
       ]
      },
      {
       "output_type": "stream",
       "stream": "stdout",
       "text": [
        " -44 10.4578890999 397.570582206\n",
        "483.0"
       ]
      },
      {
       "output_type": "stream",
       "stream": "stdout",
       "text": [
        " -42 10.4506831315 397.720166207\n",
        "485.0"
       ]
      },
      {
       "output_type": "stream",
       "stream": "stdout",
       "text": [
        " -40 10.4704617389 397.862768628\n",
        "485.0"
       ]
      },
      {
       "output_type": "stream",
       "stream": "stdout",
       "text": [
        " -38 10.483263389 397.998392939\n",
        "485.0"
       ]
      },
      {
       "output_type": "stream",
       "stream": "stdout",
       "text": [
        " -36 10.5030419964 398.127042434\n",
        "485.0"
       ]
      },
      {
       "output_type": "stream",
       "stream": "stdout",
       "text": [
        " -38 10.5060743257 397.998392939\n",
        "487.0"
       ]
      },
      {
       "output_type": "stream",
       "stream": "stdout",
       "text": [
        " -36 10.5188759758 398.127042434\n",
        "487.0"
       ]
      },
      {
       "output_type": "stream",
       "stream": "stdout",
       "text": [
        " -38 10.4990973684 397.998392939\n",
        "487.0"
       ]
      },
      {
       "output_type": "stream",
       "stream": "stdout",
       "text": [
        " -36 10.4960650391 398.127042434\n",
        "487.0"
       ]
      },
      {
       "output_type": "stream",
       "stream": "stdout",
       "text": [
        " -34 10.5088666892 398.248720237\n",
        "489.0"
       ]
      },
      {
       "output_type": "stream",
       "stream": "stdout",
       "text": [
        " -36 10.5233420233 398.127042434\n",
        "489.0"
       ]
      },
      {
       "output_type": "stream",
       "stream": "stdout",
       "text": [
        " -34 10.5361436734 398.248720237\n",
        "489.0"
       ]
      },
      {
       "output_type": "stream",
       "stream": "stdout",
       "text": [
        " -32 10.5489453235 398.363429301\n",
        "485.0"
       ]
      },
      {
       "output_type": "stream",
       "stream": "stdout",
       "text": [
        " -30 10.5379462416 398.471172406\n",
        "484.0"
       ]
      },
      {
       "output_type": "stream",
       "stream": "stdout",
       "text": [
        " -28 10.5507478917 398.571952163\n",
        "482.0"
       ]
      },
      {
       "output_type": "stream",
       "stream": "stdout",
       "text": [
        " -26 10.5362725576 398.665771013\n",
        "484.0"
       ]
      },
      {
       "output_type": "stream",
       "stream": "stdout",
       "text": [
        " -24 10.5431014134 398.752631226\n",
        "482.0"
       ]
      },
      {
       "output_type": "stream",
       "stream": "stdout",
       "text": [
        " -26 10.5302997633 398.665771013\n",
        "482.0"
       ]
      },
      {
       "output_type": "stream",
       "stream": "stdout",
       "text": [
        " -24 10.5371286192 398.752631226\n",
        "482.0"
       ]
      },
      {
       "output_type": "stream",
       "stream": "stdout",
       "text": [
        " -26 10.5355217455 398.665771013\n",
        "483.0"
       ]
      },
      {
       "output_type": "stream",
       "stream": "stdout",
       "text": [
        " -24 10.5483233956 398.752631226\n",
        "485.0"
       ]
      },
      {
       "output_type": "stream",
       "stream": "stdout",
       "text": [
        " -22 10.5870197811 398.832534903\n",
        "486.0"
       ]
      },
      {
       "output_type": "stream",
       "stream": "stdout",
       "text": [
        " -20 10.6151881858 398.905483976\n",
        "486.0"
       ]
      },
      {
       "output_type": "stream",
       "stream": "stdout",
       "text": [
        " -22 10.6083593299 398.832534903\n",
        "489.0"
       ]
      },
      {
       "output_type": "stream",
       "stream": "stdout",
       "text": [
        " -20 10.6151881858 398.905483976\n",
        "490.0"
       ]
      },
      {
       "output_type": "stream",
       "stream": "stdout",
       "text": [
        " -18 10.6279898359 398.971480208\n",
        "492.0"
       ]
      },
      {
       "output_type": "stream",
       "stream": "stdout",
       "text": [
        " -16 10.640791486 399.030525194\n",
        "494.0"
       ]
      },
      {
       "output_type": "stream",
       "stream": "stdout",
       "text": [
        " -14 10.6297924041 399.082620358\n",
        "494.0"
       ]
      },
      {
       "output_type": "stream",
       "stream": "stdout",
       "text": [
        " -16 10.616990754 399.030525194\n",
        "494.0"
       ]
      },
      {
       "output_type": "stream",
       "stream": "stdout",
       "text": [
        " -14 10.6238196098 399.082620358\n",
        "491.0"
       ]
      },
      {
       "output_type": "stream",
       "stream": "stdout",
       "text": [
        " -16 10.6222127362 399.030525194\n",
        "495.0"
       ]
      },
      {
       "output_type": "stream",
       "stream": "stdout",
       "text": [
        " -18 10.6332118181 398.971480208\n",
        "495.0"
       ]
      },
      {
       "output_type": "stream",
       "stream": "stdout",
       "text": [
        " -16 10.6348186917 399.030525194\n",
        "491.0"
       ]
      },
      {
       "output_type": "stream",
       "stream": "stdout",
       "text": [
        " -18 10.6150400844 398.971480208\n",
        "490.0"
       ]
      },
      {
       "output_type": "stream",
       "stream": "stdout",
       "text": [
        " -20 10.5763436989 398.905483976\n",
        "489.0"
       ]
      },
      {
       "output_type": "stream",
       "stream": "stdout",
       "text": [
        " -22 10.5635420488 398.832534903\n",
        "491.0"
       ]
      },
      {
       "output_type": "stream",
       "stream": "stdout",
       "text": [
        " -24 10.5567131929 398.752631226\n",
        "491.0"
       ]
      },
      {
       "output_type": "stream",
       "stream": "stdout",
       "text": [
        " -26 10.5285447882 398.665771013\n",
        "491.0"
       ]
      },
      {
       "output_type": "stream",
       "stream": "stdout",
       "text": [
        " -28 10.5157431381 398.571952163\n",
        "491.0"
       ]
      },
      {
       "output_type": "stream",
       "stream": "stdout",
       "text": [
        " -26 10.522571994 398.665771013\n",
        "490.0"
       ]
      },
      {
       "output_type": "stream",
       "stream": "stdout",
       "text": [
        " -28 10.5097703439 398.571952163\n",
        "488.0"
       ]
      },
      {
       "output_type": "stream",
       "stream": "stdout",
       "text": [
        " -26 10.522571994 398.665771013\n",
        "489.0"
       ]
      },
      {
       "output_type": "stream",
       "stream": "stdout",
       "text": [
        " -24 10.511572912 398.752631226\n",
        "490.0"
       ]
      },
      {
       "output_type": "stream",
       "stream": "stdout",
       "text": [
        " -22 10.5313515194 398.832534903\n",
        "494.0"
       ]
      },
      {
       "output_type": "stream",
       "stream": "stdout",
       "text": [
        " -24 10.5343838487 398.752631226\n",
        "492.0"
       ]
      },
      {
       "output_type": "stream",
       "stream": "stdout",
       "text": [
        " -22 10.5271778804 398.832534903\n",
        "494.0"
       ]
      },
      {
       "output_type": "stream",
       "stream": "stdout",
       "text": [
        " -20 10.5469564878 398.905483976\n",
        "493.0"
       ]
      },
      {
       "output_type": "stream",
       "stream": "stdout",
       "text": [
        " -18 10.5537853436 398.971480208\n",
        "491.0"
       ]
      },
      {
       "output_type": "stream",
       "stream": "stdout",
       "text": [
        " -20 10.55217847 398.905483976\n",
        "489.0"
       ]
      },
      {
       "output_type": "stream",
       "stream": "stdout",
       "text": [
        " -22 10.5593844383 398.832534903\n",
        "489.0"
       ]
      },
      {
       "output_type": "stream",
       "stream": "stdout",
       "text": [
        " -20 10.5662132942 398.905483976\n",
        "489.0"
       ]
      },
      {
       "output_type": "stream",
       "stream": "stdout",
       "text": [
        " -22 10.5772123761 398.832534903\n",
        "487.0"
       ]
      },
      {
       "output_type": "stream",
       "stream": "stdout",
       "text": [
        " -24 10.5574337687 398.752631226\n",
        "487.0"
       ]
      },
      {
       "output_type": "stream",
       "stream": "stdout",
       "text": [
        " -22 10.5856021734 398.832534903\n",
        "487.0"
       ]
      },
      {
       "output_type": "stream",
       "stream": "stdout",
       "text": [
        " -20 10.5825698441 398.905483976\n",
        "485.0"
       ]
      },
      {
       "output_type": "stream",
       "stream": "stdout",
       "text": [
        " -18 10.6023484515 398.971480208\n",
        "483.0"
       ]
      },
      {
       "output_type": "stream",
       "stream": "stdout",
       "text": [
        " -20 10.563652066 398.905483976\n",
        "481.0"
       ]
      },
      {
       "output_type": "stream",
       "stream": "stdout",
       "text": [
        " -22 10.5508504159 398.832534903\n",
        "481.0"
       ]
      },
      {
       "output_type": "stream",
       "stream": "stdout",
       "text": [
        " -24 10.54402156 398.752631226\n",
        "483.0"
       ]
      },
      {
       "output_type": "stream",
       "stream": "stdout",
       "text": [
        " -26 10.5584968942 398.665771013\n",
        "483.0"
       ]
      },
      {
       "output_type": "stream",
       "stream": "stdout",
       "text": [
        " -28 10.5303284895 398.571952163\n",
        "486.0"
       ]
      },
      {
       "output_type": "stream",
       "stream": "stdout",
       "text": [
        " -26 10.5319353631 398.665771013\n",
        "486.0"
       ]
      },
      {
       "output_type": "stream",
       "stream": "stdout",
       "text": [
        " -28 10.5251065073 398.571952163\n",
        "488.0"
       ]
      },
      {
       "output_type": "stream",
       "stream": "stdout",
       "text": [
        " -30 10.5361055892 398.471172406\n",
        "487.0"
       ]
      },
      {
       "output_type": "stream",
       "stream": "stdout",
       "text": [
        " -32 10.5391379185 398.363429301\n",
        "487.0"
       ]
      },
      {
       "output_type": "stream",
       "stream": "stdout",
       "text": [
        " -30 10.5519395686 398.471172406\n",
        "487.0"
       ]
      },
      {
       "output_type": "stream",
       "stream": "stdout",
       "text": [
        " -28 10.5535464423 398.571952163\n",
        "491.0"
       ]
      },
      {
       "output_type": "stream",
       "stream": "stdout",
       "text": [
        " -30 10.5645455242 398.471172406\n",
        "489.0"
       ]
      },
      {
       "output_type": "stream",
       "stream": "stdout",
       "text": [
        " -28 10.5615131949 398.571952163\n",
        "488.0"
       ]
      },
      {
       "output_type": "stream",
       "stream": "stdout",
       "text": [
        " -26 10.5683420507 398.665771013\n",
        "492.0"
       ]
      },
      {
       "output_type": "stream",
       "stream": "stdout",
       "text": [
        " -28 10.5713743801 398.571952163\n",
        "491.0"
       ]
      },
      {
       "output_type": "stream",
       "stream": "stdout",
       "text": [
        " -30 10.5515957727 398.471172406\n",
        "493.0"
       ]
      },
      {
       "output_type": "stream",
       "stream": "stdout",
       "text": [
        " -32 10.5447669168 398.363429301\n",
        "493.0"
       ]
      },
      {
       "output_type": "stream",
       "stream": "stdout",
       "text": [
        " -30 10.5270832861 398.471172406\n",
        "493.0"
       ]
      },
      {
       "output_type": "stream",
       "stream": "stdout",
       "text": [
        " -28 10.5160842042 398.571952163\n",
        "494.0"
       ]
      },
      {
       "output_type": "stream",
       "stream": "stdout",
       "text": [
        " -26 10.5358628116 398.665771013\n",
        "496.0"
       ]
      },
      {
       "output_type": "stream",
       "stream": "stdout",
       "text": [
        " -24 10.5328304822 398.752631226\n",
        "494.0"
       ]
      },
      {
       "output_type": "stream",
       "stream": "stdout",
       "text": [
        " -22 10.5297981529 398.832534903\n",
        "490.0"
       ]
      },
      {
       "output_type": "stream",
       "stream": "stdout",
       "text": [
        " -20 10.518799071 398.905483976\n",
        "488.0"
       ]
      },
      {
       "output_type": "stream",
       "stream": "stdout",
       "text": [
        " -22 10.5171921973 398.832534903\n",
        "488.0"
       ]
      },
      {
       "output_type": "stream",
       "stream": "stdout",
       "text": [
        " -20 10.5240210532 398.905483976\n",
        "488.0"
       ]
      },
      {
       "output_type": "stream",
       "stream": "stdout",
       "text": [
        " -22 10.5270533825 398.832534903\n",
        "487.0"
       ]
      },
      {
       "output_type": "stream",
       "stream": "stdout",
       "text": [
        " -20 10.5286602562 398.905483976\n",
        "487.0"
       ]
      },
      {
       "output_type": "stream",
       "stream": "stdout",
       "text": [
        " -22 10.5004918515 398.832534903\n",
        "487.0"
       ]
      },
      {
       "output_type": "stream",
       "stream": "stdout",
       "text": [
        " -20 10.5020987251 398.905483976\n",
        "485.0"
       ]
      },
      {
       "output_type": "stream",
       "stream": "stdout",
       "text": [
        " -18 10.508927581 398.971480208\n",
        "485.0"
       ]
      },
      {
       "output_type": "stream",
       "stream": "stdout",
       "text": [
        " -16 10.5217292311 399.030525194\n",
        "485.0"
       ]
      },
      {
       "output_type": "stream",
       "stream": "stdout",
       "text": [
        " -18 10.532728313 398.971480208\n",
        "483.0"
       ]
      },
      {
       "output_type": "stream",
       "stream": "stdout",
       "text": [
        " -20 10.4940319275 398.905483976\n",
        "485.0"
       ]
      },
      {
       "output_type": "stream",
       "stream": "stdout",
       "text": [
        " -18 10.532728313 398.971480208\n",
        "483.0"
       ]
      },
      {
       "output_type": "stream",
       "stream": "stdout",
       "text": [
        " -20 10.5045599083 398.905483976\n",
        "483.0"
       ]
      },
      {
       "output_type": "stream",
       "stream": "stdout",
       "text": [
        " -22 10.4917582582 398.832534903\n",
        "487.0"
       ]
      },
      {
       "output_type": "stream",
       "stream": "stdout",
       "text": [
        " -20 10.498587114 398.905483976\n",
        "489.0"
       ]
      },
      {
       "output_type": "stream",
       "stream": "stdout",
       "text": [
        " -22 10.5016194434 398.832534903\n",
        "485.0"
       ]
      },
      {
       "output_type": "stream",
       "stream": "stdout",
       "text": [
        " -24 10.4629230579 398.752631226\n",
        "485.0"
       ]
      },
      {
       "output_type": "stream",
       "stream": "stdout",
       "text": [
        " -26 10.456094202 398.665771013\n",
        "485.0"
       ]
      },
      {
       "output_type": "stream",
       "stream": "stdout",
       "text": [
        " -24 10.4688958521 398.752631226\n",
        "483.0"
       ]
      },
      {
       "output_type": "stream",
       "stream": "stdout",
       "text": [
        " -26 10.4672889785 398.665771013\n",
        "485.0"
       ]
      },
      {
       "output_type": "stream",
       "stream": "stdout",
       "text": [
        " -28 10.4744949468 398.571952163\n",
        "485.0"
       ]
      },
      {
       "output_type": "stream",
       "stream": "stdout",
       "text": [
        " -30 10.4547163394 398.471172406\n",
        "485.0"
       ]
      },
      {
       "output_type": "stream",
       "stream": "stdout",
       "text": [
        " -32 10.4349377321 398.363429301\n",
        "485.0"
       ]
      },
      {
       "output_type": "stream",
       "stream": "stdout",
       "text": [
        " -30 10.4417665879 398.471172406\n",
        "489.0"
       ]
      },
      {
       "output_type": "stream",
       "stream": "stdout",
       "text": [
        " -32 10.4349377321 398.363429301\n",
        "489.0"
       ]
      },
      {
       "output_type": "stream",
       "stream": "stdout",
       "text": [
        " -34 10.4151591247 398.248720237\n",
        "489.0"
       ]
      },
      {
       "output_type": "stream",
       "stream": "stdout",
       "text": [
        " -32 10.4279607748 398.363429301\n",
        "492.0"
       ]
      },
      {
       "output_type": "stream",
       "stream": "stdout",
       "text": [
        " -30 10.4295676484 398.471172406\n",
        "493.0"
       ]
      },
      {
       "output_type": "stream",
       "stream": "stdout",
       "text": [
        " -28 10.4577360531 398.571952163\n",
        "495.0"
       ]
      },
      {
       "output_type": "stream",
       "stream": "stdout",
       "text": [
        " -26 10.4775146605 398.665771013\n",
        "495.0"
       ]
      },
      {
       "output_type": "stream",
       "stream": "stdout",
       "text": [
        " -28 10.4759077868 398.571952163\n",
        "494.0"
       ]
      },
      {
       "output_type": "stream",
       "stream": "stdout",
       "text": [
        " -26 10.4827366427 398.665771013\n",
        "494.0"
       ]
      },
      {
       "output_type": "stream",
       "stream": "stdout",
       "text": [
        " -28 10.4699349926 398.571952163\n",
        "495.0"
       ]
      },
      {
       "output_type": "stream",
       "stream": "stdout",
       "text": [
        " -30 10.4571333425 398.471172406\n",
        "495.0"
       ]
      },
      {
       "output_type": "stream",
       "stream": "stdout",
       "text": [
        " -32 10.4373547351 398.363429301\n",
        "493.0"
       ]
      },
      {
       "output_type": "stream",
       "stream": "stdout",
       "text": [
        " -30 10.4263556532 398.471172406\n",
        "495.0"
       ]
      },
      {
       "output_type": "stream",
       "stream": "stdout",
       "text": [
        " -32 10.4247487795 398.363429301\n",
        "493.0"
       ]
      },
      {
       "output_type": "stream",
       "stream": "stdout",
       "text": [
        " -34 10.4277811088 398.248720237\n",
        "491.0"
       ]
      },
      {
       "output_type": "stream",
       "stream": "stdout",
       "text": [
        " -32 10.4247487795 398.363429301\n",
        "491.0"
       ]
      },
      {
       "output_type": "stream",
       "stream": "stdout",
       "text": [
        " -34 10.4357478615 398.248720237\n",
        "489.0"
       ]
      },
      {
       "output_type": "stream",
       "stream": "stdout",
       "text": [
        " -32 10.4247487795 398.363429301\n",
        "485.0"
       ]
      },
      {
       "output_type": "stream",
       "stream": "stdout",
       "text": [
        " -30 10.4175428112 398.471172406\n",
        "483.0"
       ]
      },
      {
       "output_type": "stream",
       "stream": "stdout",
       "text": [
        " -28 10.4373214186 398.571952163\n",
        "481.0"
       ]
      },
      {
       "output_type": "stream",
       "stream": "stdout",
       "text": [
        " -26 10.4441502744 398.665771013\n",
        "482.0"
       ]
      },
      {
       "output_type": "stream",
       "stream": "stdout",
       "text": [
        " -24 10.4569519245 398.752631226\n",
        "484.0"
       ]
      },
      {
       "output_type": "stream",
       "stream": "stdout",
       "text": [
        " -22 10.4697535746 398.832534903\n",
        "482.0"
       ]
      },
      {
       "output_type": "stream",
       "stream": "stdout",
       "text": [
        " -20 10.4979219793 398.905483976\n",
        "486.0"
       ]
      },
      {
       "output_type": "stream",
       "stream": "stdout",
       "text": [
        " -18 10.5366183648 398.971480208\n",
        "488.0"
       ]
      },
      {
       "output_type": "stream",
       "stream": "stdout",
       "text": [
        " -16 10.5294123964 399.030525194\n",
        "486.0"
       ]
      },
      {
       "output_type": "stream",
       "stream": "stdout",
       "text": [
        " -14 10.5422140465 399.082620358\n",
        "486.0"
       ]
      },
      {
       "output_type": "stream",
       "stream": "stdout",
       "text": [
        " -16 10.5452463758 399.030525194\n",
        "485.0"
       ]
      },
      {
       "output_type": "stream",
       "stream": "stdout",
       "text": [
        " -18 10.5170779711 398.971480208\n",
        "486.0"
       ]
      },
      {
       "output_type": "stream",
       "stream": "stdout",
       "text": [
        " -16 10.5140456418 399.030525194\n",
        "486.0"
       ]
      },
      {
       "output_type": "stream",
       "stream": "stdout",
       "text": [
        " -18 10.5212516102 398.971480208\n",
        "484.0"
       ]
      },
      {
       "output_type": "stream",
       "stream": "stdout",
       "text": [
        " -16 10.528080466 399.030525194\n",
        "484.0"
       ]
      },
      {
       "output_type": "stream",
       "stream": "stdout",
       "text": [
        " -14 10.5408821161 399.082620358\n",
        "484.0"
       ]
      },
      {
       "output_type": "stream",
       "stream": "stdout",
       "text": [
        " -16 10.5340532603 399.030525194\n",
        "484.0"
       ]
      },
      {
       "output_type": "stream",
       "stream": "stdout",
       "text": [
        " -14 10.5356601339 399.082620358\n",
        "482.0"
       ]
      },
      {
       "output_type": "stream",
       "stream": "stdout",
       "text": [
        " -16 10.5428661023 399.030525194\n",
        "482.0"
       ]
      },
      {
       "output_type": "stream",
       "stream": "stdout",
       "text": [
        " -14 10.544472976 399.082620358\n",
        "482.0"
       ]
      },
      {
       "output_type": "stream",
       "stream": "stdout",
       "text": [
        " -12 10.5513018318 399.127766959\n",
        "486.0"
       ]
      },
      {
       "output_type": "stream",
       "stream": "stdout",
       "text": [
        " -10 10.5710804392 399.165966086\n",
        "488.0"
       ]
      },
      {
       "output_type": "stream",
       "stream": "stdout",
       "text": [
        " -8 10.5726873128 399.197218661\n",
        "488.0"
       ]
      },
      {
       "output_type": "stream",
       "stream": "stdout",
       "text": [
        " -10 10.5836863948 399.165966086\n",
        "486.0"
       ]
      },
      {
       "output_type": "stream",
       "stream": "stdout",
       "text": [
        " -12 10.5820795211 399.127766959\n",
        "486.0"
       ]
      },
      {
       "output_type": "stream",
       "stream": "stdout",
       "text": [
        " -10 10.5836863948 399.165966086\n",
        "486.0"
       ]
      },
      {
       "output_type": "stream",
       "stream": "stdout",
       "text": [
        " -12 10.5449900093 399.127766959\n",
        "488.0"
       ]
      },
      {
       "output_type": "stream",
       "stream": "stdout",
       "text": [
        " -10 10.54195768 399.165966086\n",
        "486.0"
       ]
      },
      {
       "output_type": "stream",
       "stream": "stdout",
       "text": [
        " -8 10.5389253506 399.197218661\n",
        "486.0"
       ]
      },
      {
       "output_type": "stream",
       "stream": "stdout",
       "text": [
        " -6 10.5457542065 399.221525437\n",
        "486.0"
       ]
      },
      {
       "output_type": "stream",
       "stream": "stdout",
       "text": [
        " -4 10.5385482381 399.238887002\n",
        "486.0"
       ]
      },
      {
       "output_type": "stream",
       "stream": "stdout",
       "text": [
        " -6 10.5317193823 399.221525437\n",
        "486.0"
       ]
      },
      {
       "output_type": "stream",
       "stream": "stdout",
       "text": [
        " -8 10.5189177322 399.197218661\n",
        "488.0"
       ]
      },
      {
       "output_type": "stream",
       "stream": "stdout",
       "text": [
        " -10 10.5299168141 399.165966086\n",
        "488.0"
       ]
      },
      {
       "output_type": "stream",
       "stream": "stdout",
       "text": [
        " -12 10.5283099405 399.127766959\n",
        "489.0"
       ]
      },
      {
       "output_type": "stream",
       "stream": "stdout",
       "text": [
        " -10 10.5351387963 399.165966086\n",
        "487.0"
       ]
      },
      {
       "output_type": "stream",
       "stream": "stdout",
       "text": [
        " -12 10.5381711256 399.127766959\n",
        "485.0"
       ]
      },
      {
       "output_type": "stream",
       "stream": "stdout",
       "text": [
        " -10 10.5351387963 399.165966086\n",
        "487.0"
       ]
      },
      {
       "output_type": "stream",
       "stream": "stdout",
       "text": [
        " -8 10.532106467 399.197218661\n",
        "486.0"
       ]
      },
      {
       "output_type": "stream",
       "stream": "stdout",
       "text": [
        " -10 10.5252776111 399.165966086\n",
        "486.0"
       ]
      },
      {
       "output_type": "stream",
       "stream": "stdout",
       "text": [
        " -12 10.5124759611 399.127766959\n",
        "485.0"
       ]
      },
      {
       "output_type": "stream",
       "stream": "stdout",
       "text": [
        " -14 10.5056471052 399.082620358\n",
        "483.0"
       ]
      },
      {
       "output_type": "stream",
       "stream": "stdout",
       "text": [
        " -12 10.5338155099 399.127766959\n",
        "482.0"
       ]
      },
      {
       "output_type": "stream",
       "stream": "stdout",
       "text": [
        " -10 10.5266095415 399.165966086\n",
        "482.0"
       ]
      },
      {
       "output_type": "stream",
       "stream": "stdout",
       "text": [
        " -12 10.5296418709 399.127766959\n",
        "481.0"
       ]
      },
      {
       "output_type": "stream",
       "stream": "stdout",
       "text": [
        " -10 10.5312487445 399.165966086\n",
        "481.0"
       ]
      },
      {
       "output_type": "stream",
       "stream": "stdout",
       "text": [
        " -8 10.5440503946 399.197218661\n",
        "483.0"
       ]
      },
      {
       "output_type": "stream",
       "stream": "stdout",
       "text": [
        " -10 10.551256363 399.165966086\n",
        "482.0"
       ]
      },
      {
       "output_type": "stream",
       "stream": "stdout",
       "text": [
        " -8 10.5580852188 399.197218661\n",
        "482.0"
       ]
      },
      {
       "output_type": "stream",
       "stream": "stdout",
       "text": [
        " -6 10.5967816043 399.221525437\n",
        "480.0"
       ]
      },
      {
       "output_type": "stream",
       "stream": "stdout",
       "text": [
        " -8 10.5899527485 399.197218661\n",
        "478.0"
       ]
      },
      {
       "output_type": "stream",
       "stream": "stdout",
       "text": [
        " -10 10.5971587168 399.165966086\n",
        "479.0"
       ]
      },
      {
       "output_type": "stream",
       "stream": "stdout",
       "text": [
        " -8 10.5941263875 399.197218661\n",
        "479.0"
       ]
      },
      {
       "output_type": "stream",
       "stream": "stdout",
       "text": [
        " -6 10.6139049949 399.221525437\n",
        "481.0"
       ]
      },
      {
       "output_type": "stream",
       "stream": "stdout",
       "text": [
        " -4 10.626706645 399.238887002\n",
        "481.0"
       ]
      },
      {
       "output_type": "stream",
       "stream": "stdout",
       "text": [
        " -6 10.6250997713 399.221525437\n",
        "481.0"
       ]
      },
      {
       "output_type": "stream",
       "stream": "stdout",
       "text": [
        " -8 10.6122981212 399.197218661\n",
        "481.0"
       ]
      },
      {
       "output_type": "stream",
       "stream": "stdout",
       "text": [
        " -6 10.6250997713 399.221525437\n",
        "483.0"
       ]
      },
      {
       "output_type": "stream",
       "stream": "stdout",
       "text": [
        " -4 10.6319286272 399.238887002\n",
        "481.0"
       ]
      },
      {
       "output_type": "stream",
       "stream": "stdout",
       "text": [
        " -6 10.6349609565 399.221525437\n",
        "483.0"
       ]
      },
      {
       "output_type": "stream",
       "stream": "stdout",
       "text": [
        " -4 10.673657342 399.238887002\n",
        "485.0"
       ]
      },
      {
       "output_type": "stream",
       "stream": "stdout",
       "text": [
        " -2 10.6864589921 399.249303773\n",
        "485.0"
       ]
      },
      {
       "output_type": "stream",
       "stream": "stdout",
       "text": [
        " -4 10.6582905874 399.238887002\n",
        "487.0"
       ]
      },
      {
       "output_type": "stream",
       "stream": "stdout",
       "text": [
        " -2 10.659897461 399.249303773\n",
        "485.0"
       ]
      },
      {
       "output_type": "stream",
       "stream": "stdout",
       "text": [
        " 0 10.6615043347 399.252776003\n",
        "483.0"
       ]
      },
      {
       "output_type": "stream",
       "stream": "stdout",
       "text": [
        " -2 10.63333593 399.249303773\n",
        "483.0"
       ]
      },
      {
       "output_type": "stream",
       "stream": "stdout",
       "text": [
        " 0 10.6401647858 399.252776003\n",
        "483.0"
       ]
      },
      {
       "output_type": "stream",
       "stream": "stdout",
       "text": [
        " 2 10.6417716595 399.249303773\n",
        "481.0"
       ]
      },
      {
       "output_type": "stream",
       "stream": "stdout",
       "text": [
        " 4 10.6433785332 399.238887002\n",
        "481.0"
       ]
      },
      {
       "output_type": "stream",
       "stream": "stdout",
       "text": [
        " 2 10.6305768831 399.249303773\n",
        "481.0"
       ]
      },
      {
       "output_type": "stream",
       "stream": "stdout",
       "text": [
        " 0 10.6289700094 399.252776003\n",
        "479.0"
       ]
      },
      {
       "output_type": "stream",
       "stream": "stdout",
       "text": [
        " -2 10.6273631358 399.249303773\n",
        "479.0"
       ]
      },
      {
       "output_type": "stream",
       "stream": "stdout",
       "text": [
        " 0 10.6289700094 399.252776003\n",
        "477.0"
       ]
      },
      {
       "output_type": "stream",
       "stream": "stdout",
       "text": [
        " 2 10.6676663949 399.249303773\n",
        "475.0"
       ]
      },
      {
       "output_type": "stream",
       "stream": "stdout",
       "text": [
        " 4 10.6744952507 399.238887002\n",
        "475.0"
       ]
      },
      {
       "output_type": "stream",
       "stream": "stdout",
       "text": [
        " 2 10.6728883771 399.249303773\n",
        "476.0"
       ]
      },
      {
       "output_type": "stream",
       "stream": "stdout",
       "text": [
        " 0 10.6759207064 399.252776003\n",
        "474.0"
       ]
      },
      {
       "output_type": "stream",
       "stream": "stdout",
       "text": [
        " -2 10.6631190563 399.249303773\n",
        "474.0"
       ]
      },
      {
       "output_type": "stream",
       "stream": "stdout",
       "text": [
        " 0 10.6759207064 399.252776003\n",
        "470.0"
       ]
      },
      {
       "output_type": "stream",
       "stream": "stdout",
       "text": [
        " 2 10.6552583493 399.249303773\n",
        "470.0"
       ]
      },
      {
       "output_type": "stream",
       "stream": "stdout",
       "text": [
        " 4 10.6522260199 399.238887002\n",
        "469.0"
       ]
      },
      {
       "output_type": "stream",
       "stream": "stdout",
       "text": [
        " 2 10.6453971641 399.249303773\n",
        "467.0"
       ]
      },
      {
       "output_type": "stream",
       "stream": "stdout",
       "text": [
        " 4 10.6381911957 399.238887002\n",
        "465.0"
       ]
      },
      {
       "output_type": "stream",
       "stream": "stdout",
       "text": [
        " 2 10.6313623399 399.249303773\n",
        "467.0"
       ]
      },
      {
       "output_type": "stream",
       "stream": "stdout",
       "text": [
        " 4 10.6381911957 399.238887002\n",
        "463.0"
       ]
      },
      {
       "output_type": "stream",
       "stream": "stdout",
       "text": [
        " 2 10.5994948102 399.249303773\n",
        "465.0"
       ]
      },
      {
       "output_type": "stream",
       "stream": "stdout",
       "text": [
        " 0 10.6067007786 399.252776003\n",
        "465.0"
       ]
      },
      {
       "output_type": "stream",
       "stream": "stdout",
       "text": [
        " -2 10.5998719228 399.249303773\n",
        "463.0"
       ]
      },
      {
       "output_type": "stream",
       "stream": "stdout",
       "text": [
        " -4 10.6029042521 399.238887002\n",
        "461.0"
       ]
      },
      {
       "output_type": "stream",
       "stream": "stdout",
       "text": [
        " -6 10.5642078666 399.221525437\n",
        "461.0"
       ]
      },
      {
       "output_type": "stream",
       "stream": "stdout",
       "text": [
        " -8 10.5714138349 399.197218661\n",
        "461.0"
       ]
      },
      {
       "output_type": "stream",
       "stream": "stdout",
       "text": [
        " -10 10.5586121848 399.165966086\n",
        "461.0"
       ]
      },
      {
       "output_type": "stream",
       "stream": "stdout",
       "text": [
        " -12 10.5616445141 399.127766959\n",
        "461.0"
       ]
      },
      {
       "output_type": "stream",
       "stream": "stdout",
       "text": [
        " -14 10.5600376405 399.082620358\n",
        "461.0"
       ]
      },
      {
       "output_type": "stream",
       "stream": "stdout",
       "text": [
        " -16 10.5672436088 399.030525194\n",
        "458.0"
       ]
      },
      {
       "output_type": "stream",
       "stream": "stdout",
       "text": [
        " -18 10.5143889703 398.971480208\n",
        "458.0"
       ]
      },
      {
       "output_type": "stream",
       "stream": "stdout",
       "text": [
        " -16 10.511356641 399.030525194\n",
        "456.0"
       ]
      },
      {
       "output_type": "stream",
       "stream": "stdout",
       "text": [
        " -14 10.5083243117 399.082620358\n",
        "456.0"
       ]
      },
      {
       "output_type": "stream",
       "stream": "stdout",
       "text": [
        " -12 10.5151531675 399.127766959\n",
        "454.0"
       ]
      },
      {
       "output_type": "stream",
       "stream": "stdout",
       "text": [
        " -14 10.5135462938 399.082620358\n",
        "454.0"
       ]
      },
      {
       "output_type": "stream",
       "stream": "stdout",
       "text": [
        " -12 10.5151531675 399.127766959\n",
        "453.0"
       ]
      },
      {
       "output_type": "stream",
       "stream": "stdout",
       "text": [
        " -10 10.5079471991 399.165966086\n",
        "451.0"
       ]
      },
      {
       "output_type": "stream",
       "stream": "stdout",
       "text": [
        " -8 10.4969481172 399.197218661\n",
        "455.0"
       ]
      },
      {
       "output_type": "stream",
       "stream": "stdout",
       "text": [
        " -6 10.4985549909 399.221525437\n",
        "456.0"
       ]
      },
      {
       "output_type": "stream",
       "stream": "stdout",
       "text": [
        " -4 10.5001618645 399.238887002\n",
        "458.0"
       ]
      },
      {
       "output_type": "stream",
       "stream": "stdout",
       "text": [
        " -6 10.5031941938 399.221525437\n",
        "456.0"
       ]
      },
      {
       "output_type": "stream",
       "stream": "stdout",
       "text": [
        " -8 10.5015873202 399.197218661\n",
        "460.0"
       ]
      },
      {
       "output_type": "stream",
       "stream": "stdout",
       "text": [
        " -10 10.5046196495 399.165966086\n",
        "462.0"
       ]
      },
      {
       "output_type": "stream",
       "stream": "stdout",
       "text": [
        " -12 10.5076519788 399.127766959\n",
        "466.0"
       ]
      },
      {
       "output_type": "stream",
       "stream": "stdout",
       "text": [
        " -14 10.5106843081 399.082620358\n",
        "466.0"
       ]
      },
      {
       "output_type": "stream",
       "stream": "stdout",
       "text": [
        " -16 10.497882658 399.030525194\n",
        "466.0"
       ]
      },
      {
       "output_type": "stream",
       "stream": "stdout",
       "text": [
        " -18 10.4591862725 398.971480208\n",
        "462.0"
       ]
      },
      {
       "output_type": "stream",
       "stream": "stdout",
       "text": [
        " -20 10.420489887 398.905483976\n",
        "458.0"
       ]
      },
      {
       "output_type": "stream",
       "stream": "stdout",
       "text": [
        " -22 10.4188830134 398.832534903\n",
        "457.0"
       ]
      },
      {
       "output_type": "stream",
       "stream": "stdout",
       "text": [
        " -24 10.4172761397 398.752631226\n",
        "455.0"
       ]
      },
      {
       "output_type": "stream",
       "stream": "stdout",
       "text": [
        " -26 10.3785797542 398.665771013\n",
        "457.0"
       ]
      },
      {
       "output_type": "stream",
       "stream": "stdout",
       "text": [
        " -24 10.3854086101 398.752631226\n",
        "459.0"
       ]
      },
      {
       "output_type": "stream",
       "stream": "stdout",
       "text": [
        " -22 10.4241049956 398.832534903\n",
        "457.0"
       ]
      },
      {
       "output_type": "stream",
       "stream": "stdout",
       "text": [
        " -24 10.371250357 398.752631226\n",
        "457.0"
       ]
      },
      {
       "output_type": "stream",
       "stream": "stdout",
       "text": [
        " -26 10.3696434834 398.665771013\n",
        "455.0"
       ]
      },
      {
       "output_type": "stream",
       "stream": "stdout",
       "text": [
        " -28 10.3628146275 398.571952163\n",
        "453.0"
       ]
      },
      {
       "output_type": "stream",
       "stream": "stdout",
       "text": [
        " -26 10.3644215012 398.665771013\n",
        "451.0"
       ]
      },
      {
       "output_type": "stream",
       "stream": "stdout",
       "text": [
        " -28 10.3628146275 398.571952163\n",
        "453.0"
       ]
      },
      {
       "output_type": "stream",
       "stream": "stdout",
       "text": [
        " -26 10.3644215012 398.665771013\n",
        "451.0"
       ]
      },
      {
       "output_type": "stream",
       "stream": "stdout",
       "text": [
        " -28 10.3628146275 398.571952163\n",
        "453.0"
       ]
      },
      {
       "output_type": "stream",
       "stream": "stdout",
       "text": [
        " -26 10.3644215012 398.665771013\n",
        "451.0"
       ]
      },
      {
       "output_type": "stream",
       "stream": "stdout",
       "text": [
        " -28 10.3575926453 398.571952163\n",
        "449.0"
       ]
      },
      {
       "output_type": "stream",
       "stream": "stdout",
       "text": [
        " -26 10.354560316 398.665771013\n",
        "451.0"
       ]
      },
      {
       "output_type": "stream",
       "stream": "stdout",
       "text": [
        " -28 10.3477314602 398.571952163\n",
        "454.0"
       ]
      },
      {
       "output_type": "stream",
       "stream": "stdout",
       "text": [
        " -30 10.3461245865 398.471172406\n",
        "456.0"
       ]
      },
      {
       "output_type": "stream",
       "stream": "stdout",
       "text": [
        " -32 10.3392957307 398.363429301\n",
        "456.0"
       ]
      },
      {
       "output_type": "stream",
       "stream": "stdout",
       "text": [
        " -30 10.3520973808 398.471172406\n",
        "459.0"
       ]
      },
      {
       "output_type": "stream",
       "stream": "stdout",
       "text": [
        " -32 10.3323187734 398.363429301\n",
        "459.0"
       ]
      },
      {
       "output_type": "stream",
       "stream": "stdout",
       "text": [
        " -30 10.333925647 398.471172406\n",
        "457.0"
       ]
      },
      {
       "output_type": "stream",
       "stream": "stdout",
       "text": [
        " -28 10.3308933177 398.571952163\n",
        "459.0"
       ]
      },
      {
       "output_type": "stream",
       "stream": "stdout",
       "text": [
        " -30 10.333925647 398.471172406\n",
        "459.0"
       ]
      },
      {
       "output_type": "stream",
       "stream": "stdout",
       "text": [
        " -28 10.3407545029 398.571952163\n",
        "457.0"
       ]
      },
      {
       "output_type": "stream",
       "stream": "stdout",
       "text": [
        " -26 10.3377221736 398.665771013\n",
        "458.0"
       ]
      },
      {
       "output_type": "stream",
       "stream": "stdout",
       "text": [
        " -24 10.3445510294 398.752631226\n",
        "460.0"
       ]
      },
      {
       "output_type": "stream",
       "stream": "stdout",
       "text": [
        " -22 10.397405668 398.832534903\n",
        "458.0"
       ]
      },
      {
       "output_type": "stream",
       "stream": "stdout",
       "text": [
        " -24 10.3905768121 398.752631226\n",
        "458.0"
       ]
      },
      {
       "output_type": "stream",
       "stream": "stdout",
       "text": [
        " -22 10.4434314507 398.832534903\n",
        "458.0"
       ]
      },
      {
       "output_type": "stream",
       "stream": "stdout",
       "text": [
        " -24 10.4366025948 398.752631226\n",
        "458.0"
       ]
      },
      {
       "output_type": "stream",
       "stream": "stdout",
       "text": [
        " -22 10.4221272607 398.832534903\n",
        "456.0"
       ]
      },
      {
       "output_type": "stream",
       "stream": "stdout",
       "text": [
        " -24 10.3834308752 398.752631226\n",
        "456.0"
       ]
      },
      {
       "output_type": "stream",
       "stream": "stdout",
       "text": [
        " -26 10.3818240016 398.665771013\n",
        "454.0"
       ]
      },
      {
       "output_type": "stream",
       "stream": "stdout",
       "text": [
        " -28 10.3690223515 398.571952163\n",
        "450.0"
       ]
      },
      {
       "output_type": "stream",
       "stream": "stdout",
       "text": [
        " -30 10.3492437441 398.471172406\n",
        "450.0"
       ]
      },
      {
       "output_type": "stream",
       "stream": "stdout",
       "text": [
        " -28 10.3879401296 398.571952163\n",
        "450.0"
       ]
      },
      {
       "output_type": "stream",
       "stream": "stdout",
       "text": [
        " -26 10.3895470032 398.665771013\n",
        "448.0"
       ]
      },
      {
       "output_type": "stream",
       "stream": "stdout",
       "text": [
        " -24 10.3963758591 398.752631226\n",
        "448.0"
       ]
      },
      {
       "output_type": "stream",
       "stream": "stdout",
       "text": [
        " -26 10.3947689854 398.665771013\n",
        "449.0"
       ]
      },
      {
       "output_type": "stream",
       "stream": "stdout",
       "text": [
        " -24 10.4334653709 398.752631226\n",
        "453.0"
       ]
      },
      {
       "output_type": "stream",
       "stream": "stdout",
       "text": [
        " -22 10.4721617564 398.832534903\n",
        "453.0"
       ]
      },
      {
       "output_type": "stream",
       "stream": "stdout",
       "text": [
        " -24 10.4705548828 398.752631226\n",
        "453.0"
       ]
      },
      {
       "output_type": "stream",
       "stream": "stdout",
       "text": [
        " -26 10.4689480091 398.665771013\n",
        "453.0"
       ]
      },
      {
       "output_type": "stream",
       "stream": "stdout",
       "text": [
        " -28 10.4621191533 398.571952163\n",
        "451.0"
       ]
      },
      {
       "output_type": "stream",
       "stream": "stdout",
       "text": [
        " -26 10.4637260269 398.665771013\n",
        "452.0"
       ]
      },
      {
       "output_type": "stream",
       "stream": "stdout",
       "text": [
        " -24 10.4606936976 398.752631226\n",
        "450.0"
       ]
      },
      {
       "output_type": "stream",
       "stream": "stdout",
       "text": [
        " -22 10.4534877292 398.832534903\n",
        "453.0"
       ]
      },
      {
       "output_type": "stream",
       "stream": "stdout",
       "text": [
        " -24 10.4565200586 398.752631226\n",
        "451.0"
       ]
      },
      {
       "output_type": "stream",
       "stream": "stdout",
       "text": [
        " -26 10.4496912027 398.665771013\n",
        "453.0"
       ]
      },
      {
       "output_type": "stream",
       "stream": "stdout",
       "text": [
        " -28 10.452723532 398.571952163\n",
        "453.0"
       ]
      },
      {
       "output_type": "stream",
       "stream": "stdout",
       "text": [
        " -26 10.4496912027 398.665771013\n",
        "453.0"
       ]
      },
      {
       "output_type": "stream",
       "stream": "stdout",
       "text": [
        " -24 10.4624928528 398.752631226\n",
        "454.0"
       ]
      },
      {
       "output_type": "stream",
       "stream": "stdout",
       "text": [
        " -26 10.4655251821 398.665771013\n",
        "454.0"
       ]
      },
      {
       "output_type": "stream",
       "stream": "stdout",
       "text": [
        " -28 10.4685575114 398.571952163\n",
        "454.0"
       ]
      },
      {
       "output_type": "stream",
       "stream": "stdout",
       "text": [
        " -26 10.4575584295 398.665771013\n",
        "452.0"
       ]
      },
      {
       "output_type": "stream",
       "stream": "stdout",
       "text": [
        " -24 10.4591653032 398.752631226\n",
        "452.0"
       ]
      },
      {
       "output_type": "stream",
       "stream": "stdout",
       "text": [
        " -22 10.4873337079 398.832534903\n",
        "452.0"
       ]
      },
      {
       "output_type": "stream",
       "stream": "stdout",
       "text": [
        " -24 10.480504852 398.752631226\n",
        "450.0"
       ]
      },
      {
       "output_type": "stream",
       "stream": "stdout",
       "text": [
        " -22 10.5086732567 398.832534903\n",
        "450.0"
       ]
      },
      {
       "output_type": "stream",
       "stream": "stdout",
       "text": [
        " -20 10.5214749068 398.905483976\n",
        "447.0"
       ]
      },
      {
       "output_type": "stream",
       "stream": "stdout",
       "text": [
        " -18 10.5184425775 398.971480208\n",
        "449.0"
       ]
      },
      {
       "output_type": "stream",
       "stream": "stdout",
       "text": [
        " -20 10.5256485458 398.905483976\n",
        "449.0"
       ]
      },
      {
       "output_type": "stream",
       "stream": "stdout",
       "text": [
        " -22 10.5128468957 398.832534903\n",
        "449.0"
       ]
      },
      {
       "output_type": "stream",
       "stream": "stdout",
       "text": [
        " -20 10.5196757516 398.905483976\n",
        "447.0"
       ]
      },
      {
       "output_type": "stream",
       "stream": "stdout",
       "text": [
        " -18 10.5166434223 398.971480208\n",
        "451.0"
       ]
      },
      {
       "output_type": "stream",
       "stream": "stdout",
       "text": [
        " -16 10.5364220297 399.030525194\n",
        "453.0"
       ]
      },
      {
       "output_type": "stream",
       "stream": "stdout",
       "text": [
        " -18 10.5474211116 398.971480208\n",
        "455.0"
       ]
      },
      {
       "output_type": "stream",
       "stream": "stdout",
       "text": [
        " -16 10.5490279852 399.030525194\n",
        "457.0"
       ]
      },
      {
       "output_type": "stream",
       "stream": "stdout",
       "text": [
        " -18 10.5520603146 398.971480208\n",
        "457.0"
       ]
      },
      {
       "output_type": "stream",
       "stream": "stdout",
       "text": [
        " -16 10.5802287193 399.030525194\n",
        "455.0"
       ]
      },
      {
       "output_type": "stream",
       "stream": "stdout",
       "text": [
        " -18 10.5786218456 398.971480208\n",
        "457.0"
       ]
      },
      {
       "output_type": "stream",
       "stream": "stdout",
       "text": [
        " -16 10.598400453 399.030525194\n",
        "457.0"
       ]
      },
      {
       "output_type": "stream",
       "stream": "stdout",
       "text": [
        " -14 10.6112021031 399.082620358\n",
        "458.0"
       ]
      },
      {
       "output_type": "stream",
       "stream": "stdout",
       "text": [
        " -16 10.598400453 399.030525194\n",
        "456.0"
       ]
      },
      {
       "output_type": "stream",
       "stream": "stdout",
       "text": [
        " -18 10.6014327823 398.971480208\n",
        "455.0"
       ]
      },
      {
       "output_type": "stream",
       "stream": "stdout",
       "text": [
        " -16 10.6142344324 399.030525194\n",
        "455.0"
       ]
      },
      {
       "output_type": "stream",
       "stream": "stdout",
       "text": [
        " -14 10.6529308179 399.082620358\n",
        "455.0"
       ]
      },
      {
       "output_type": "stream",
       "stream": "stdout",
       "text": [
        " -12 10.6545376915 399.127766959\n",
        "452.0"
       ]
      },
      {
       "output_type": "stream",
       "stream": "stdout",
       "text": [
        " -14 10.6263692868 399.082620358\n",
        "452.0"
       ]
      },
      {
       "output_type": "stream",
       "stream": "stdout",
       "text": [
        " -16 10.6135676367 399.030525194\n",
        "453.0"
       ]
      },
      {
       "output_type": "stream",
       "stream": "stdout",
       "text": [
        " -18 10.6165999661 398.971480208\n",
        "453.0"
       ]
      },
      {
       "output_type": "stream",
       "stream": "stdout",
       "text": [
        " -16 10.6234288219 399.030525194\n",
        "454.0"
       ]
      },
      {
       "output_type": "stream",
       "stream": "stdout",
       "text": [
        " -18 10.637904156 398.971480208\n",
        "453.0"
       ]
      },
      {
       "output_type": "stream",
       "stream": "stdout",
       "text": [
        " -20 10.6362972824 398.905483976\n",
        "451.0"
       ]
      },
      {
       "output_type": "stream",
       "stream": "stdout",
       "text": [
        " -18 10.6490989325 398.971480208\n",
        "447.0"
       ]
      },
      {
       "output_type": "stream",
       "stream": "stdout",
       "text": [
        " -16 10.6418929641 399.030525194\n",
        "446.0"
       ]
      },
      {
       "output_type": "stream",
       "stream": "stdout",
       "text": [
        " -18 10.6402860905 398.971480208\n",
        "450.0"
       ]
      },
      {
       "output_type": "stream",
       "stream": "stdout",
       "text": [
        " -20 10.6334572346 398.905483976\n",
        "446.0"
       ]
      },
      {
       "output_type": "stream",
       "stream": "stdout",
       "text": [
        " -22 10.6206555845 398.832534903\n",
        "444.0"
       ]
      },
      {
       "output_type": "stream",
       "stream": "stdout",
       "text": [
        " -24 10.6078539344 398.752631226\n",
        "442.0"
       ]
      },
      {
       "output_type": "stream",
       "stream": "stdout",
       "text": [
        " -22 10.6146827903 398.832534903\n",
        "442.0"
       ]
      },
      {
       "output_type": "stream",
       "stream": "stdout",
       "text": [
        " -20 10.6215116461 398.905483976\n",
        "442.0"
       ]
      },
      {
       "output_type": "stream",
       "stream": "stdout",
       "text": [
        " -18 10.6343132962 398.971480208\n",
        "444.0"
       ]
      },
      {
       "output_type": "stream",
       "stream": "stdout",
       "text": [
        " -16 10.6624817009 399.030525194\n",
        "442.0"
       ]
      },
      {
       "output_type": "stream",
       "stream": "stdout",
       "text": [
        " -14 10.6594493716 399.082620358\n",
        "442.0"
       ]
      },
      {
       "output_type": "stream",
       "stream": "stdout",
       "text": [
        " -16 10.6526205158 399.030525194\n",
        "444.0"
       ]
      },
      {
       "output_type": "stream",
       "stream": "stdout",
       "text": [
        " -14 10.6594493716 399.082620358\n",
        "446.0"
       ]
      },
      {
       "output_type": "stream",
       "stream": "stdout",
       "text": [
        " -12 10.679227979 399.127766959\n",
        "442.0"
       ]
      },
      {
       "output_type": "stream",
       "stream": "stdout",
       "text": [
        " -10 10.6860568348 399.165966086\n",
        "442.0"
       ]
      },
      {
       "output_type": "stream",
       "stream": "stdout",
       "text": [
        " -12 10.679227979 399.127766959\n",
        "442.0"
       ]
      },
      {
       "output_type": "stream",
       "stream": "stdout",
       "text": [
        " -14 10.6723991231 399.082620358\n",
        "442.0"
       ]
      },
      {
       "output_type": "stream",
       "stream": "stdout",
       "text": [
        " -16 10.6707922495 399.030525194\n"
       ]
      }
     ],
     "prompt_number": 30
    },
    {
     "cell_type": "code",
     "collapsed": false,
     "input": [
      "plt.close()"
     ],
     "language": "python",
     "metadata": {},
     "outputs": [],
     "prompt_number": 20
    },
    {
     "cell_type": "code",
     "collapsed": false,
     "input": [
      "np.append(boundaries, meas_domain(s))\n"
     ],
     "language": "python",
     "metadata": {},
     "outputs": [
      {
       "output_type": "pyout",
       "prompt_number": 22,
       "text": [
        "array([ 250.,  250.])"
       ]
      }
     ],
     "prompt_number": 22
    },
    {
     "cell_type": "code",
     "collapsed": false,
     "input": [
      "np.size(boundaries)"
     ],
     "language": "python",
     "metadata": {},
     "outputs": [
      {
       "output_type": "pyout",
       "prompt_number": 17,
       "text": [
        "1"
       ]
      }
     ],
     "prompt_number": 17
    },
    {
     "cell_type": "code",
     "collapsed": false,
     "input": [
      "np.sum(J)"
     ],
     "language": "python",
     "metadata": {},
     "outputs": [
      {
       "output_type": "pyout",
       "prompt_number": 19,
       "text": [
        "-9900.0"
       ]
      }
     ],
     "prompt_number": 19
    },
    {
     "cell_type": "code",
     "collapsed": false,
     "input": [
      "plt.figure(1)\n",
      "plt.plot(boundaries)\n",
      "plt.figure(2)\n",
      "plt.plot(total_m)\n",
      "plt.show()"
     ],
     "language": "python",
     "metadata": {},
     "outputs": [],
     "prompt_number": 44
    },
    {
     "cell_type": "code",
     "collapsed": false,
     "input": [
      "boundaries"
     ],
     "language": "python",
     "metadata": {},
     "outputs": [
      {
       "output_type": "pyout",
       "prompt_number": 30,
       "text": [
        "266.0"
       ]
      }
     ],
     "prompt_number": 30
    },
    {
     "cell_type": "code",
     "collapsed": false,
     "input": [],
     "language": "python",
     "metadata": {},
     "outputs": [],
     "prompt_number": 30
    },
    {
     "cell_type": "code",
     "collapsed": false,
     "input": [],
     "language": "python",
     "metadata": {},
     "outputs": []
    }
   ],
   "metadata": {}
  }
 ]
}